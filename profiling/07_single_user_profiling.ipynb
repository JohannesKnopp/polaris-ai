{
 "cells": [
  {
   "cell_type": "markdown",
   "id": "32526007-579c-43af-8c25-fd073b50a852",
   "metadata": {},
   "source": [
    "# Single user profiling"
   ]
  },
  {
   "cell_type": "markdown",
   "id": "ceee8979-8c26-4ce6-940c-d9ddd2b4d66f",
   "metadata": {},
   "source": [
    "In this notebook, we analyze the process chosen for profiling, with a single user. This study goes in the direction of exploring the potential of the proposed approach in extracting profiles in a hierarchical way."
   ]
  },
  {
   "cell_type": "markdown",
   "id": "5fa778ce-5b7a-4a7c-9e3d-f02f5fc05642",
   "metadata": {},
   "source": [
    "## Imports"
   ]
  },
  {
   "cell_type": "code",
   "execution_count": 1,
   "id": "bf0b1064-2d5f-404b-a6b8-4992ed9fba08",
   "metadata": {
    "execution": {
     "iopub.execute_input": "2022-01-25T16:38:20.412888Z",
     "iopub.status.busy": "2022-01-25T16:38:20.411580Z",
     "iopub.status.idle": "2022-01-25T16:38:27.793840Z",
     "shell.execute_reply": "2022-01-25T16:38:27.790240Z",
     "shell.execute_reply.started": "2022-01-25T16:38:20.412473Z"
    },
    "tags": []
   },
   "outputs": [],
   "source": [
    "import pandas as pd\n",
    "\n",
    "import numpy as np\n",
    "import random\n",
    "\n",
    "import os\n",
    "from collections import Counter\n",
    "import pickle\n",
    "\n",
    "import matplotlib.pyplot as plt\n",
    "import matplotlib.cm as cm\n",
    "import numpy as np\n",
    "\n",
    "import seaborn as sns\n",
    "\n",
    "from sklearn.cluster import KMeans\n",
    "\n",
    "from sklearn.decomposition import PCA\n",
    "from sklearn.preprocessing import StandardScaler\n",
    "from sklearn.preprocessing import MinMaxScaler\n",
    "from sklearn.pipeline import make_pipeline\n",
    "from sklearn import metrics\n",
    "from sklearn.metrics import silhouette_samples, silhouette_score\n",
    "from sklearn.ensemble import RandomForestClassifier\n",
    "from sklearn.model_selection import KFold\n",
    "from sklearn.model_selection import cross_val_score\n",
    "from sklearn.model_selection import cross_validate\n",
    "from sklearn.compose import ColumnTransformer\n",
    "from sklearn.preprocessing import OneHotEncoder\n",
    "\n",
    "import xgboost as xgb\n",
    "\n",
    "from time import time\n",
    "\n",
    "from gcd_dask_mgmt import extract_delayed_dask_dataframe\n",
    "\n",
    "from clustering_functions import extract_kmeans_stats\n",
    "\n",
    "from plot_functions import plot_silhouette_results\n",
    "from plot_functions import plot_feature_scatter"
   ]
  },
  {
   "cell_type": "markdown",
   "id": "b5ed9c3b-5ecd-4f64-b44d-2977baae9626",
   "metadata": {},
   "source": [
    "## Load data"
   ]
  },
  {
   "cell_type": "code",
   "execution_count": 2,
   "id": "abdec56a-a137-4344-92c6-e7e2981c0916",
   "metadata": {
    "execution": {
     "iopub.execute_input": "2022-01-25T16:38:27.799618Z",
     "iopub.status.busy": "2022-01-25T16:38:27.798485Z",
     "iopub.status.idle": "2022-01-25T16:38:28.482192Z",
     "shell.execute_reply": "2022-01-25T16:38:28.458079Z",
     "shell.execute_reply.started": "2022-01-25T16:38:27.799481Z"
    }
   },
   "outputs": [],
   "source": [
    "readings_task_usage_df = pd.read_csv(\"data/sample_jobs_summary_10perc.csv\", header=[0,1], index_col=[0])"
   ]
  },
  {
   "cell_type": "code",
   "execution_count": 3,
   "id": "41461e26-2cf3-4da2-adc6-f84be77eb0b6",
   "metadata": {
    "execution": {
     "iopub.execute_input": "2022-01-25T16:38:28.487072Z",
     "iopub.status.busy": "2022-01-25T16:38:28.486178Z",
     "iopub.status.idle": "2022-01-25T16:38:29.972196Z",
     "shell.execute_reply": "2022-01-25T16:38:29.948072Z",
     "shell.execute_reply.started": "2022-01-25T16:38:28.486983Z"
    }
   },
   "outputs": [],
   "source": [
    "static_metrics = pd.read_csv('data/static_metrics_and_kmeans.csv')"
   ]
  },
  {
   "cell_type": "code",
   "execution_count": 4,
   "id": "105c140b-cfb6-4686-a503-24e58a930045",
   "metadata": {
    "execution": {
     "iopub.execute_input": "2022-01-25T16:38:29.977857Z",
     "iopub.status.busy": "2022-01-25T16:38:29.976743Z",
     "iopub.status.idle": "2022-01-25T16:38:30.267247Z",
     "shell.execute_reply": "2022-01-25T16:38:30.243147Z",
     "shell.execute_reply.started": "2022-01-25T16:38:29.977718Z"
    }
   },
   "outputs": [],
   "source": [
    "users_analysis = static_metrics.groupby([\"user\"])[\"logical job name\"].nunique()"
   ]
  },
  {
   "cell_type": "code",
   "execution_count": 5,
   "id": "f52ff39c-862f-46bb-b9b1-89fb1b4518c0",
   "metadata": {
    "execution": {
     "iopub.execute_input": "2022-01-25T16:38:30.278243Z",
     "iopub.status.busy": "2022-01-25T16:38:30.276834Z",
     "iopub.status.idle": "2022-01-25T16:38:30.455226Z",
     "shell.execute_reply": "2022-01-25T16:38:30.431085Z",
     "shell.execute_reply.started": "2022-01-25T16:38:30.278050Z"
    },
    "tags": []
   },
   "outputs": [
    {
     "data": {
      "text/plain": [
       "user\n",
       "Nugr6rX+U6WELDvGY6ars76339mw/Uc2fgD1/rZ6fkA=    97\n",
       "Op11yM+i4aMyxMb8N6hFedpCfOPvx2DrE+hMR89KQhM=    95\n",
       "JbqRxZYX7GvL8n1DA2FRayE2ZzbB9bFinfQtV/GwKDM=    92\n",
       "vXgLfCPJ4LrZfulMjeDWkrZt6QtgdPccp2zduVjmyYQ=    87\n",
       "XXdY557FQk791swgplLkVfyX7Vr1lIHuSKR+pnbZWR8=    86\n",
       "AeI72OXfCjMJ4HAzwOV8am5Nt8EySEb8mNMsXdrC/GM=    79\n",
       "r/Al6kYJOwZITr6wi4pAlEwyGv5TM2EkJ8woA5hszeA=    75\n",
       "f7F3iYlP9QqyuUyW8v/H8sCjOf6XEy+lP3bzejIRLK0=    75\n",
       "tbZPogOJtA44Ygqw4BwvPZtCKXXYfYruoPdw46vu4hs=    72\n",
       "z53fq865Ppz6aKpoOhT+MxI8GoIW6WMVzWwaseVvYW0=    66\n",
       "Name: logical job name, dtype: int64"
      ]
     },
     "execution_count": 5,
     "metadata": {},
     "output_type": "execute_result"
    }
   ],
   "source": [
    "users_analysis[(users_analysis > 10) & (users_analysis < 100)].sort_values(ascending=False).head(10)"
   ]
  },
  {
   "cell_type": "code",
   "execution_count": 6,
   "id": "3d8aebec-81eb-42f4-b4e5-e2e5b4501e7e",
   "metadata": {
    "execution": {
     "iopub.execute_input": "2022-01-25T16:38:30.473273Z",
     "iopub.status.busy": "2022-01-25T16:38:30.471813Z",
     "iopub.status.idle": "2022-01-25T16:38:30.558215Z",
     "shell.execute_reply": "2022-01-25T16:38:30.534083Z",
     "shell.execute_reply.started": "2022-01-25T16:38:30.473091Z"
    }
   },
   "outputs": [],
   "source": [
    "SELECTED_USER = \"Nugr6rX+U6WELDvGY6ars76339mw/Uc2fgD1/rZ6fkA=\""
   ]
  },
  {
   "cell_type": "code",
   "execution_count": 7,
   "id": "fdc3d88e-c995-4e91-bb5f-eb1714a53f8c",
   "metadata": {
    "execution": {
     "iopub.execute_input": "2022-01-25T16:38:30.574631Z",
     "iopub.status.busy": "2022-01-25T16:38:30.562905Z",
     "iopub.status.idle": "2022-01-25T16:38:31.073288Z",
     "shell.execute_reply": "2022-01-25T16:38:31.049186Z",
     "shell.execute_reply.started": "2022-01-25T16:38:30.574392Z"
    }
   },
   "outputs": [
    {
     "data": {
      "text/html": [
       "<div>\n",
       "<style scoped>\n",
       "    .dataframe tbody tr th:only-of-type {\n",
       "        vertical-align: middle;\n",
       "    }\n",
       "\n",
       "    .dataframe tbody tr th {\n",
       "        vertical-align: top;\n",
       "    }\n",
       "\n",
       "    .dataframe thead th {\n",
       "        text-align: right;\n",
       "    }\n",
       "</style>\n",
       "<table border=\"1\" class=\"dataframe\">\n",
       "  <thead>\n",
       "    <tr style=\"text-align: right;\">\n",
       "      <th></th>\n",
       "      <th>job ID</th>\n",
       "      <th>priority</th>\n",
       "      <th>different machines restriction</th>\n",
       "      <th>disk space request - Q1</th>\n",
       "      <th>disk space request - Q2</th>\n",
       "      <th>disk space request - Q3</th>\n",
       "      <th>disk space request - Q4</th>\n",
       "      <th>disk space request - Quartiles</th>\n",
       "      <th>memory request - Q1</th>\n",
       "      <th>memory request - Q2</th>\n",
       "      <th>...</th>\n",
       "      <th>CPU request - Quartiles</th>\n",
       "      <th>priority labels</th>\n",
       "      <th>user</th>\n",
       "      <th>logical job name</th>\n",
       "      <th>scheduling class</th>\n",
       "      <th>K-Means = 2</th>\n",
       "      <th>K-Means = 4</th>\n",
       "      <th>K-Means = 6</th>\n",
       "      <th>K-Means = 8</th>\n",
       "      <th>K-Means = 10</th>\n",
       "    </tr>\n",
       "  </thead>\n",
       "  <tbody>\n",
       "    <tr>\n",
       "      <th>0</th>\n",
       "      <td>3418356</td>\n",
       "      <td>9</td>\n",
       "      <td>0</td>\n",
       "      <td>0</td>\n",
       "      <td>0</td>\n",
       "      <td>0</td>\n",
       "      <td>1</td>\n",
       "      <td>Q4</td>\n",
       "      <td>0</td>\n",
       "      <td>0</td>\n",
       "      <td>...</td>\n",
       "      <td>Q4</td>\n",
       "      <td>Production [9]</td>\n",
       "      <td>70s3v5qRyCO/1PCdI6fVXnrW8FU/w+5CKRSa72xgcIo=</td>\n",
       "      <td>fGRnr2XEPDr3kQsPccU/k1LELeeQonkj6hDpTP7ALkg=</td>\n",
       "      <td>3</td>\n",
       "      <td>0</td>\n",
       "      <td>1</td>\n",
       "      <td>1</td>\n",
       "      <td>1</td>\n",
       "      <td>1</td>\n",
       "    </tr>\n",
       "    <tr>\n",
       "      <th>1</th>\n",
       "      <td>3418405</td>\n",
       "      <td>9</td>\n",
       "      <td>0</td>\n",
       "      <td>0</td>\n",
       "      <td>0</td>\n",
       "      <td>0</td>\n",
       "      <td>1</td>\n",
       "      <td>Q4</td>\n",
       "      <td>0</td>\n",
       "      <td>0</td>\n",
       "      <td>...</td>\n",
       "      <td>Q4</td>\n",
       "      <td>Production [9]</td>\n",
       "      <td>70s3v5qRyCO/1PCdI6fVXnrW8FU/w+5CKRSa72xgcIo=</td>\n",
       "      <td>q6nwarTUw/Xct0ONQEdblvVhW8uWTquTp8C5la5YfRE=</td>\n",
       "      <td>3</td>\n",
       "      <td>0</td>\n",
       "      <td>1</td>\n",
       "      <td>1</td>\n",
       "      <td>1</td>\n",
       "      <td>1</td>\n",
       "    </tr>\n",
       "    <tr>\n",
       "      <th>2</th>\n",
       "      <td>6724949</td>\n",
       "      <td>9</td>\n",
       "      <td>0</td>\n",
       "      <td>0</td>\n",
       "      <td>0</td>\n",
       "      <td>0</td>\n",
       "      <td>1</td>\n",
       "      <td>Q4</td>\n",
       "      <td>0</td>\n",
       "      <td>0</td>\n",
       "      <td>...</td>\n",
       "      <td>Q4</td>\n",
       "      <td>Production [9]</td>\n",
       "      <td>70s3v5qRyCO/1PCdI6fVXnrW8FU/w+5CKRSa72xgcIo=</td>\n",
       "      <td>4my5Elvc5RumesxoVeuFovkoS28KYA9C3pIBi2bY5Io=</td>\n",
       "      <td>3</td>\n",
       "      <td>0</td>\n",
       "      <td>1</td>\n",
       "      <td>1</td>\n",
       "      <td>1</td>\n",
       "      <td>1</td>\n",
       "    </tr>\n",
       "    <tr>\n",
       "      <th>3</th>\n",
       "      <td>28185708</td>\n",
       "      <td>1</td>\n",
       "      <td>0</td>\n",
       "      <td>1</td>\n",
       "      <td>0</td>\n",
       "      <td>0</td>\n",
       "      <td>0</td>\n",
       "      <td>Q1</td>\n",
       "      <td>0</td>\n",
       "      <td>1</td>\n",
       "      <td>...</td>\n",
       "      <td>Q3</td>\n",
       "      <td>Free [0,1]</td>\n",
       "      <td>WVtO5qw3sNnP4MeiRUnqr07CekrYMU12Mc7GbsgnjhQ=</td>\n",
       "      <td>JGBCBdeRFciFaU6LrbO9Y5w1lBoZ1MyX5Pnx4m05HK8=</td>\n",
       "      <td>2</td>\n",
       "      <td>0</td>\n",
       "      <td>1</td>\n",
       "      <td>1</td>\n",
       "      <td>1</td>\n",
       "      <td>1</td>\n",
       "    </tr>\n",
       "    <tr>\n",
       "      <th>4</th>\n",
       "      <td>124371644</td>\n",
       "      <td>9</td>\n",
       "      <td>0</td>\n",
       "      <td>0</td>\n",
       "      <td>0</td>\n",
       "      <td>0</td>\n",
       "      <td>1</td>\n",
       "      <td>Q4</td>\n",
       "      <td>0</td>\n",
       "      <td>0</td>\n",
       "      <td>...</td>\n",
       "      <td>Q3</td>\n",
       "      <td>Production [9]</td>\n",
       "      <td>70s3v5qRyCO/1PCdI6fVXnrW8FU/w+5CKRSa72xgcIo=</td>\n",
       "      <td>HcYZ4RNZRxmh/W+WuzNBOVk4sOCdDshVEB/McWxfyyk=</td>\n",
       "      <td>3</td>\n",
       "      <td>0</td>\n",
       "      <td>1</td>\n",
       "      <td>1</td>\n",
       "      <td>1</td>\n",
       "      <td>1</td>\n",
       "    </tr>\n",
       "    <tr>\n",
       "      <th>...</th>\n",
       "      <td>...</td>\n",
       "      <td>...</td>\n",
       "      <td>...</td>\n",
       "      <td>...</td>\n",
       "      <td>...</td>\n",
       "      <td>...</td>\n",
       "      <td>...</td>\n",
       "      <td>...</td>\n",
       "      <td>...</td>\n",
       "      <td>...</td>\n",
       "      <td>...</td>\n",
       "      <td>...</td>\n",
       "      <td>...</td>\n",
       "      <td>...</td>\n",
       "      <td>...</td>\n",
       "      <td>...</td>\n",
       "      <td>...</td>\n",
       "      <td>...</td>\n",
       "      <td>...</td>\n",
       "      <td>...</td>\n",
       "      <td>...</td>\n",
       "    </tr>\n",
       "    <tr>\n",
       "      <th>64928</th>\n",
       "      <td>6486612269</td>\n",
       "      <td>1</td>\n",
       "      <td>0</td>\n",
       "      <td>0</td>\n",
       "      <td>1</td>\n",
       "      <td>0</td>\n",
       "      <td>0</td>\n",
       "      <td>Q2</td>\n",
       "      <td>0</td>\n",
       "      <td>0</td>\n",
       "      <td>...</td>\n",
       "      <td>Q3</td>\n",
       "      <td>Free [0,1]</td>\n",
       "      <td>E+9U+J1Dicd5PJklbq2e5THQ29X6D8jmqQ0Zu53Kc+o=</td>\n",
       "      <td>QZm5VyyEiL9TpVhasvtcMxPxENJqlNX4Fn2LdEe+Ff0=</td>\n",
       "      <td>1</td>\n",
       "      <td>1</td>\n",
       "      <td>0</td>\n",
       "      <td>0</td>\n",
       "      <td>0</td>\n",
       "      <td>0</td>\n",
       "    </tr>\n",
       "    <tr>\n",
       "      <th>64929</th>\n",
       "      <td>6486612710</td>\n",
       "      <td>4</td>\n",
       "      <td>0</td>\n",
       "      <td>0</td>\n",
       "      <td>0</td>\n",
       "      <td>0</td>\n",
       "      <td>1</td>\n",
       "      <td>Q4</td>\n",
       "      <td>0</td>\n",
       "      <td>0</td>\n",
       "      <td>...</td>\n",
       "      <td>Q2</td>\n",
       "      <td>Other [2,8]</td>\n",
       "      <td>HxdST/yDI1TlIkr0Povf9KaXGGG8x4iVXX6o/iSIghM=</td>\n",
       "      <td>YI5372ouHbbTv6b594D2bDWC283uv6QcuE41Mst3BFk=</td>\n",
       "      <td>0</td>\n",
       "      <td>1</td>\n",
       "      <td>3</td>\n",
       "      <td>5</td>\n",
       "      <td>5</td>\n",
       "      <td>4</td>\n",
       "    </tr>\n",
       "    <tr>\n",
       "      <th>64930</th>\n",
       "      <td>6486630408</td>\n",
       "      <td>4</td>\n",
       "      <td>0</td>\n",
       "      <td>0</td>\n",
       "      <td>1</td>\n",
       "      <td>0</td>\n",
       "      <td>0</td>\n",
       "      <td>Q2</td>\n",
       "      <td>1</td>\n",
       "      <td>0</td>\n",
       "      <td>...</td>\n",
       "      <td>Q3</td>\n",
       "      <td>Other [2,8]</td>\n",
       "      <td>fJeARInTaIjFrdXGqxap6x2T3TpJB84y9zvFsoGGhjk=</td>\n",
       "      <td>ZoHIMIMjYenKtCPq0iy70XUxyF0JDf1HuW6yUzS4dBM=</td>\n",
       "      <td>0</td>\n",
       "      <td>1</td>\n",
       "      <td>0</td>\n",
       "      <td>0</td>\n",
       "      <td>0</td>\n",
       "      <td>0</td>\n",
       "    </tr>\n",
       "    <tr>\n",
       "      <th>64931</th>\n",
       "      <td>6486631154</td>\n",
       "      <td>8</td>\n",
       "      <td>0</td>\n",
       "      <td>0</td>\n",
       "      <td>1</td>\n",
       "      <td>0</td>\n",
       "      <td>0</td>\n",
       "      <td>Q2</td>\n",
       "      <td>0</td>\n",
       "      <td>1</td>\n",
       "      <td>...</td>\n",
       "      <td>Q2</td>\n",
       "      <td>Other [2,8]</td>\n",
       "      <td>fJeARInTaIjFrdXGqxap6x2T3TpJB84y9zvFsoGGhjk=</td>\n",
       "      <td>cLRsAgA+ajg6giausco6dsV5PxWsqEJZDLdHWhd6v0E=</td>\n",
       "      <td>2</td>\n",
       "      <td>1</td>\n",
       "      <td>0</td>\n",
       "      <td>0</td>\n",
       "      <td>0</td>\n",
       "      <td>0</td>\n",
       "    </tr>\n",
       "    <tr>\n",
       "      <th>64932</th>\n",
       "      <td>6486631394</td>\n",
       "      <td>0</td>\n",
       "      <td>0</td>\n",
       "      <td>0</td>\n",
       "      <td>1</td>\n",
       "      <td>0</td>\n",
       "      <td>0</td>\n",
       "      <td>Q2</td>\n",
       "      <td>0</td>\n",
       "      <td>1</td>\n",
       "      <td>...</td>\n",
       "      <td>Q1</td>\n",
       "      <td>Free [0,1]</td>\n",
       "      <td>fJeARInTaIjFrdXGqxap6x2T3TpJB84y9zvFsoGGhjk=</td>\n",
       "      <td>qScCQcMQhU296kH9oZSt8WJOwmgoO8LjakbqsWAyX1c=</td>\n",
       "      <td>2</td>\n",
       "      <td>1</td>\n",
       "      <td>0</td>\n",
       "      <td>0</td>\n",
       "      <td>0</td>\n",
       "      <td>0</td>\n",
       "    </tr>\n",
       "  </tbody>\n",
       "</table>\n",
       "<p>64933 rows × 27 columns</p>\n",
       "</div>"
      ],
      "text/plain": [
       "           job ID  priority  different machines restriction  \\\n",
       "0         3418356         9                               0   \n",
       "1         3418405         9                               0   \n",
       "2         6724949         9                               0   \n",
       "3        28185708         1                               0   \n",
       "4       124371644         9                               0   \n",
       "...           ...       ...                             ...   \n",
       "64928  6486612269         1                               0   \n",
       "64929  6486612710         4                               0   \n",
       "64930  6486630408         4                               0   \n",
       "64931  6486631154         8                               0   \n",
       "64932  6486631394         0                               0   \n",
       "\n",
       "       disk space request - Q1  disk space request - Q2  \\\n",
       "0                            0                        0   \n",
       "1                            0                        0   \n",
       "2                            0                        0   \n",
       "3                            1                        0   \n",
       "4                            0                        0   \n",
       "...                        ...                      ...   \n",
       "64928                        0                        1   \n",
       "64929                        0                        0   \n",
       "64930                        0                        1   \n",
       "64931                        0                        1   \n",
       "64932                        0                        1   \n",
       "\n",
       "       disk space request - Q3  disk space request - Q4  \\\n",
       "0                            0                        1   \n",
       "1                            0                        1   \n",
       "2                            0                        1   \n",
       "3                            0                        0   \n",
       "4                            0                        1   \n",
       "...                        ...                      ...   \n",
       "64928                        0                        0   \n",
       "64929                        0                        1   \n",
       "64930                        0                        0   \n",
       "64931                        0                        0   \n",
       "64932                        0                        0   \n",
       "\n",
       "      disk space request - Quartiles  memory request - Q1  \\\n",
       "0                                 Q4                    0   \n",
       "1                                 Q4                    0   \n",
       "2                                 Q4                    0   \n",
       "3                                 Q1                    0   \n",
       "4                                 Q4                    0   \n",
       "...                              ...                  ...   \n",
       "64928                             Q2                    0   \n",
       "64929                             Q4                    0   \n",
       "64930                             Q2                    1   \n",
       "64931                             Q2                    0   \n",
       "64932                             Q2                    0   \n",
       "\n",
       "       memory request - Q2  ...  CPU request - Quartiles  priority labels  \\\n",
       "0                        0  ...                       Q4   Production [9]   \n",
       "1                        0  ...                       Q4   Production [9]   \n",
       "2                        0  ...                       Q4   Production [9]   \n",
       "3                        1  ...                       Q3       Free [0,1]   \n",
       "4                        0  ...                       Q3   Production [9]   \n",
       "...                    ...  ...                      ...              ...   \n",
       "64928                    0  ...                       Q3       Free [0,1]   \n",
       "64929                    0  ...                       Q2      Other [2,8]   \n",
       "64930                    0  ...                       Q3      Other [2,8]   \n",
       "64931                    1  ...                       Q2      Other [2,8]   \n",
       "64932                    1  ...                       Q1       Free [0,1]   \n",
       "\n",
       "                                               user  \\\n",
       "0      70s3v5qRyCO/1PCdI6fVXnrW8FU/w+5CKRSa72xgcIo=   \n",
       "1      70s3v5qRyCO/1PCdI6fVXnrW8FU/w+5CKRSa72xgcIo=   \n",
       "2      70s3v5qRyCO/1PCdI6fVXnrW8FU/w+5CKRSa72xgcIo=   \n",
       "3      WVtO5qw3sNnP4MeiRUnqr07CekrYMU12Mc7GbsgnjhQ=   \n",
       "4      70s3v5qRyCO/1PCdI6fVXnrW8FU/w+5CKRSa72xgcIo=   \n",
       "...                                             ...   \n",
       "64928  E+9U+J1Dicd5PJklbq2e5THQ29X6D8jmqQ0Zu53Kc+o=   \n",
       "64929  HxdST/yDI1TlIkr0Povf9KaXGGG8x4iVXX6o/iSIghM=   \n",
       "64930  fJeARInTaIjFrdXGqxap6x2T3TpJB84y9zvFsoGGhjk=   \n",
       "64931  fJeARInTaIjFrdXGqxap6x2T3TpJB84y9zvFsoGGhjk=   \n",
       "64932  fJeARInTaIjFrdXGqxap6x2T3TpJB84y9zvFsoGGhjk=   \n",
       "\n",
       "                                   logical job name  scheduling class  \\\n",
       "0      fGRnr2XEPDr3kQsPccU/k1LELeeQonkj6hDpTP7ALkg=                 3   \n",
       "1      q6nwarTUw/Xct0ONQEdblvVhW8uWTquTp8C5la5YfRE=                 3   \n",
       "2      4my5Elvc5RumesxoVeuFovkoS28KYA9C3pIBi2bY5Io=                 3   \n",
       "3      JGBCBdeRFciFaU6LrbO9Y5w1lBoZ1MyX5Pnx4m05HK8=                 2   \n",
       "4      HcYZ4RNZRxmh/W+WuzNBOVk4sOCdDshVEB/McWxfyyk=                 3   \n",
       "...                                             ...               ...   \n",
       "64928  QZm5VyyEiL9TpVhasvtcMxPxENJqlNX4Fn2LdEe+Ff0=                 1   \n",
       "64929  YI5372ouHbbTv6b594D2bDWC283uv6QcuE41Mst3BFk=                 0   \n",
       "64930  ZoHIMIMjYenKtCPq0iy70XUxyF0JDf1HuW6yUzS4dBM=                 0   \n",
       "64931  cLRsAgA+ajg6giausco6dsV5PxWsqEJZDLdHWhd6v0E=                 2   \n",
       "64932  qScCQcMQhU296kH9oZSt8WJOwmgoO8LjakbqsWAyX1c=                 2   \n",
       "\n",
       "       K-Means = 2  K-Means = 4 K-Means = 6 K-Means = 8 K-Means = 10  \n",
       "0                0            1           1           1            1  \n",
       "1                0            1           1           1            1  \n",
       "2                0            1           1           1            1  \n",
       "3                0            1           1           1            1  \n",
       "4                0            1           1           1            1  \n",
       "...            ...          ...         ...         ...          ...  \n",
       "64928            1            0           0           0            0  \n",
       "64929            1            3           5           5            4  \n",
       "64930            1            0           0           0            0  \n",
       "64931            1            0           0           0            0  \n",
       "64932            1            0           0           0            0  \n",
       "\n",
       "[64933 rows x 27 columns]"
      ]
     },
     "execution_count": 7,
     "metadata": {},
     "output_type": "execute_result"
    }
   ],
   "source": [
    "static_metrics"
   ]
  },
  {
   "cell_type": "code",
   "execution_count": 8,
   "id": "aff24bd6-81f4-4cf5-9d73-12d27a678283",
   "metadata": {
    "execution": {
     "iopub.execute_input": "2022-01-25T16:38:31.091847Z",
     "iopub.status.busy": "2022-01-25T16:38:31.079553Z",
     "iopub.status.idle": "2022-01-25T16:38:31.210242Z",
     "shell.execute_reply": "2022-01-25T16:38:31.186119Z",
     "shell.execute_reply.started": "2022-01-25T16:38:31.091539Z"
    }
   },
   "outputs": [],
   "source": [
    "user_metadata = static_metrics[static_metrics[\"user\"] == SELECTED_USER]"
   ]
  },
  {
   "cell_type": "code",
   "execution_count": 9,
   "id": "86f431ef-8a18-4be3-817d-cee991068ff4",
   "metadata": {
    "execution": {
     "iopub.execute_input": "2022-01-25T16:38:31.227783Z",
     "iopub.status.busy": "2022-01-25T16:38:31.215724Z",
     "iopub.status.idle": "2022-01-25T16:38:31.496181Z",
     "shell.execute_reply": "2022-01-25T16:38:31.472091Z",
     "shell.execute_reply.started": "2022-01-25T16:38:31.227479Z"
    }
   },
   "outputs": [
    {
     "data": {
      "text/html": [
       "<div>\n",
       "<style scoped>\n",
       "    .dataframe tbody tr th:only-of-type {\n",
       "        vertical-align: middle;\n",
       "    }\n",
       "\n",
       "    .dataframe tbody tr th {\n",
       "        vertical-align: top;\n",
       "    }\n",
       "\n",
       "    .dataframe thead th {\n",
       "        text-align: right;\n",
       "    }\n",
       "</style>\n",
       "<table border=\"1\" class=\"dataframe\">\n",
       "  <thead>\n",
       "    <tr style=\"text-align: right;\">\n",
       "      <th></th>\n",
       "      <th>job ID</th>\n",
       "      <th>priority</th>\n",
       "      <th>different machines restriction</th>\n",
       "      <th>disk space request - Q1</th>\n",
       "      <th>disk space request - Q2</th>\n",
       "      <th>disk space request - Q3</th>\n",
       "      <th>disk space request - Q4</th>\n",
       "      <th>disk space request - Quartiles</th>\n",
       "      <th>memory request - Q1</th>\n",
       "      <th>memory request - Q2</th>\n",
       "      <th>...</th>\n",
       "      <th>CPU request - Quartiles</th>\n",
       "      <th>priority labels</th>\n",
       "      <th>user</th>\n",
       "      <th>logical job name</th>\n",
       "      <th>scheduling class</th>\n",
       "      <th>K-Means = 2</th>\n",
       "      <th>K-Means = 4</th>\n",
       "      <th>K-Means = 6</th>\n",
       "      <th>K-Means = 8</th>\n",
       "      <th>K-Means = 10</th>\n",
       "    </tr>\n",
       "  </thead>\n",
       "  <tbody>\n",
       "    <tr>\n",
       "      <th>321</th>\n",
       "      <td>6215446276</td>\n",
       "      <td>0</td>\n",
       "      <td>0</td>\n",
       "      <td>0</td>\n",
       "      <td>1</td>\n",
       "      <td>0</td>\n",
       "      <td>0</td>\n",
       "      <td>Q2</td>\n",
       "      <td>0</td>\n",
       "      <td>1</td>\n",
       "      <td>...</td>\n",
       "      <td>Q1</td>\n",
       "      <td>Free [0,1]</td>\n",
       "      <td>Nugr6rX+U6WELDvGY6ars76339mw/Uc2fgD1/rZ6fkA=</td>\n",
       "      <td>/xzn5vjqfaX7Jp9jfsGwCSECWwqC5hCUwgrjpLalXiM=</td>\n",
       "      <td>2</td>\n",
       "      <td>0</td>\n",
       "      <td>1</td>\n",
       "      <td>1</td>\n",
       "      <td>1</td>\n",
       "      <td>1</td>\n",
       "    </tr>\n",
       "    <tr>\n",
       "      <th>1015</th>\n",
       "      <td>6253345267</td>\n",
       "      <td>0</td>\n",
       "      <td>0</td>\n",
       "      <td>0</td>\n",
       "      <td>1</td>\n",
       "      <td>0</td>\n",
       "      <td>0</td>\n",
       "      <td>Q2</td>\n",
       "      <td>0</td>\n",
       "      <td>0</td>\n",
       "      <td>...</td>\n",
       "      <td>Q1</td>\n",
       "      <td>Free [0,1]</td>\n",
       "      <td>Nugr6rX+U6WELDvGY6ars76339mw/Uc2fgD1/rZ6fkA=</td>\n",
       "      <td>XyGBUGoaLiiOp7zVyDHjGehArmRo/fLOKXzPIdvB/A4=</td>\n",
       "      <td>2</td>\n",
       "      <td>1</td>\n",
       "      <td>0</td>\n",
       "      <td>0</td>\n",
       "      <td>3</td>\n",
       "      <td>3</td>\n",
       "    </tr>\n",
       "    <tr>\n",
       "      <th>1559</th>\n",
       "      <td>6255332185</td>\n",
       "      <td>0</td>\n",
       "      <td>0</td>\n",
       "      <td>1</td>\n",
       "      <td>0</td>\n",
       "      <td>0</td>\n",
       "      <td>0</td>\n",
       "      <td>Q1</td>\n",
       "      <td>0</td>\n",
       "      <td>1</td>\n",
       "      <td>...</td>\n",
       "      <td>Q2</td>\n",
       "      <td>Free [0,1]</td>\n",
       "      <td>Nugr6rX+U6WELDvGY6ars76339mw/Uc2fgD1/rZ6fkA=</td>\n",
       "      <td>s00djJoN1z08al7jw71EcGSFsIvIY4DKq8m3nOb9yyU=</td>\n",
       "      <td>0</td>\n",
       "      <td>1</td>\n",
       "      <td>0</td>\n",
       "      <td>0</td>\n",
       "      <td>0</td>\n",
       "      <td>0</td>\n",
       "    </tr>\n",
       "    <tr>\n",
       "      <th>1560</th>\n",
       "      <td>6255332896</td>\n",
       "      <td>0</td>\n",
       "      <td>0</td>\n",
       "      <td>0</td>\n",
       "      <td>1</td>\n",
       "      <td>0</td>\n",
       "      <td>0</td>\n",
       "      <td>Q2</td>\n",
       "      <td>0</td>\n",
       "      <td>1</td>\n",
       "      <td>...</td>\n",
       "      <td>Q1</td>\n",
       "      <td>Free [0,1]</td>\n",
       "      <td>Nugr6rX+U6WELDvGY6ars76339mw/Uc2fgD1/rZ6fkA=</td>\n",
       "      <td>/QJznBnrlEeh/yWbEg+oDn0qabGBitjQsjA81fBBW9g=</td>\n",
       "      <td>2</td>\n",
       "      <td>1</td>\n",
       "      <td>0</td>\n",
       "      <td>3</td>\n",
       "      <td>5</td>\n",
       "      <td>5</td>\n",
       "    </tr>\n",
       "    <tr>\n",
       "      <th>1922</th>\n",
       "      <td>6256521473</td>\n",
       "      <td>0</td>\n",
       "      <td>0</td>\n",
       "      <td>0</td>\n",
       "      <td>1</td>\n",
       "      <td>0</td>\n",
       "      <td>0</td>\n",
       "      <td>Q2</td>\n",
       "      <td>0</td>\n",
       "      <td>1</td>\n",
       "      <td>...</td>\n",
       "      <td>Q1</td>\n",
       "      <td>Free [0,1]</td>\n",
       "      <td>Nugr6rX+U6WELDvGY6ars76339mw/Uc2fgD1/rZ6fkA=</td>\n",
       "      <td>/QJznBnrlEeh/yWbEg+oDn0qabGBitjQsjA81fBBW9g=</td>\n",
       "      <td>2</td>\n",
       "      <td>1</td>\n",
       "      <td>0</td>\n",
       "      <td>3</td>\n",
       "      <td>5</td>\n",
       "      <td>5</td>\n",
       "    </tr>\n",
       "    <tr>\n",
       "      <th>...</th>\n",
       "      <td>...</td>\n",
       "      <td>...</td>\n",
       "      <td>...</td>\n",
       "      <td>...</td>\n",
       "      <td>...</td>\n",
       "      <td>...</td>\n",
       "      <td>...</td>\n",
       "      <td>...</td>\n",
       "      <td>...</td>\n",
       "      <td>...</td>\n",
       "      <td>...</td>\n",
       "      <td>...</td>\n",
       "      <td>...</td>\n",
       "      <td>...</td>\n",
       "      <td>...</td>\n",
       "      <td>...</td>\n",
       "      <td>...</td>\n",
       "      <td>...</td>\n",
       "      <td>...</td>\n",
       "      <td>...</td>\n",
       "      <td>...</td>\n",
       "    </tr>\n",
       "    <tr>\n",
       "      <th>64612</th>\n",
       "      <td>6484891869</td>\n",
       "      <td>1</td>\n",
       "      <td>0</td>\n",
       "      <td>0</td>\n",
       "      <td>1</td>\n",
       "      <td>0</td>\n",
       "      <td>0</td>\n",
       "      <td>Q2</td>\n",
       "      <td>0</td>\n",
       "      <td>1</td>\n",
       "      <td>...</td>\n",
       "      <td>Q4</td>\n",
       "      <td>Free [0,1]</td>\n",
       "      <td>Nugr6rX+U6WELDvGY6ars76339mw/Uc2fgD1/rZ6fkA=</td>\n",
       "      <td>H//4nsjSXqYRVoUKt3tpVx6lWsjcITZuqblmbv7XkOY=</td>\n",
       "      <td>2</td>\n",
       "      <td>1</td>\n",
       "      <td>0</td>\n",
       "      <td>3</td>\n",
       "      <td>5</td>\n",
       "      <td>5</td>\n",
       "    </tr>\n",
       "    <tr>\n",
       "      <th>64613</th>\n",
       "      <td>6484891892</td>\n",
       "      <td>1</td>\n",
       "      <td>0</td>\n",
       "      <td>0</td>\n",
       "      <td>1</td>\n",
       "      <td>0</td>\n",
       "      <td>0</td>\n",
       "      <td>Q2</td>\n",
       "      <td>0</td>\n",
       "      <td>1</td>\n",
       "      <td>...</td>\n",
       "      <td>Q3</td>\n",
       "      <td>Free [0,1]</td>\n",
       "      <td>Nugr6rX+U6WELDvGY6ars76339mw/Uc2fgD1/rZ6fkA=</td>\n",
       "      <td>rsy/Jo2Au/c5VHFUzPaq9rdfLsSIhHjv6RJHJL50FNk=</td>\n",
       "      <td>2</td>\n",
       "      <td>1</td>\n",
       "      <td>3</td>\n",
       "      <td>5</td>\n",
       "      <td>4</td>\n",
       "      <td>4</td>\n",
       "    </tr>\n",
       "    <tr>\n",
       "      <th>64648</th>\n",
       "      <td>6485149338</td>\n",
       "      <td>1</td>\n",
       "      <td>0</td>\n",
       "      <td>0</td>\n",
       "      <td>1</td>\n",
       "      <td>0</td>\n",
       "      <td>0</td>\n",
       "      <td>Q2</td>\n",
       "      <td>0</td>\n",
       "      <td>1</td>\n",
       "      <td>...</td>\n",
       "      <td>Q3</td>\n",
       "      <td>Free [0,1]</td>\n",
       "      <td>Nugr6rX+U6WELDvGY6ars76339mw/Uc2fgD1/rZ6fkA=</td>\n",
       "      <td>yVIRahrv8Z2KjOxCDQb3Y6flkxNj/h+w2fRbjVEk2BE=</td>\n",
       "      <td>2</td>\n",
       "      <td>1</td>\n",
       "      <td>0</td>\n",
       "      <td>0</td>\n",
       "      <td>0</td>\n",
       "      <td>0</td>\n",
       "    </tr>\n",
       "    <tr>\n",
       "      <th>64685</th>\n",
       "      <td>6485303379</td>\n",
       "      <td>1</td>\n",
       "      <td>0</td>\n",
       "      <td>0</td>\n",
       "      <td>1</td>\n",
       "      <td>0</td>\n",
       "      <td>0</td>\n",
       "      <td>Q2</td>\n",
       "      <td>0</td>\n",
       "      <td>1</td>\n",
       "      <td>...</td>\n",
       "      <td>Q3</td>\n",
       "      <td>Free [0,1]</td>\n",
       "      <td>Nugr6rX+U6WELDvGY6ars76339mw/Uc2fgD1/rZ6fkA=</td>\n",
       "      <td>WymlM+Yf9wi/If99/A+HU4QwS84W0P268hGHbSAP3mY=</td>\n",
       "      <td>2</td>\n",
       "      <td>1</td>\n",
       "      <td>0</td>\n",
       "      <td>0</td>\n",
       "      <td>0</td>\n",
       "      <td>0</td>\n",
       "    </tr>\n",
       "    <tr>\n",
       "      <th>64852</th>\n",
       "      <td>6486214208</td>\n",
       "      <td>0</td>\n",
       "      <td>0</td>\n",
       "      <td>1</td>\n",
       "      <td>0</td>\n",
       "      <td>0</td>\n",
       "      <td>0</td>\n",
       "      <td>Q1</td>\n",
       "      <td>0</td>\n",
       "      <td>1</td>\n",
       "      <td>...</td>\n",
       "      <td>Q2</td>\n",
       "      <td>Free [0,1]</td>\n",
       "      <td>Nugr6rX+U6WELDvGY6ars76339mw/Uc2fgD1/rZ6fkA=</td>\n",
       "      <td>rLqKj8VkySFX2JDNb/zg6Ok/QuLfdZqvyH89kGgA2W4=</td>\n",
       "      <td>2</td>\n",
       "      <td>1</td>\n",
       "      <td>0</td>\n",
       "      <td>0</td>\n",
       "      <td>0</td>\n",
       "      <td>0</td>\n",
       "    </tr>\n",
       "  </tbody>\n",
       "</table>\n",
       "<p>190 rows × 27 columns</p>\n",
       "</div>"
      ],
      "text/plain": [
       "           job ID  priority  different machines restriction  \\\n",
       "321    6215446276         0                               0   \n",
       "1015   6253345267         0                               0   \n",
       "1559   6255332185         0                               0   \n",
       "1560   6255332896         0                               0   \n",
       "1922   6256521473         0                               0   \n",
       "...           ...       ...                             ...   \n",
       "64612  6484891869         1                               0   \n",
       "64613  6484891892         1                               0   \n",
       "64648  6485149338         1                               0   \n",
       "64685  6485303379         1                               0   \n",
       "64852  6486214208         0                               0   \n",
       "\n",
       "       disk space request - Q1  disk space request - Q2  \\\n",
       "321                          0                        1   \n",
       "1015                         0                        1   \n",
       "1559                         1                        0   \n",
       "1560                         0                        1   \n",
       "1922                         0                        1   \n",
       "...                        ...                      ...   \n",
       "64612                        0                        1   \n",
       "64613                        0                        1   \n",
       "64648                        0                        1   \n",
       "64685                        0                        1   \n",
       "64852                        1                        0   \n",
       "\n",
       "       disk space request - Q3  disk space request - Q4  \\\n",
       "321                          0                        0   \n",
       "1015                         0                        0   \n",
       "1559                         0                        0   \n",
       "1560                         0                        0   \n",
       "1922                         0                        0   \n",
       "...                        ...                      ...   \n",
       "64612                        0                        0   \n",
       "64613                        0                        0   \n",
       "64648                        0                        0   \n",
       "64685                        0                        0   \n",
       "64852                        0                        0   \n",
       "\n",
       "      disk space request - Quartiles  memory request - Q1  \\\n",
       "321                               Q2                    0   \n",
       "1015                              Q2                    0   \n",
       "1559                              Q1                    0   \n",
       "1560                              Q2                    0   \n",
       "1922                              Q2                    0   \n",
       "...                              ...                  ...   \n",
       "64612                             Q2                    0   \n",
       "64613                             Q2                    0   \n",
       "64648                             Q2                    0   \n",
       "64685                             Q2                    0   \n",
       "64852                             Q1                    0   \n",
       "\n",
       "       memory request - Q2  ...  CPU request - Quartiles  priority labels  \\\n",
       "321                      1  ...                       Q1       Free [0,1]   \n",
       "1015                     0  ...                       Q1       Free [0,1]   \n",
       "1559                     1  ...                       Q2       Free [0,1]   \n",
       "1560                     1  ...                       Q1       Free [0,1]   \n",
       "1922                     1  ...                       Q1       Free [0,1]   \n",
       "...                    ...  ...                      ...              ...   \n",
       "64612                    1  ...                       Q4       Free [0,1]   \n",
       "64613                    1  ...                       Q3       Free [0,1]   \n",
       "64648                    1  ...                       Q3       Free [0,1]   \n",
       "64685                    1  ...                       Q3       Free [0,1]   \n",
       "64852                    1  ...                       Q2       Free [0,1]   \n",
       "\n",
       "                                               user  \\\n",
       "321    Nugr6rX+U6WELDvGY6ars76339mw/Uc2fgD1/rZ6fkA=   \n",
       "1015   Nugr6rX+U6WELDvGY6ars76339mw/Uc2fgD1/rZ6fkA=   \n",
       "1559   Nugr6rX+U6WELDvGY6ars76339mw/Uc2fgD1/rZ6fkA=   \n",
       "1560   Nugr6rX+U6WELDvGY6ars76339mw/Uc2fgD1/rZ6fkA=   \n",
       "1922   Nugr6rX+U6WELDvGY6ars76339mw/Uc2fgD1/rZ6fkA=   \n",
       "...                                             ...   \n",
       "64612  Nugr6rX+U6WELDvGY6ars76339mw/Uc2fgD1/rZ6fkA=   \n",
       "64613  Nugr6rX+U6WELDvGY6ars76339mw/Uc2fgD1/rZ6fkA=   \n",
       "64648  Nugr6rX+U6WELDvGY6ars76339mw/Uc2fgD1/rZ6fkA=   \n",
       "64685  Nugr6rX+U6WELDvGY6ars76339mw/Uc2fgD1/rZ6fkA=   \n",
       "64852  Nugr6rX+U6WELDvGY6ars76339mw/Uc2fgD1/rZ6fkA=   \n",
       "\n",
       "                                   logical job name  scheduling class  \\\n",
       "321    /xzn5vjqfaX7Jp9jfsGwCSECWwqC5hCUwgrjpLalXiM=                 2   \n",
       "1015   XyGBUGoaLiiOp7zVyDHjGehArmRo/fLOKXzPIdvB/A4=                 2   \n",
       "1559   s00djJoN1z08al7jw71EcGSFsIvIY4DKq8m3nOb9yyU=                 0   \n",
       "1560   /QJznBnrlEeh/yWbEg+oDn0qabGBitjQsjA81fBBW9g=                 2   \n",
       "1922   /QJznBnrlEeh/yWbEg+oDn0qabGBitjQsjA81fBBW9g=                 2   \n",
       "...                                             ...               ...   \n",
       "64612  H//4nsjSXqYRVoUKt3tpVx6lWsjcITZuqblmbv7XkOY=                 2   \n",
       "64613  rsy/Jo2Au/c5VHFUzPaq9rdfLsSIhHjv6RJHJL50FNk=                 2   \n",
       "64648  yVIRahrv8Z2KjOxCDQb3Y6flkxNj/h+w2fRbjVEk2BE=                 2   \n",
       "64685  WymlM+Yf9wi/If99/A+HU4QwS84W0P268hGHbSAP3mY=                 2   \n",
       "64852  rLqKj8VkySFX2JDNb/zg6Ok/QuLfdZqvyH89kGgA2W4=                 2   \n",
       "\n",
       "       K-Means = 2  K-Means = 4 K-Means = 6 K-Means = 8 K-Means = 10  \n",
       "321              0            1           1           1            1  \n",
       "1015             1            0           0           3            3  \n",
       "1559             1            0           0           0            0  \n",
       "1560             1            0           3           5            5  \n",
       "1922             1            0           3           5            5  \n",
       "...            ...          ...         ...         ...          ...  \n",
       "64612            1            0           3           5            5  \n",
       "64613            1            3           5           4            4  \n",
       "64648            1            0           0           0            0  \n",
       "64685            1            0           0           0            0  \n",
       "64852            1            0           0           0            0  \n",
       "\n",
       "[190 rows x 27 columns]"
      ]
     },
     "execution_count": 9,
     "metadata": {},
     "output_type": "execute_result"
    }
   ],
   "source": [
    "user_metadata"
   ]
  },
  {
   "cell_type": "code",
   "execution_count": 10,
   "id": "fa5e59b3-02d9-45eb-bf86-0c1c45b8e396",
   "metadata": {
    "execution": {
     "iopub.execute_input": "2022-01-25T16:38:31.507034Z",
     "iopub.status.busy": "2022-01-25T16:38:31.505748Z",
     "iopub.status.idle": "2022-01-25T16:38:31.644199Z",
     "shell.execute_reply": "2022-01-25T16:38:31.616110Z",
     "shell.execute_reply.started": "2022-01-25T16:38:31.506878Z"
    }
   },
   "outputs": [
    {
     "data": {
      "text/plain": [
       "0    147\n",
       "3     38\n",
       "2      4\n",
       "1      1\n",
       "Name: K-Means = 4, dtype: int64"
      ]
     },
     "execution_count": 10,
     "metadata": {},
     "output_type": "execute_result"
    }
   ],
   "source": [
    "user_metadata[\"K-Means = 4\"].value_counts()"
   ]
  },
  {
   "cell_type": "code",
   "execution_count": 11,
   "id": "1195f8ad-0891-43dc-b510-35bcfe337bcd",
   "metadata": {
    "execution": {
     "iopub.execute_input": "2022-01-25T16:38:31.660656Z",
     "iopub.status.busy": "2022-01-25T16:38:31.648925Z",
     "iopub.status.idle": "2022-01-25T16:38:31.816174Z",
     "shell.execute_reply": "2022-01-25T16:38:31.779992Z",
     "shell.execute_reply.started": "2022-01-25T16:38:31.660398Z"
    },
    "tags": []
   },
   "outputs": [],
   "source": [
    "user_task_usage_df = readings_task_usage_df.filter(items = user_metadata[user_metadata[\"user\"] == SELECTED_USER][\"job ID\"], axis=0)"
   ]
  },
  {
   "cell_type": "code",
   "execution_count": 12,
   "id": "c98b6c8c-3609-4557-b975-2b5e69b75ee1",
   "metadata": {
    "execution": {
     "iopub.execute_input": "2022-01-25T16:38:31.829638Z",
     "iopub.status.busy": "2022-01-25T16:38:31.820585Z",
     "iopub.status.idle": "2022-01-25T16:38:31.942156Z",
     "shell.execute_reply": "2022-01-25T16:38:31.917978Z",
     "shell.execute_reply.started": "2022-01-25T16:38:31.829398Z"
    }
   },
   "outputs": [],
   "source": [
    "user_task_usage_df.dropna(inplace=True)"
   ]
  },
  {
   "cell_type": "code",
   "execution_count": 13,
   "id": "c874b887-8a5f-4391-9550-38dcf6856f2f",
   "metadata": {
    "execution": {
     "iopub.execute_input": "2022-01-25T16:38:31.947843Z",
     "iopub.status.busy": "2022-01-25T16:38:31.946699Z",
     "iopub.status.idle": "2022-01-25T16:38:32.205189Z",
     "shell.execute_reply": "2022-01-25T16:38:32.181048Z",
     "shell.execute_reply.started": "2022-01-25T16:38:31.947696Z"
    },
    "tags": []
   },
   "outputs": [
    {
     "data": {
      "text/html": [
       "<div>\n",
       "<style scoped>\n",
       "    .dataframe tbody tr th:only-of-type {\n",
       "        vertical-align: middle;\n",
       "    }\n",
       "\n",
       "    .dataframe tbody tr th {\n",
       "        vertical-align: top;\n",
       "    }\n",
       "\n",
       "    .dataframe thead tr th {\n",
       "        text-align: left;\n",
       "    }\n",
       "\n",
       "    .dataframe thead tr:last-of-type th {\n",
       "        text-align: right;\n",
       "    }\n",
       "</style>\n",
       "<table border=\"1\" class=\"dataframe\">\n",
       "  <thead>\n",
       "    <tr>\n",
       "      <th></th>\n",
       "      <th colspan=\"2\" halign=\"left\">CPU rate</th>\n",
       "      <th colspan=\"2\" halign=\"left\">canonical memory usage</th>\n",
       "      <th colspan=\"2\" halign=\"left\">local disk space usage</th>\n",
       "      <th colspan=\"2\" halign=\"left\">active tasks</th>\n",
       "      <th>job runtime</th>\n",
       "    </tr>\n",
       "    <tr>\n",
       "      <th></th>\n",
       "      <th>mean</th>\n",
       "      <th>std</th>\n",
       "      <th>mean</th>\n",
       "      <th>std</th>\n",
       "      <th>mean</th>\n",
       "      <th>std</th>\n",
       "      <th>mean</th>\n",
       "      <th>std</th>\n",
       "      <th>vals</th>\n",
       "    </tr>\n",
       "    <tr>\n",
       "      <th>job ID</th>\n",
       "      <th></th>\n",
       "      <th></th>\n",
       "      <th></th>\n",
       "      <th></th>\n",
       "      <th></th>\n",
       "      <th></th>\n",
       "      <th></th>\n",
       "      <th></th>\n",
       "      <th></th>\n",
       "    </tr>\n",
       "  </thead>\n",
       "  <tbody>\n",
       "    <tr>\n",
       "      <th>6215446276</th>\n",
       "      <td>0.000046</td>\n",
       "      <td>0.000189</td>\n",
       "      <td>0.000224</td>\n",
       "      <td>0.000100</td>\n",
       "      <td>0.000000e+00</td>\n",
       "      <td>0.000000e+00</td>\n",
       "      <td>1.000113</td>\n",
       "      <td>0.010642</td>\n",
       "      <td>2505600000000</td>\n",
       "    </tr>\n",
       "    <tr>\n",
       "      <th>6253345267</th>\n",
       "      <td>0.001090</td>\n",
       "      <td>0.001156</td>\n",
       "      <td>0.017890</td>\n",
       "      <td>0.008363</td>\n",
       "      <td>0.000000e+00</td>\n",
       "      <td>0.000000e+00</td>\n",
       "      <td>1.000000</td>\n",
       "      <td>0.000000</td>\n",
       "      <td>4938000000</td>\n",
       "    </tr>\n",
       "    <tr>\n",
       "      <th>6255332185</th>\n",
       "      <td>0.003274</td>\n",
       "      <td>0.006029</td>\n",
       "      <td>0.000575</td>\n",
       "      <td>0.000999</td>\n",
       "      <td>0.000000e+00</td>\n",
       "      <td>0.000000e+00</td>\n",
       "      <td>5.226190</td>\n",
       "      <td>5.362411</td>\n",
       "      <td>139000000</td>\n",
       "    </tr>\n",
       "    <tr>\n",
       "      <th>6255332896</th>\n",
       "      <td>0.000304</td>\n",
       "      <td>0.000406</td>\n",
       "      <td>0.000382</td>\n",
       "      <td>0.000442</td>\n",
       "      <td>0.000000e+00</td>\n",
       "      <td>0.000000e+00</td>\n",
       "      <td>1.000000</td>\n",
       "      <td>0.000000</td>\n",
       "      <td>119000000</td>\n",
       "    </tr>\n",
       "    <tr>\n",
       "      <th>6256521473</th>\n",
       "      <td>0.000233</td>\n",
       "      <td>0.000362</td>\n",
       "      <td>0.000192</td>\n",
       "      <td>0.000299</td>\n",
       "      <td>0.000000e+00</td>\n",
       "      <td>0.000000e+00</td>\n",
       "      <td>1.000000</td>\n",
       "      <td>0.000000</td>\n",
       "      <td>112000000</td>\n",
       "    </tr>\n",
       "    <tr>\n",
       "      <th>...</th>\n",
       "      <td>...</td>\n",
       "      <td>...</td>\n",
       "      <td>...</td>\n",
       "      <td>...</td>\n",
       "      <td>...</td>\n",
       "      <td>...</td>\n",
       "      <td>...</td>\n",
       "      <td>...</td>\n",
       "      <td>...</td>\n",
       "    </tr>\n",
       "    <tr>\n",
       "      <th>6484891869</th>\n",
       "      <td>0.007104</td>\n",
       "      <td>0.006158</td>\n",
       "      <td>0.002219</td>\n",
       "      <td>0.001923</td>\n",
       "      <td>3.147550e-06</td>\n",
       "      <td>4.906160e-06</td>\n",
       "      <td>1.000000</td>\n",
       "      <td>0.000000</td>\n",
       "      <td>1331000000</td>\n",
       "    </tr>\n",
       "    <tr>\n",
       "      <th>6484891892</th>\n",
       "      <td>0.024725</td>\n",
       "      <td>0.020220</td>\n",
       "      <td>0.002516</td>\n",
       "      <td>0.001903</td>\n",
       "      <td>2.907984e-08</td>\n",
       "      <td>1.639835e-07</td>\n",
       "      <td>72.496241</td>\n",
       "      <td>187.186248</td>\n",
       "      <td>1404000000</td>\n",
       "    </tr>\n",
       "    <tr>\n",
       "      <th>6485149338</th>\n",
       "      <td>0.021745</td>\n",
       "      <td>0.021996</td>\n",
       "      <td>0.001937</td>\n",
       "      <td>0.001631</td>\n",
       "      <td>1.829640e-08</td>\n",
       "      <td>1.308356e-07</td>\n",
       "      <td>43.513043</td>\n",
       "      <td>102.100945</td>\n",
       "      <td>1614000000</td>\n",
       "    </tr>\n",
       "    <tr>\n",
       "      <th>6485303379</th>\n",
       "      <td>0.001103</td>\n",
       "      <td>0.002649</td>\n",
       "      <td>0.000791</td>\n",
       "      <td>0.000564</td>\n",
       "      <td>1.748083e-06</td>\n",
       "      <td>5.505035e-07</td>\n",
       "      <td>1.000000</td>\n",
       "      <td>0.000000</td>\n",
       "      <td>2588000000</td>\n",
       "    </tr>\n",
       "    <tr>\n",
       "      <th>6486214208</th>\n",
       "      <td>0.001712</td>\n",
       "      <td>0.002224</td>\n",
       "      <td>0.000634</td>\n",
       "      <td>0.000869</td>\n",
       "      <td>0.000000e+00</td>\n",
       "      <td>0.000000e+00</td>\n",
       "      <td>1.000000</td>\n",
       "      <td>0.000000</td>\n",
       "      <td>341000000</td>\n",
       "    </tr>\n",
       "  </tbody>\n",
       "</table>\n",
       "<p>190 rows × 9 columns</p>\n",
       "</div>"
      ],
      "text/plain": [
       "            CPU rate           canonical memory usage            \\\n",
       "                mean       std                   mean       std   \n",
       "job ID                                                            \n",
       "6215446276  0.000046  0.000189               0.000224  0.000100   \n",
       "6253345267  0.001090  0.001156               0.017890  0.008363   \n",
       "6255332185  0.003274  0.006029               0.000575  0.000999   \n",
       "6255332896  0.000304  0.000406               0.000382  0.000442   \n",
       "6256521473  0.000233  0.000362               0.000192  0.000299   \n",
       "...              ...       ...                    ...       ...   \n",
       "6484891869  0.007104  0.006158               0.002219  0.001923   \n",
       "6484891892  0.024725  0.020220               0.002516  0.001903   \n",
       "6485149338  0.021745  0.021996               0.001937  0.001631   \n",
       "6485303379  0.001103  0.002649               0.000791  0.000564   \n",
       "6486214208  0.001712  0.002224               0.000634  0.000869   \n",
       "\n",
       "           local disk space usage               active tasks              \\\n",
       "                             mean           std         mean         std   \n",
       "job ID                                                                     \n",
       "6215446276           0.000000e+00  0.000000e+00     1.000113    0.010642   \n",
       "6253345267           0.000000e+00  0.000000e+00     1.000000    0.000000   \n",
       "6255332185           0.000000e+00  0.000000e+00     5.226190    5.362411   \n",
       "6255332896           0.000000e+00  0.000000e+00     1.000000    0.000000   \n",
       "6256521473           0.000000e+00  0.000000e+00     1.000000    0.000000   \n",
       "...                           ...           ...          ...         ...   \n",
       "6484891869           3.147550e-06  4.906160e-06     1.000000    0.000000   \n",
       "6484891892           2.907984e-08  1.639835e-07    72.496241  187.186248   \n",
       "6485149338           1.829640e-08  1.308356e-07    43.513043  102.100945   \n",
       "6485303379           1.748083e-06  5.505035e-07     1.000000    0.000000   \n",
       "6486214208           0.000000e+00  0.000000e+00     1.000000    0.000000   \n",
       "\n",
       "              job runtime  \n",
       "                     vals  \n",
       "job ID                     \n",
       "6215446276  2505600000000  \n",
       "6253345267     4938000000  \n",
       "6255332185      139000000  \n",
       "6255332896      119000000  \n",
       "6256521473      112000000  \n",
       "...                   ...  \n",
       "6484891869     1331000000  \n",
       "6484891892     1404000000  \n",
       "6485149338     1614000000  \n",
       "6485303379     2588000000  \n",
       "6486214208      341000000  \n",
       "\n",
       "[190 rows x 9 columns]"
      ]
     },
     "execution_count": 13,
     "metadata": {},
     "output_type": "execute_result"
    }
   ],
   "source": [
    "user_task_usage_df"
   ]
  },
  {
   "cell_type": "markdown",
   "id": "deb20341-5dfa-4457-80ee-0836b8e2dc20",
   "metadata": {},
   "source": [
    "## Perform clustering"
   ]
  },
  {
   "cell_type": "code",
   "execution_count": 14,
   "id": "bddbe883-085f-449b-ab11-f3367cc552f5",
   "metadata": {
    "execution": {
     "iopub.execute_input": "2022-01-25T16:38:32.232467Z",
     "iopub.status.busy": "2022-01-25T16:38:32.209662Z",
     "iopub.status.idle": "2022-01-25T16:38:32.294129Z",
     "shell.execute_reply": "2022-01-25T16:38:32.270100Z",
     "shell.execute_reply.started": "2022-01-25T16:38:32.232246Z"
    },
    "tags": []
   },
   "outputs": [],
   "source": [
    "scaler = MinMaxScaler()"
   ]
  },
  {
   "cell_type": "code",
   "execution_count": 15,
   "id": "9ee2e74d-ead2-43c0-bb7f-4a99ea0a82f2",
   "metadata": {
    "execution": {
     "iopub.execute_input": "2022-01-25T16:38:32.298904Z",
     "iopub.status.busy": "2022-01-25T16:38:32.297993Z",
     "iopub.status.idle": "2022-01-25T16:38:32.397219Z",
     "shell.execute_reply": "2022-01-25T16:38:32.373090Z",
     "shell.execute_reply.started": "2022-01-25T16:38:32.298814Z"
    },
    "tags": []
   },
   "outputs": [],
   "source": [
    "scaled = scaler.fit_transform(user_task_usage_df)"
   ]
  },
  {
   "cell_type": "code",
   "execution_count": 16,
   "id": "9158dbad-c5b9-4c80-9677-57fca0107adf",
   "metadata": {
    "execution": {
     "iopub.execute_input": "2022-01-25T16:38:32.402486Z",
     "iopub.status.busy": "2022-01-25T16:38:32.401487Z",
     "iopub.status.idle": "2022-01-25T16:38:34.134223Z",
     "shell.execute_reply": "2022-01-25T16:38:34.115848Z",
     "shell.execute_reply.started": "2022-01-25T16:38:32.402375Z"
    },
    "tags": []
   },
   "outputs": [
    {
     "name": "stdout",
     "output_type": "stream",
     "text": [
      "For n_clusters = 4 The average silhouette_score is : 0.5519375648831338\n"
     ]
    }
   ],
   "source": [
    "clusterer, cluster_labels, silhouette_avg, sample_silhouette_values = extract_kmeans_stats(scaled, 4)"
   ]
  },
  {
   "cell_type": "code",
   "execution_count": 17,
   "id": "cdd265de-ef77-4415-84a6-5d3847a7ee57",
   "metadata": {
    "execution": {
     "iopub.execute_input": "2022-01-25T16:38:34.138817Z",
     "iopub.status.busy": "2022-01-25T16:38:34.138236Z",
     "iopub.status.idle": "2022-01-25T16:38:34.193539Z",
     "shell.execute_reply": "2022-01-25T16:38:34.187119Z",
     "shell.execute_reply.started": "2022-01-25T16:38:34.138760Z"
    },
    "tags": []
   },
   "outputs": [
    {
     "name": "stdout",
     "output_type": "stream",
     "text": [
      "0 22\n",
      "1 135\n",
      "2 8\n",
      "3 25\n"
     ]
    }
   ],
   "source": [
    "x = Counter(cluster_labels)\n",
    "for i in range(4):\n",
    "    print(i, x[i])"
   ]
  },
  {
   "cell_type": "code",
   "execution_count": 18,
   "id": "434c6d4b-e3ea-487b-8620-a72b43de73d8",
   "metadata": {
    "execution": {
     "iopub.execute_input": "2022-01-25T16:38:34.202300Z",
     "iopub.status.busy": "2022-01-25T16:38:34.198150Z",
     "iopub.status.idle": "2022-01-25T16:38:34.346399Z",
     "shell.execute_reply": "2022-01-25T16:38:34.321209Z",
     "shell.execute_reply.started": "2022-01-25T16:38:34.202131Z"
    },
    "tags": []
   },
   "outputs": [
    {
     "data": {
      "text/plain": [
       "Counter({1: 135, 3: 25, 0: 22, 2: 8})"
      ]
     },
     "execution_count": 18,
     "metadata": {},
     "output_type": "execute_result"
    }
   ],
   "source": [
    "Counter(cluster_labels)"
   ]
  },
  {
   "cell_type": "code",
   "execution_count": 19,
   "id": "4fbf3754-840b-4b80-8d9c-250ed08b98f8",
   "metadata": {
    "execution": {
     "iopub.execute_input": "2022-01-25T16:38:34.354493Z",
     "iopub.status.busy": "2022-01-25T16:38:34.352909Z",
     "iopub.status.idle": "2022-01-25T16:38:34.989909Z",
     "shell.execute_reply": "2022-01-25T16:38:34.987741Z",
     "shell.execute_reply.started": "2022-01-25T16:38:34.354314Z"
    },
    "tags": []
   },
   "outputs": [
    {
     "data": {
      "image/png": "[encoded data removed]",
      "text/plain": [
       "<Figure size 864x864 with 1 Axes>"
      ]
     },
     "metadata": {
      "needs_background": "light"
     },
     "output_type": "display_data"
    }
   ],
   "source": [
    "plot_silhouette_results(cluster_labels, silhouette_avg, sample_silhouette_values, 4, multiplier=10)"
   ]
  },
  {
   "cell_type": "code",
   "execution_count": 20,
   "id": "52ac0e29-a1e3-46f2-9445-18c534ba56a4",
   "metadata": {
    "execution": {
     "iopub.execute_input": "2022-01-25T16:38:34.994856Z",
     "iopub.status.busy": "2022-01-25T16:38:34.993649Z",
     "iopub.status.idle": "2022-01-25T16:38:36.464451Z",
     "shell.execute_reply": "2022-01-25T16:38:36.461887Z",
     "shell.execute_reply.started": "2022-01-25T16:38:34.994744Z"
    },
    "tags": []
   },
   "outputs": [
    {
     "data": {
      "text/plain": [
       "Text(0.5, 0.98, 'CPU rate analysis for KMeans clustering on sample data with n_clusters = 4')"
      ]
     },
     "execution_count": 20,
     "metadata": {},
     "output_type": "execute_result"
    },
    {
     "data": {
      "image/png": "[encoded data removed]",
      "text/plain": [
       "<Figure size 1944x792 with 2 Axes>"
      ]
     },
     "metadata": {
      "needs_background": "light"
     },
     "output_type": "display_data"
    }
   ],
   "source": [
    "n_clusters = 4\n",
    "\n",
    "feature = \"CPU rate\"\n",
    "\n",
    "fig, (ax1, ax2) = plt.subplots(1, 2)\n",
    "fig.set_size_inches(27, 11)\n",
    "\n",
    "plot_feature_scatter(ax1, scaled, clusterer, cluster_labels, feature, 0, 1, \"scaled\", n_clusters)\n",
    "\n",
    "plot_feature_scatter(ax2, user_task_usage_df.values, clusterer, cluster_labels, feature, 0, 1, \"original\", n_clusters)\n",
    "\n",
    "plt.suptitle((\"{feature} analysis for KMeans clustering on sample data with n_clusters = {n_clusters}\".format(feature=feature, \n",
    "                                                                                                              n_clusters=n_clusters)),\n",
    "             fontsize=14, fontweight='bold')"
   ]
  },
  {
   "cell_type": "code",
   "execution_count": 21,
   "id": "cca142fa-13fe-4c7b-92cd-3ee49a65c9e8",
   "metadata": {
    "execution": {
     "iopub.execute_input": "2022-01-25T16:38:36.470776Z",
     "iopub.status.busy": "2022-01-25T16:38:36.469462Z",
     "iopub.status.idle": "2022-01-25T16:38:37.761822Z",
     "shell.execute_reply": "2022-01-25T16:38:37.759268Z",
     "shell.execute_reply.started": "2022-01-25T16:38:36.470634Z"
    },
    "tags": []
   },
   "outputs": [
    {
     "data": {
      "text/plain": [
       "Text(0.5, 0.98, 'canonical memory usage analysis for KMeans clustering on sample data with n_clusters = 4')"
      ]
     },
     "execution_count": 21,
     "metadata": {},
     "output_type": "execute_result"
    },
    {
     "data": {
      "image/png": "[encoded data removed]",
      "text/plain": [
       "<Figure size 1944x792 with 2 Axes>"
      ]
     },
     "metadata": {
      "needs_background": "light"
     },
     "output_type": "display_data"
    }
   ],
   "source": [
    "feature = \"canonical memory usage\"\n",
    "\n",
    "dim_1 = 2\n",
    "dim_2 = 3\n",
    "\n",
    "fig, (ax1, ax2) = plt.subplots(1, 2)\n",
    "fig.set_size_inches(27, 11)\n",
    "\n",
    "plot_feature_scatter(ax1, scaled, clusterer, cluster_labels, feature, dim_1, dim_2, \"scaled\", n_clusters)\n",
    "\n",
    "plot_feature_scatter(ax2, user_task_usage_df.values, clusterer, cluster_labels, feature, dim_1, dim_2, \"original\", n_clusters)\n",
    "\n",
    "plt.suptitle((\"{feature} analysis for KMeans clustering on sample data with n_clusters = {n_clusters}\".format(feature=feature, \n",
    "                                                                                                              n_clusters=n_clusters)),\n",
    "             fontsize=14, fontweight='bold')"
   ]
  },
  {
   "cell_type": "code",
   "execution_count": 22,
   "id": "7208b4da-cc1c-4eae-934d-0c189de93666",
   "metadata": {
    "execution": {
     "iopub.execute_input": "2022-01-25T16:38:37.768040Z",
     "iopub.status.busy": "2022-01-25T16:38:37.766629Z",
     "iopub.status.idle": "2022-01-25T16:38:39.074740Z",
     "shell.execute_reply": "2022-01-25T16:38:39.073369Z",
     "shell.execute_reply.started": "2022-01-25T16:38:37.767891Z"
    },
    "tags": []
   },
   "outputs": [
    {
     "data": {
      "text/plain": [
       "Text(0.5, 0.98, 'disk usage analysis for KMeans clustering on sample data with n_clusters = 4')"
      ]
     },
     "execution_count": 22,
     "metadata": {},
     "output_type": "execute_result"
    },
    {
     "data": {
      "image/png": "[encoded data removed]",
      "text/plain": [
       "<Figure size 1944x792 with 2 Axes>"
      ]
     },
     "metadata": {
      "needs_background": "light"
     },
     "output_type": "display_data"
    }
   ],
   "source": [
    "feature = \"disk usage\"\n",
    "\n",
    "dim_1 = 4\n",
    "dim_2 = 5\n",
    "\n",
    "fig, (ax1, ax2) = plt.subplots(1, 2)\n",
    "fig.set_size_inches(27, 11)\n",
    "\n",
    "plot_feature_scatter(ax1, scaled, clusterer, cluster_labels, feature, dim_1, dim_2, \"scaled\", n_clusters)\n",
    "\n",
    "plot_feature_scatter(ax2, user_task_usage_df.values, clusterer, cluster_labels, feature, dim_1, dim_2, \"original\", n_clusters)\n",
    "\n",
    "plt.suptitle((\"{feature} analysis for KMeans clustering on sample data with n_clusters = {n_clusters}\".format(feature=feature, \n",
    "                                                                                                              n_clusters=n_clusters)),\n",
    "             fontsize=14, fontweight='bold')"
   ]
  },
  {
   "cell_type": "code",
   "execution_count": 23,
   "id": "997064c8-a28d-456e-ae5c-53707572b759",
   "metadata": {
    "execution": {
     "iopub.execute_input": "2022-01-25T16:38:39.082438Z",
     "iopub.status.busy": "2022-01-25T16:38:39.081698Z",
     "iopub.status.idle": "2022-01-25T16:38:39.709104Z",
     "shell.execute_reply": "2022-01-25T16:38:39.708139Z",
     "shell.execute_reply.started": "2022-01-25T16:38:39.082390Z"
    },
    "tags": []
   },
   "outputs": [
    {
     "data": {
      "text/plain": [
       "Text(0.5, 0.98, 'active tasks analysis for KMeans clustering on sample data with n_clusters = 4')"
      ]
     },
     "execution_count": 23,
     "metadata": {},
     "output_type": "execute_result"
    },
    {
     "data": {
      "image/png": "[encoded data removed]",
      "text/plain": [
       "<Figure size 1944x792 with 2 Axes>"
      ]
     },
     "metadata": {
      "needs_background": "light"
     },
     "output_type": "display_data"
    }
   ],
   "source": [
    "feature = \"active tasks\"\n",
    "\n",
    "dim_1 = 6\n",
    "dim_2 = 7\n",
    "\n",
    "fig, (ax1, ax2) = plt.subplots(1, 2)\n",
    "fig.set_size_inches(27, 11)\n",
    "\n",
    "plot_feature_scatter(ax1, scaled, clusterer, cluster_labels, feature, dim_1, dim_2, \"scaled\", n_clusters)\n",
    "\n",
    "plot_feature_scatter(ax2, user_task_usage_df.values, clusterer, cluster_labels, feature, dim_1, dim_2, \"original\", n_clusters)\n",
    "\n",
    "plt.suptitle((\"{feature} analysis for KMeans clustering on sample data with n_clusters = {n_clusters}\".format(feature=feature, \n",
    "                                                                                                              n_clusters=n_clusters)),\n",
    "             fontsize=14, fontweight='bold')"
   ]
  },
  {
   "cell_type": "code",
   "execution_count": 24,
   "id": "98020f1c-6a6b-4556-b23a-85981b8c9847",
   "metadata": {
    "execution": {
     "iopub.execute_input": "2022-01-25T16:38:39.711153Z",
     "iopub.status.busy": "2022-01-25T16:38:39.710842Z",
     "iopub.status.idle": "2022-01-25T16:38:40.465524Z",
     "shell.execute_reply": "2022-01-25T16:38:40.464739Z",
     "shell.execute_reply.started": "2022-01-25T16:38:39.711121Z"
    },
    "tags": []
   },
   "outputs": [
    {
     "data": {
      "text/plain": [
       "Text(0.5, 0.98, 'runtime analysis for KMeans clustering on sample data with n_clusters = 4')"
      ]
     },
     "execution_count": 24,
     "metadata": {},
     "output_type": "execute_result"
    },
    {
     "data": {
      "image/png": "[encoded data removed]",
      "text/plain": [
       "<Figure size 1944x792 with 2 Axes>"
      ]
     },
     "metadata": {
      "needs_background": "light"
     },
     "output_type": "display_data"
    }
   ],
   "source": [
    "feature = \"runtime\"\n",
    "\n",
    "dim_1 = 8\n",
    "dim_2 = 8\n",
    "\n",
    "# 2nd Plot showing the actual clusters formed - scaled\n",
    "#plt.figure(figsize=(12,12))\n",
    "fig, (ax1, ax2) = plt.subplots(1, 2)\n",
    "fig.set_size_inches(27, 11)\n",
    "\n",
    "plot_feature_scatter(ax1, scaled, clusterer, cluster_labels, feature, dim_1, dim_2, \"scaled\", n_clusters)\n",
    "\n",
    "plot_feature_scatter(ax2, user_task_usage_df.values, clusterer, cluster_labels, feature, dim_1, dim_2, \"original\", n_clusters)\n",
    "\n",
    "plt.suptitle((\"{feature} analysis for KMeans clustering on sample data with n_clusters = {n_clusters}\".format(feature=feature, \n",
    "                                                                                                              n_clusters=n_clusters)),\n",
    "             fontsize=14, fontweight='bold')"
   ]
  },
  {
   "cell_type": "markdown",
   "id": "2d464e1f-9171-4bd4-bb58-b88216fd5e40",
   "metadata": {},
   "source": [
    "## Create oneHot encoding"
   ]
  },
  {
   "cell_type": "code",
   "execution_count": 25,
   "id": "c40441d4-f46e-4c67-81da-78ae3b88771b",
   "metadata": {
    "execution": {
     "iopub.execute_input": "2022-01-25T16:38:40.467280Z",
     "iopub.status.busy": "2022-01-25T16:38:40.467029Z",
     "iopub.status.idle": "2022-01-25T16:38:40.474582Z",
     "shell.execute_reply": "2022-01-25T16:38:40.473384Z",
     "shell.execute_reply.started": "2022-01-25T16:38:40.467253Z"
    },
    "tags": []
   },
   "outputs": [],
   "source": [
    "oneHotDf = user_metadata[['different machines restriction', 'disk space request - Quartiles', 'memory request - Quartiles', 'CPU request - Quartiles', 'priority labels', 'user', 'logical job name', 'scheduling class']]"
   ]
  },
  {
   "cell_type": "code",
   "execution_count": 26,
   "id": "4703d06e-0b51-4ecf-9c6d-0c6e670d9272",
   "metadata": {
    "execution": {
     "iopub.execute_input": "2022-01-25T16:38:40.476925Z",
     "iopub.status.busy": "2022-01-25T16:38:40.476486Z",
     "iopub.status.idle": "2022-01-25T16:38:40.492153Z",
     "shell.execute_reply": "2022-01-25T16:38:40.491228Z",
     "shell.execute_reply.started": "2022-01-25T16:38:40.476895Z"
    },
    "tags": []
   },
   "outputs": [],
   "source": [
    "oneHotDf = pd.get_dummies(oneHotDf)"
   ]
  },
  {
   "cell_type": "code",
   "execution_count": 27,
   "id": "958e3ef1-68f3-412a-97f1-8e9154908a23",
   "metadata": {
    "execution": {
     "iopub.execute_input": "2022-01-25T16:38:40.493829Z",
     "iopub.status.busy": "2022-01-25T16:38:40.493553Z",
     "iopub.status.idle": "2022-01-25T16:38:40.517135Z",
     "shell.execute_reply": "2022-01-25T16:38:40.516250Z",
     "shell.execute_reply.started": "2022-01-25T16:38:40.493801Z"
    },
    "tags": []
   },
   "outputs": [
    {
     "data": {
      "text/html": [
       "<div>\n",
       "<style scoped>\n",
       "    .dataframe tbody tr th:only-of-type {\n",
       "        vertical-align: middle;\n",
       "    }\n",
       "\n",
       "    .dataframe tbody tr th {\n",
       "        vertical-align: top;\n",
       "    }\n",
       "\n",
       "    .dataframe thead th {\n",
       "        text-align: right;\n",
       "    }\n",
       "</style>\n",
       "<table border=\"1\" class=\"dataframe\">\n",
       "  <thead>\n",
       "    <tr style=\"text-align: right;\">\n",
       "      <th></th>\n",
       "      <th>different machines restriction</th>\n",
       "      <th>scheduling class</th>\n",
       "      <th>disk space request - Quartiles_Q1</th>\n",
       "      <th>disk space request - Quartiles_Q2</th>\n",
       "      <th>disk space request - Quartiles_Q4</th>\n",
       "      <th>memory request - Quartiles_Q1</th>\n",
       "      <th>memory request - Quartiles_Q2</th>\n",
       "      <th>memory request - Quartiles_Q3</th>\n",
       "      <th>memory request - Quartiles_Q4</th>\n",
       "      <th>CPU request - Quartiles_Q1</th>\n",
       "      <th>...</th>\n",
       "      <th>logical job name_s0nFxuvXLxQXqQtPB0/DGtQ4s5qZ7v5klus0dAiwkO4=</th>\n",
       "      <th>logical job name_sh2+azqnWz5wf8ZmJsTBMth0xAQkyNGaUlK2s3uq50c=</th>\n",
       "      <th>logical job name_swBGfKKOxXrHehHaPw6t/2EfPLVi4GJzIgQcDb/6KWM=</th>\n",
       "      <th>logical job name_uxJBwn4+Ue4VL/HIi7a+0MfIcUlhRVpKwDdn5iPN1R8=</th>\n",
       "      <th>logical job name_vEZciGV61AjVZX9L83VJr8O3rT1DP094e2uHbksUjxs=</th>\n",
       "      <th>logical job name_yUcoKNSDOcjVXBq4jjc9G7WSztqiG4rp3PIHlfKAgBA=</th>\n",
       "      <th>logical job name_yVIRahrv8Z2KjOxCDQb3Y6flkxNj/h+w2fRbjVEk2BE=</th>\n",
       "      <th>logical job name_zJZMGR20g6eKwI7qa/4PXk8u1Q+keq0asAokMG/Gy8k=</th>\n",
       "      <th>logical job name_zQSNnHa/M/Mz9atyv0jkyDeloLh4SC/vumFDjkeaxrQ=</th>\n",
       "      <th>logical job name_zjs21/6QU0kMUI44u8XOi4vvdsxS49aw3IFUXhFf0M8=</th>\n",
       "    </tr>\n",
       "  </thead>\n",
       "  <tbody>\n",
       "    <tr>\n",
       "      <th>321</th>\n",
       "      <td>0</td>\n",
       "      <td>2</td>\n",
       "      <td>0</td>\n",
       "      <td>1</td>\n",
       "      <td>0</td>\n",
       "      <td>0</td>\n",
       "      <td>1</td>\n",
       "      <td>0</td>\n",
       "      <td>0</td>\n",
       "      <td>1</td>\n",
       "      <td>...</td>\n",
       "      <td>0</td>\n",
       "      <td>0</td>\n",
       "      <td>0</td>\n",
       "      <td>0</td>\n",
       "      <td>0</td>\n",
       "      <td>0</td>\n",
       "      <td>0</td>\n",
       "      <td>0</td>\n",
       "      <td>0</td>\n",
       "      <td>0</td>\n",
       "    </tr>\n",
       "    <tr>\n",
       "      <th>1015</th>\n",
       "      <td>0</td>\n",
       "      <td>2</td>\n",
       "      <td>0</td>\n",
       "      <td>1</td>\n",
       "      <td>0</td>\n",
       "      <td>0</td>\n",
       "      <td>0</td>\n",
       "      <td>0</td>\n",
       "      <td>1</td>\n",
       "      <td>1</td>\n",
       "      <td>...</td>\n",
       "      <td>0</td>\n",
       "      <td>0</td>\n",
       "      <td>0</td>\n",
       "      <td>0</td>\n",
       "      <td>0</td>\n",
       "      <td>0</td>\n",
       "      <td>0</td>\n",
       "      <td>0</td>\n",
       "      <td>0</td>\n",
       "      <td>0</td>\n",
       "    </tr>\n",
       "    <tr>\n",
       "      <th>1559</th>\n",
       "      <td>0</td>\n",
       "      <td>0</td>\n",
       "      <td>1</td>\n",
       "      <td>0</td>\n",
       "      <td>0</td>\n",
       "      <td>0</td>\n",
       "      <td>1</td>\n",
       "      <td>0</td>\n",
       "      <td>0</td>\n",
       "      <td>0</td>\n",
       "      <td>...</td>\n",
       "      <td>0</td>\n",
       "      <td>0</td>\n",
       "      <td>0</td>\n",
       "      <td>0</td>\n",
       "      <td>0</td>\n",
       "      <td>0</td>\n",
       "      <td>0</td>\n",
       "      <td>0</td>\n",
       "      <td>0</td>\n",
       "      <td>0</td>\n",
       "    </tr>\n",
       "    <tr>\n",
       "      <th>1560</th>\n",
       "      <td>0</td>\n",
       "      <td>2</td>\n",
       "      <td>0</td>\n",
       "      <td>1</td>\n",
       "      <td>0</td>\n",
       "      <td>0</td>\n",
       "      <td>1</td>\n",
       "      <td>0</td>\n",
       "      <td>0</td>\n",
       "      <td>1</td>\n",
       "      <td>...</td>\n",
       "      <td>0</td>\n",
       "      <td>0</td>\n",
       "      <td>0</td>\n",
       "      <td>0</td>\n",
       "      <td>0</td>\n",
       "      <td>0</td>\n",
       "      <td>0</td>\n",
       "      <td>0</td>\n",
       "      <td>0</td>\n",
       "      <td>0</td>\n",
       "    </tr>\n",
       "    <tr>\n",
       "      <th>1922</th>\n",
       "      <td>0</td>\n",
       "      <td>2</td>\n",
       "      <td>0</td>\n",
       "      <td>1</td>\n",
       "      <td>0</td>\n",
       "      <td>0</td>\n",
       "      <td>1</td>\n",
       "      <td>0</td>\n",
       "      <td>0</td>\n",
       "      <td>1</td>\n",
       "      <td>...</td>\n",
       "      <td>0</td>\n",
       "      <td>0</td>\n",
       "      <td>0</td>\n",
       "      <td>0</td>\n",
       "      <td>0</td>\n",
       "      <td>0</td>\n",
       "      <td>0</td>\n",
       "      <td>0</td>\n",
       "      <td>0</td>\n",
       "      <td>0</td>\n",
       "    </tr>\n",
       "    <tr>\n",
       "      <th>...</th>\n",
       "      <td>...</td>\n",
       "      <td>...</td>\n",
       "      <td>...</td>\n",
       "      <td>...</td>\n",
       "      <td>...</td>\n",
       "      <td>...</td>\n",
       "      <td>...</td>\n",
       "      <td>...</td>\n",
       "      <td>...</td>\n",
       "      <td>...</td>\n",
       "      <td>...</td>\n",
       "      <td>...</td>\n",
       "      <td>...</td>\n",
       "      <td>...</td>\n",
       "      <td>...</td>\n",
       "      <td>...</td>\n",
       "      <td>...</td>\n",
       "      <td>...</td>\n",
       "      <td>...</td>\n",
       "      <td>...</td>\n",
       "      <td>...</td>\n",
       "    </tr>\n",
       "    <tr>\n",
       "      <th>64612</th>\n",
       "      <td>0</td>\n",
       "      <td>2</td>\n",
       "      <td>0</td>\n",
       "      <td>1</td>\n",
       "      <td>0</td>\n",
       "      <td>0</td>\n",
       "      <td>1</td>\n",
       "      <td>0</td>\n",
       "      <td>0</td>\n",
       "      <td>0</td>\n",
       "      <td>...</td>\n",
       "      <td>0</td>\n",
       "      <td>0</td>\n",
       "      <td>0</td>\n",
       "      <td>0</td>\n",
       "      <td>0</td>\n",
       "      <td>0</td>\n",
       "      <td>0</td>\n",
       "      <td>0</td>\n",
       "      <td>0</td>\n",
       "      <td>0</td>\n",
       "    </tr>\n",
       "    <tr>\n",
       "      <th>64613</th>\n",
       "      <td>0</td>\n",
       "      <td>2</td>\n",
       "      <td>0</td>\n",
       "      <td>1</td>\n",
       "      <td>0</td>\n",
       "      <td>0</td>\n",
       "      <td>1</td>\n",
       "      <td>0</td>\n",
       "      <td>0</td>\n",
       "      <td>0</td>\n",
       "      <td>...</td>\n",
       "      <td>0</td>\n",
       "      <td>0</td>\n",
       "      <td>0</td>\n",
       "      <td>0</td>\n",
       "      <td>0</td>\n",
       "      <td>0</td>\n",
       "      <td>0</td>\n",
       "      <td>0</td>\n",
       "      <td>0</td>\n",
       "      <td>0</td>\n",
       "    </tr>\n",
       "    <tr>\n",
       "      <th>64648</th>\n",
       "      <td>0</td>\n",
       "      <td>2</td>\n",
       "      <td>0</td>\n",
       "      <td>1</td>\n",
       "      <td>0</td>\n",
       "      <td>0</td>\n",
       "      <td>1</td>\n",
       "      <td>0</td>\n",
       "      <td>0</td>\n",
       "      <td>0</td>\n",
       "      <td>...</td>\n",
       "      <td>0</td>\n",
       "      <td>0</td>\n",
       "      <td>0</td>\n",
       "      <td>0</td>\n",
       "      <td>0</td>\n",
       "      <td>0</td>\n",
       "      <td>1</td>\n",
       "      <td>0</td>\n",
       "      <td>0</td>\n",
       "      <td>0</td>\n",
       "    </tr>\n",
       "    <tr>\n",
       "      <th>64685</th>\n",
       "      <td>0</td>\n",
       "      <td>2</td>\n",
       "      <td>0</td>\n",
       "      <td>1</td>\n",
       "      <td>0</td>\n",
       "      <td>0</td>\n",
       "      <td>1</td>\n",
       "      <td>0</td>\n",
       "      <td>0</td>\n",
       "      <td>0</td>\n",
       "      <td>...</td>\n",
       "      <td>0</td>\n",
       "      <td>0</td>\n",
       "      <td>0</td>\n",
       "      <td>0</td>\n",
       "      <td>0</td>\n",
       "      <td>0</td>\n",
       "      <td>0</td>\n",
       "      <td>0</td>\n",
       "      <td>0</td>\n",
       "      <td>0</td>\n",
       "    </tr>\n",
       "    <tr>\n",
       "      <th>64852</th>\n",
       "      <td>0</td>\n",
       "      <td>2</td>\n",
       "      <td>1</td>\n",
       "      <td>0</td>\n",
       "      <td>0</td>\n",
       "      <td>0</td>\n",
       "      <td>1</td>\n",
       "      <td>0</td>\n",
       "      <td>0</td>\n",
       "      <td>0</td>\n",
       "      <td>...</td>\n",
       "      <td>0</td>\n",
       "      <td>0</td>\n",
       "      <td>0</td>\n",
       "      <td>0</td>\n",
       "      <td>0</td>\n",
       "      <td>0</td>\n",
       "      <td>0</td>\n",
       "      <td>0</td>\n",
       "      <td>0</td>\n",
       "      <td>0</td>\n",
       "    </tr>\n",
       "  </tbody>\n",
       "</table>\n",
       "<p>190 rows × 113 columns</p>\n",
       "</div>"
      ],
      "text/plain": [
       "       different machines restriction  scheduling class  \\\n",
       "321                                 0                 2   \n",
       "1015                                0                 2   \n",
       "1559                                0                 0   \n",
       "1560                                0                 2   \n",
       "1922                                0                 2   \n",
       "...                               ...               ...   \n",
       "64612                               0                 2   \n",
       "64613                               0                 2   \n",
       "64648                               0                 2   \n",
       "64685                               0                 2   \n",
       "64852                               0                 2   \n",
       "\n",
       "       disk space request - Quartiles_Q1  disk space request - Quartiles_Q2  \\\n",
       "321                                    0                                  1   \n",
       "1015                                   0                                  1   \n",
       "1559                                   1                                  0   \n",
       "1560                                   0                                  1   \n",
       "1922                                   0                                  1   \n",
       "...                                  ...                                ...   \n",
       "64612                                  0                                  1   \n",
       "64613                                  0                                  1   \n",
       "64648                                  0                                  1   \n",
       "64685                                  0                                  1   \n",
       "64852                                  1                                  0   \n",
       "\n",
       "       disk space request - Quartiles_Q4  memory request - Quartiles_Q1  \\\n",
       "321                                    0                              0   \n",
       "1015                                   0                              0   \n",
       "1559                                   0                              0   \n",
       "1560                                   0                              0   \n",
       "1922                                   0                              0   \n",
       "...                                  ...                            ...   \n",
       "64612                                  0                              0   \n",
       "64613                                  0                              0   \n",
       "64648                                  0                              0   \n",
       "64685                                  0                              0   \n",
       "64852                                  0                              0   \n",
       "\n",
       "       memory request - Quartiles_Q2  memory request - Quartiles_Q3  \\\n",
       "321                                1                              0   \n",
       "1015                               0                              0   \n",
       "1559                               1                              0   \n",
       "1560                               1                              0   \n",
       "1922                               1                              0   \n",
       "...                              ...                            ...   \n",
       "64612                              1                              0   \n",
       "64613                              1                              0   \n",
       "64648                              1                              0   \n",
       "64685                              1                              0   \n",
       "64852                              1                              0   \n",
       "\n",
       "       memory request - Quartiles_Q4  CPU request - Quartiles_Q1  ...  \\\n",
       "321                                0                           1  ...   \n",
       "1015                               1                           1  ...   \n",
       "1559                               0                           0  ...   \n",
       "1560                               0                           1  ...   \n",
       "1922                               0                           1  ...   \n",
       "...                              ...                         ...  ...   \n",
       "64612                              0                           0  ...   \n",
       "64613                              0                           0  ...   \n",
       "64648                              0                           0  ...   \n",
       "64685                              0                           0  ...   \n",
       "64852                              0                           0  ...   \n",
       "\n",
       "       logical job name_s0nFxuvXLxQXqQtPB0/DGtQ4s5qZ7v5klus0dAiwkO4=  \\\n",
       "321                                                    0               \n",
       "1015                                                   0               \n",
       "1559                                                   0               \n",
       "1560                                                   0               \n",
       "1922                                                   0               \n",
       "...                                                  ...               \n",
       "64612                                                  0               \n",
       "64613                                                  0               \n",
       "64648                                                  0               \n",
       "64685                                                  0               \n",
       "64852                                                  0               \n",
       "\n",
       "       logical job name_sh2+azqnWz5wf8ZmJsTBMth0xAQkyNGaUlK2s3uq50c=  \\\n",
       "321                                                    0               \n",
       "1015                                                   0               \n",
       "1559                                                   0               \n",
       "1560                                                   0               \n",
       "1922                                                   0               \n",
       "...                                                  ...               \n",
       "64612                                                  0               \n",
       "64613                                                  0               \n",
       "64648                                                  0               \n",
       "64685                                                  0               \n",
       "64852                                                  0               \n",
       "\n",
       "       logical job name_swBGfKKOxXrHehHaPw6t/2EfPLVi4GJzIgQcDb/6KWM=  \\\n",
       "321                                                    0               \n",
       "1015                                                   0               \n",
       "1559                                                   0               \n",
       "1560                                                   0               \n",
       "1922                                                   0               \n",
       "...                                                  ...               \n",
       "64612                                                  0               \n",
       "64613                                                  0               \n",
       "64648                                                  0               \n",
       "64685                                                  0               \n",
       "64852                                                  0               \n",
       "\n",
       "       logical job name_uxJBwn4+Ue4VL/HIi7a+0MfIcUlhRVpKwDdn5iPN1R8=  \\\n",
       "321                                                    0               \n",
       "1015                                                   0               \n",
       "1559                                                   0               \n",
       "1560                                                   0               \n",
       "1922                                                   0               \n",
       "...                                                  ...               \n",
       "64612                                                  0               \n",
       "64613                                                  0               \n",
       "64648                                                  0               \n",
       "64685                                                  0               \n",
       "64852                                                  0               \n",
       "\n",
       "       logical job name_vEZciGV61AjVZX9L83VJr8O3rT1DP094e2uHbksUjxs=  \\\n",
       "321                                                    0               \n",
       "1015                                                   0               \n",
       "1559                                                   0               \n",
       "1560                                                   0               \n",
       "1922                                                   0               \n",
       "...                                                  ...               \n",
       "64612                                                  0               \n",
       "64613                                                  0               \n",
       "64648                                                  0               \n",
       "64685                                                  0               \n",
       "64852                                                  0               \n",
       "\n",
       "       logical job name_yUcoKNSDOcjVXBq4jjc9G7WSztqiG4rp3PIHlfKAgBA=  \\\n",
       "321                                                    0               \n",
       "1015                                                   0               \n",
       "1559                                                   0               \n",
       "1560                                                   0               \n",
       "1922                                                   0               \n",
       "...                                                  ...               \n",
       "64612                                                  0               \n",
       "64613                                                  0               \n",
       "64648                                                  0               \n",
       "64685                                                  0               \n",
       "64852                                                  0               \n",
       "\n",
       "       logical job name_yVIRahrv8Z2KjOxCDQb3Y6flkxNj/h+w2fRbjVEk2BE=  \\\n",
       "321                                                    0               \n",
       "1015                                                   0               \n",
       "1559                                                   0               \n",
       "1560                                                   0               \n",
       "1922                                                   0               \n",
       "...                                                  ...               \n",
       "64612                                                  0               \n",
       "64613                                                  0               \n",
       "64648                                                  1               \n",
       "64685                                                  0               \n",
       "64852                                                  0               \n",
       "\n",
       "       logical job name_zJZMGR20g6eKwI7qa/4PXk8u1Q+keq0asAokMG/Gy8k=  \\\n",
       "321                                                    0               \n",
       "1015                                                   0               \n",
       "1559                                                   0               \n",
       "1560                                                   0               \n",
       "1922                                                   0               \n",
       "...                                                  ...               \n",
       "64612                                                  0               \n",
       "64613                                                  0               \n",
       "64648                                                  0               \n",
       "64685                                                  0               \n",
       "64852                                                  0               \n",
       "\n",
       "       logical job name_zQSNnHa/M/Mz9atyv0jkyDeloLh4SC/vumFDjkeaxrQ=  \\\n",
       "321                                                    0               \n",
       "1015                                                   0               \n",
       "1559                                                   0               \n",
       "1560                                                   0               \n",
       "1922                                                   0               \n",
       "...                                                  ...               \n",
       "64612                                                  0               \n",
       "64613                                                  0               \n",
       "64648                                                  0               \n",
       "64685                                                  0               \n",
       "64852                                                  0               \n",
       "\n",
       "       logical job name_zjs21/6QU0kMUI44u8XOi4vvdsxS49aw3IFUXhFf0M8=  \n",
       "321                                                    0              \n",
       "1015                                                   0              \n",
       "1559                                                   0              \n",
       "1560                                                   0              \n",
       "1922                                                   0              \n",
       "...                                                  ...              \n",
       "64612                                                  0              \n",
       "64613                                                  0              \n",
       "64648                                                  0              \n",
       "64685                                                  0              \n",
       "64852                                                  0              \n",
       "\n",
       "[190 rows x 113 columns]"
      ]
     },
     "execution_count": 27,
     "metadata": {},
     "output_type": "execute_result"
    }
   ],
   "source": [
    "oneHotDf"
   ]
  },
  {
   "cell_type": "markdown",
   "id": "9fa8f813-ecca-41e3-8515-57497db4b46d",
   "metadata": {
    "tags": []
   },
   "source": [
    "## XGBoost"
   ]
  },
  {
   "cell_type": "code",
   "execution_count": 28,
   "id": "b3c62658-f923-4ec8-83bf-f549a5adf01e",
   "metadata": {
    "execution": {
     "iopub.execute_input": "2022-01-25T16:38:40.519370Z",
     "iopub.status.busy": "2022-01-25T16:38:40.518928Z",
     "iopub.status.idle": "2022-01-25T16:38:40.523784Z",
     "shell.execute_reply": "2022-01-25T16:38:40.522929Z",
     "shell.execute_reply.started": "2022-01-25T16:38:40.519341Z"
    },
    "tags": []
   },
   "outputs": [],
   "source": [
    "model = xgb.XGBClassifier()"
   ]
  },
  {
   "cell_type": "code",
   "execution_count": 29,
   "id": "ddab02d6-8398-4937-9fcb-3a393ffe9fbc",
   "metadata": {
    "execution": {
     "iopub.execute_input": "2022-01-25T16:38:40.525784Z",
     "iopub.status.busy": "2022-01-25T16:38:40.525389Z",
     "iopub.status.idle": "2022-01-25T16:38:40.531558Z",
     "shell.execute_reply": "2022-01-25T16:38:40.530570Z",
     "shell.execute_reply.started": "2022-01-25T16:38:40.525755Z"
    },
    "tags": []
   },
   "outputs": [],
   "source": [
    "oneHotDf.columns = [col.replace('[', '').replace(']','').replace(',',' ').replace(' ', '_').replace(' ', '') for col in oneHotDf.columns]"
   ]
  },
  {
   "cell_type": "markdown",
   "id": "2a92cca0-7974-4d84-956d-8e1333a1c889",
   "metadata": {},
   "source": [
    "#### K-Means 4 - cl.0"
   ]
  },
  {
   "cell_type": "code",
   "execution_count": 30,
   "id": "dc2ebb27-787a-4958-be24-801f9c8c11e1",
   "metadata": {
    "execution": {
     "iopub.execute_input": "2022-01-25T16:38:40.533305Z",
     "iopub.status.busy": "2022-01-25T16:38:40.532919Z",
     "iopub.status.idle": "2022-01-25T16:38:45.805135Z",
     "shell.execute_reply": "2022-01-25T16:38:45.804425Z",
     "shell.execute_reply.started": "2022-01-25T16:38:40.533274Z"
    },
    "tags": []
   },
   "outputs": [
    {
     "name": "stderr",
     "output_type": "stream",
     "text": [
      "/opt/anaconda3/envs/neuralnets/lib/python3.9/site-packages/xgboost/sklearn.py:1224: UserWarning: The use of label encoder in XGBClassifier is deprecated and will be removed in a future release. To remove this warning, do the following: 1) Pass option use_label_encoder=False when constructing XGBClassifier object; and 2) Encode your labels (y) as integers starting with 0, i.e. 0, 1, 2, ..., [num_class - 1].\n",
      "  warnings.warn(label_encoder_deprecation_msg, UserWarning)\n"
     ]
    },
    {
     "name": "stdout",
     "output_type": "stream",
     "text": [
      "[17:38:40] WARNING: ../src/learner.cc:1115: Starting in XGBoost 1.3.0, the default evaluation metric used with the objective 'binary:logistic' was changed from 'error' to 'logloss'. Explicitly set eval_metric if you'd like to restore the old behavior.\n"
     ]
    },
    {
     "data": {
      "text/plain": [
       "XGBClassifier(base_score=0.5, booster='gbtree', colsample_bylevel=1,\n",
       "              colsample_bynode=1, colsample_bytree=1, enable_categorical=False,\n",
       "              gamma=0, gpu_id=-1, importance_type=None,\n",
       "              interaction_constraints='', learning_rate=0.300000012,\n",
       "              max_delta_step=0, max_depth=6, min_child_weight=1, missing=nan,\n",
       "              monotone_constraints='()', n_estimators=100, n_jobs=80,\n",
       "              num_parallel_tree=1, predictor='auto', random_state=0,\n",
       "              reg_alpha=0, reg_lambda=1, scale_pos_weight=1, subsample=1,\n",
       "              tree_method='exact', validate_parameters=1, verbosity=None)"
      ]
     },
     "execution_count": 30,
     "metadata": {},
     "output_type": "execute_result"
    }
   ],
   "source": [
    "model.fit(oneHotDf, (user_metadata['K-Means = 4'] == 0).astype(int).values)"
   ]
  },
  {
   "cell_type": "code",
   "execution_count": 31,
   "id": "bf8f047f-22c4-4333-afe2-b074f2d1f9df",
   "metadata": {
    "execution": {
     "iopub.execute_input": "2022-01-25T16:38:45.806419Z",
     "iopub.status.busy": "2022-01-25T16:38:45.806196Z",
     "iopub.status.idle": "2022-01-25T16:38:45.826901Z",
     "shell.execute_reply": "2022-01-25T16:38:45.826237Z",
     "shell.execute_reply.started": "2022-01-25T16:38:45.806389Z"
    },
    "tags": []
   },
   "outputs": [
    {
     "data": {
      "text/plain": [
       "{'scheduling_class': 0.04383699595928192,\n",
       " 'disk_space_request_-_Quartiles_Q1': 0.5545803904533386,\n",
       " 'disk_space_request_-_Quartiles_Q2': 0.08822868019342422,\n",
       " 'disk_space_request_-_Quartiles_Q4': 0.045778434723615646,\n",
       " 'memory_request_-_Quartiles_Q2': 0.06778456270694733,\n",
       " 'memory_request_-_Quartiles_Q3': 0.09083482623100281,\n",
       " 'memory_request_-_Quartiles_Q4': 0.024448029696941376,\n",
       " 'CPU_request_-_Quartiles_Q1': 0.039329659193754196,\n",
       " 'CPU_request_-_Quartiles_Q2': 0.089866504073143,\n",
       " 'CPU_request_-_Quartiles_Q3': 0.04103630408644676,\n",
       " 'CPU_request_-_Quartiles_Q4': 0.11687999963760376,\n",
       " 'priority_labels_Free_0_1': 0.048117224127054214,\n",
       " 'logical_job_name_F1BfEnSeC8ZBresily11DA02jCLrIE6Svxxw0csgAuU=': 0.04466797411441803,\n",
       " 'logical_job_name_Uz1FE3xBXQAVTIjiZlJjuewGhvo+vb+494mMeR18zT8=': 0.1275177001953125,\n",
       " 'logical_job_name_f7WFf9GHe6IJiWeFjqoqhEKiQ94wHFwI1e05vf2/Rbo=': 0.014363216236233711,\n",
       " 'logical_job_name_h8JLKv8xlfsO0x8vj/+mOJsBdPsjjsrGKWag+H5IsqU=': 0.05685174837708473,\n",
       " 'logical_job_name_qZNuuKc9BUuzCAnBpGbi11SV3qLhTgEB+6MSvGsFh9Y=': 0.11563298851251602,\n",
       " 'logical_job_name_rsy/Jo2Au/c5VHFUzPaq9rdfLsSIhHjv6RJHJL50FNk=': 0.08363942056894302,\n",
       " 'logical_job_name_yVIRahrv8Z2KjOxCDQb3Y6flkxNj/h+w2fRbjVEk2BE=': 0.7877985835075378}"
      ]
     },
     "execution_count": 31,
     "metadata": {},
     "output_type": "execute_result"
    }
   ],
   "source": [
    "model.get_booster().get_score(importance_type='gain')"
   ]
  },
  {
   "cell_type": "code",
   "execution_count": 32,
   "id": "e0b6ed9f-3c2f-433c-90e6-ec4ab1f636fd",
   "metadata": {
    "execution": {
     "iopub.execute_input": "2022-01-25T16:38:45.828019Z",
     "iopub.status.busy": "2022-01-25T16:38:45.827801Z",
     "iopub.status.idle": "2022-01-25T16:38:45.940125Z",
     "shell.execute_reply": "2022-01-25T16:38:45.939241Z",
     "shell.execute_reply.started": "2022-01-25T16:38:45.827993Z"
    },
    "tags": []
   },
   "outputs": [
    {
     "data": {
      "image/svg+xml": [
       "<?xml version=\"1.0\" encoding=\"UTF-8\" standalone=\"no\"?>\n",
       "<!DOCTYPE svg PUBLIC \"-//W3C//DTD SVG 1.1//EN\"\n",
       " \"http://www.w3.org/Graphics/SVG/1.1/DTD/svg11.dtd\">\n",
       "<!-- Generated by graphviz version 2.40.1 (20161225.0304)\n",
       " -->\n",
       "<!-- Title: %3 Pages: 1 -->\n",
       "<svg width=\"948pt\" height=\"305pt\"\n",
       " viewBox=\"0.00 0.00 947.90 305.00\" xmlns=\"http://www.w3.org/2000/svg\" xmlns:xlink=\"http://www.w3.org/1999/xlink\">\n",
       "<g id=\"graph0\" class=\"graph\" transform=\"scale(1 1) rotate(0) translate(4 301)\">\n",
       "<title>%3</title>\n",
       "<polygon fill=\"#ffffff\" stroke=\"transparent\" points=\"-4,4 -4,-301 943.8979,-301 943.8979,4 -4,4\"/>\n",
       "<!-- 0 -->\n",
       "<g id=\"node1\" class=\"node\">\n",
       "<title>0</title>\n",
       "<ellipse fill=\"none\" stroke=\"#000000\" cx=\"650.6736\" cy=\"-279\" rx=\"289.4488\" ry=\"18\"/>\n",
       "<text text-anchor=\"middle\" x=\"650.6736\" y=\"-275.3\" font-family=\"Times,serif\" font-size=\"14.00\" fill=\"#000000\">logical_job_name_rsy/Jo2Au/c5VHFUzPaq9rdfLsSIhHjv6RJHJL50FNk=&lt;0.5</text>\n",
       "</g>\n",
       "<!-- 1 -->\n",
       "<g id=\"node2\" class=\"node\">\n",
       "<title>1</title>\n",
       "<ellipse fill=\"none\" stroke=\"#000000\" cx=\"473.6736\" cy=\"-192\" rx=\"300.0469\" ry=\"18\"/>\n",
       "<text text-anchor=\"middle\" x=\"473.6736\" y=\"-188.3\" font-family=\"Times,serif\" font-size=\"14.00\" fill=\"#000000\">logical_job_name_yVIRahrv8Z2KjOxCDQb3Y6flkxNj/h+w2fRbjVEk2BE=&lt;0.5</text>\n",
       "</g>\n",
       "<!-- 0&#45;&gt;1 -->\n",
       "<g id=\"edge1\" class=\"edge\">\n",
       "<title>0&#45;&gt;1</title>\n",
       "<path fill=\"none\" stroke=\"#0000ff\" d=\"M613.9991,-260.9735C586.5881,-247.5003 548.9356,-228.9932 519.5338,-214.5415\"/>\n",
       "<polygon fill=\"#0000ff\" stroke=\"#0000ff\" points=\"520.8196,-211.2735 510.3011,-210.0034 517.7317,-217.5557 520.8196,-211.2735\"/>\n",
       "<text text-anchor=\"middle\" x=\"607.6736\" y=\"-231.8\" font-family=\"Times,serif\" font-size=\"14.00\" fill=\"#000000\">yes, missing</text>\n",
       "</g>\n",
       "<!-- 2 -->\n",
       "<g id=\"node3\" class=\"node\">\n",
       "<title>2</title>\n",
       "<ellipse fill=\"none\" stroke=\"#000000\" cx=\"828.6736\" cy=\"-192\" rx=\"36.2938\" ry=\"18\"/>\n",
       "<text text-anchor=\"middle\" x=\"828.6736\" y=\"-188.3\" font-family=\"Times,serif\" font-size=\"14.00\" fill=\"#000000\">leaf=&#45;0</text>\n",
       "</g>\n",
       "<!-- 0&#45;&gt;2 -->\n",
       "<g id=\"edge2\" class=\"edge\">\n",
       "<title>0&#45;&gt;2</title>\n",
       "<path fill=\"none\" stroke=\"#ff0000\" d=\"M687.5553,-260.9735C718.7473,-245.728 763.1265,-224.0371 793.7497,-209.0696\"/>\n",
       "<polygon fill=\"#ff0000\" stroke=\"#ff0000\" points=\"795.3346,-212.1907 802.7819,-204.6549 792.2607,-205.9017 795.3346,-212.1907\"/>\n",
       "<text text-anchor=\"middle\" x=\"757.6736\" y=\"-231.8\" font-family=\"Times,serif\" font-size=\"14.00\" fill=\"#000000\">no</text>\n",
       "</g>\n",
       "<!-- 3 -->\n",
       "<g id=\"node4\" class=\"node\">\n",
       "<title>3</title>\n",
       "<ellipse fill=\"none\" stroke=\"#000000\" cx=\"297.6736\" cy=\"-105\" rx=\"297.8473\" ry=\"18\"/>\n",
       "<text text-anchor=\"middle\" x=\"297.6736\" y=\"-101.3\" font-family=\"Times,serif\" font-size=\"14.00\" fill=\"#000000\">logical_job_name_f7WFf9GHe6IJiWeFjqoqhEKiQ94wHFwI1e05vf2/Rbo=&lt;0.5</text>\n",
       "</g>\n",
       "<!-- 1&#45;&gt;3 -->\n",
       "<g id=\"edge3\" class=\"edge\">\n",
       "<title>1&#45;&gt;3</title>\n",
       "<path fill=\"none\" stroke=\"#0000ff\" d=\"M437.2063,-173.9735C409.9501,-160.5003 372.5104,-141.9932 343.2747,-127.5415\"/>\n",
       "<polygon fill=\"#0000ff\" stroke=\"#0000ff\" points=\"344.6097,-124.2972 334.0942,-123.0034 341.5078,-130.5724 344.6097,-124.2972\"/>\n",
       "<text text-anchor=\"middle\" x=\"430.6736\" y=\"-144.8\" font-family=\"Times,serif\" font-size=\"14.00\" fill=\"#000000\">yes, missing</text>\n",
       "</g>\n",
       "<!-- 4 -->\n",
       "<g id=\"node5\" class=\"node\">\n",
       "<title>4</title>\n",
       "<ellipse fill=\"none\" stroke=\"#000000\" cx=\"649.6736\" cy=\"-105\" rx=\"36.2938\" ry=\"18\"/>\n",
       "<text text-anchor=\"middle\" x=\"649.6736\" y=\"-101.3\" font-family=\"Times,serif\" font-size=\"14.00\" fill=\"#000000\">leaf=&#45;0</text>\n",
       "</g>\n",
       "<!-- 1&#45;&gt;4 -->\n",
       "<g id=\"edge4\" class=\"edge\">\n",
       "<title>1&#45;&gt;4</title>\n",
       "<path fill=\"none\" stroke=\"#ff0000\" d=\"M510.1409,-173.9735C540.7586,-158.8386 584.2269,-137.3515 614.4808,-122.3964\"/>\n",
       "<polygon fill=\"#ff0000\" stroke=\"#ff0000\" points=\"616.3926,-125.3557 623.8061,-117.7868 613.2906,-119.0806 616.3926,-125.3557\"/>\n",
       "<text text-anchor=\"middle\" x=\"579.6736\" y=\"-144.8\" font-family=\"Times,serif\" font-size=\"14.00\" fill=\"#000000\">no</text>\n",
       "</g>\n",
       "<!-- 5 -->\n",
       "<g id=\"node6\" class=\"node\">\n",
       "<title>5</title>\n",
       "<ellipse fill=\"none\" stroke=\"#000000\" cx=\"211.6736\" cy=\"-18\" rx=\"75.2868\" ry=\"18\"/>\n",
       "<text text-anchor=\"middle\" x=\"211.6736\" y=\"-14.3\" font-family=\"Times,serif\" font-size=\"14.00\" fill=\"#000000\">leaf=0.349152565</text>\n",
       "</g>\n",
       "<!-- 3&#45;&gt;5 -->\n",
       "<g id=\"edge5\" class=\"edge\">\n",
       "<title>3&#45;&gt;5</title>\n",
       "<path fill=\"none\" stroke=\"#0000ff\" d=\"M279.8543,-86.9735C267.3178,-74.2912 250.3722,-57.1486 236.5113,-43.1265\"/>\n",
       "<polygon fill=\"#0000ff\" stroke=\"#0000ff\" points=\"238.695,-40.357 229.1758,-35.7057 233.7167,-45.2781 238.695,-40.357\"/>\n",
       "<text text-anchor=\"middle\" x=\"294.6736\" y=\"-57.8\" font-family=\"Times,serif\" font-size=\"14.00\" fill=\"#000000\">yes, missing</text>\n",
       "</g>\n",
       "<!-- 6 -->\n",
       "<g id=\"node7\" class=\"node\">\n",
       "<title>6</title>\n",
       "<ellipse fill=\"none\" stroke=\"#000000\" cx=\"384.6736\" cy=\"-18\" rx=\"79.8859\" ry=\"18\"/>\n",
       "<text text-anchor=\"middle\" x=\"384.6736\" y=\"-14.3\" font-family=\"Times,serif\" font-size=\"14.00\" fill=\"#000000\">leaf=0.0666666701</text>\n",
       "</g>\n",
       "<!-- 3&#45;&gt;6 -->\n",
       "<g id=\"edge6\" class=\"edge\">\n",
       "<title>3&#45;&gt;6</title>\n",
       "<path fill=\"none\" stroke=\"#ff0000\" d=\"M315.7,-86.9735C328.3824,-74.2912 345.525,-57.1486 359.547,-43.1265\"/>\n",
       "<polygon fill=\"#ff0000\" stroke=\"#ff0000\" points=\"362.3717,-45.2517 366.9679,-35.7057 357.4219,-40.3019 362.3717,-45.2517\"/>\n",
       "<text text-anchor=\"middle\" x=\"353.6736\" y=\"-57.8\" font-family=\"Times,serif\" font-size=\"14.00\" fill=\"#000000\">no</text>\n",
       "</g>\n",
       "</g>\n",
       "</svg>\n"
      ],
      "text/plain": [
       "<graphviz.sources.Source at 0x7f1a9806f2b0>"
      ]
     },
     "execution_count": 32,
     "metadata": {},
     "output_type": "execute_result"
    }
   ],
   "source": [
    "xgb.to_graphviz(model)"
   ]
  },
  {
   "cell_type": "code",
   "execution_count": 33,
   "id": "06881ed4-73d2-4b5d-bb34-f67f5801591e",
   "metadata": {
    "execution": {
     "iopub.execute_input": "2022-01-25T16:38:45.941763Z",
     "iopub.status.busy": "2022-01-25T16:38:45.941495Z",
     "iopub.status.idle": "2022-01-25T16:38:45.946265Z",
     "shell.execute_reply": "2022-01-25T16:38:45.945560Z",
     "shell.execute_reply.started": "2022-01-25T16:38:45.941728Z"
    },
    "tags": []
   },
   "outputs": [],
   "source": [
    "scoring = {'acc': 'accuracy',\n",
    "           'f1_macro': 'f1_macro',\n",
    "           'f1_weight': 'f1_weighted'}"
   ]
  },
  {
   "cell_type": "code",
   "execution_count": 34,
   "id": "719cee43-30e5-462c-8856-c38fe70beeaf",
   "metadata": {
    "execution": {
     "iopub.execute_input": "2022-01-25T16:38:45.947613Z",
     "iopub.status.busy": "2022-01-25T16:38:45.947327Z",
     "iopub.status.idle": "2022-01-25T16:38:48.293414Z",
     "shell.execute_reply": "2022-01-25T16:38:48.292766Z",
     "shell.execute_reply.started": "2022-01-25T16:38:45.947586Z"
    },
    "tags": []
   },
   "outputs": [
    {
     "name": "stderr",
     "output_type": "stream",
     "text": [
      "/opt/anaconda3/envs/neuralnets/lib/python3.9/site-packages/xgboost/sklearn.py:1224: UserWarning: The use of label encoder in XGBClassifier is deprecated and will be removed in a future release. To remove this warning, do the following: 1) Pass option use_label_encoder=False when constructing XGBClassifier object; and 2) Encode your labels (y) as integers starting with 0, i.e. 0, 1, 2, ..., [num_class - 1].\n",
      "  warnings.warn(label_encoder_deprecation_msg, UserWarning)\n"
     ]
    },
    {
     "name": "stdout",
     "output_type": "stream",
     "text": [
      "[17:38:45] WARNING: ../src/learner.cc:1115: Starting in XGBoost 1.3.0, the default evaluation metric used with the objective 'binary:logistic' was changed from 'error' to 'logloss'. Explicitly set eval_metric if you'd like to restore the old behavior.\n",
      "[17:38:46] WARNING: ../src/learner.cc:1115: Starting in XGBoost 1.3.0, the default evaluation metric used with the objective 'binary:logistic' was changed from 'error' to 'logloss'. Explicitly set eval_metric if you'd like to restore the old behavior.\n",
      "[17:38:46] WARNING: ../src/learner.cc:1115: Starting in XGBoost 1.3.0, the default evaluation metric used with the objective 'binary:logistic' was changed from 'error' to 'logloss'. Explicitly set eval_metric if you'd like to restore the old behavior.\n",
      "[17:38:46] WARNING: ../src/learner.cc:1115: Starting in XGBoost 1.3.0, the default evaluation metric used with the objective 'binary:logistic' was changed from 'error' to 'logloss'. Explicitly set eval_metric if you'd like to restore the old behavior.\n",
      "[17:38:46] WARNING: ../src/learner.cc:1115: Starting in XGBoost 1.3.0, the default evaluation metric used with the objective 'binary:logistic' was changed from 'error' to 'logloss'. Explicitly set eval_metric if you'd like to restore the old behavior.\n",
      "[17:38:47] WARNING: ../src/learner.cc:1115: Starting in XGBoost 1.3.0, the default evaluation metric used with the objective 'binary:logistic' was changed from 'error' to 'logloss'. Explicitly set eval_metric if you'd like to restore the old behavior.\n",
      "[17:38:47] WARNING: ../src/learner.cc:1115: Starting in XGBoost 1.3.0, the default evaluation metric used with the objective 'binary:logistic' was changed from 'error' to 'logloss'. Explicitly set eval_metric if you'd like to restore the old behavior.\n",
      "[17:38:47] WARNING: ../src/learner.cc:1115: Starting in XGBoost 1.3.0, the default evaluation metric used with the objective 'binary:logistic' was changed from 'error' to 'logloss'. Explicitly set eval_metric if you'd like to restore the old behavior.\n",
      "[17:38:47] WARNING: ../src/learner.cc:1115: Starting in XGBoost 1.3.0, the default evaluation metric used with the objective 'binary:logistic' was changed from 'error' to 'logloss'. Explicitly set eval_metric if you'd like to restore the old behavior.\n",
      "[17:38:48] WARNING: ../src/learner.cc:1115: Starting in XGBoost 1.3.0, the default evaluation metric used with the objective 'binary:logistic' was changed from 'error' to 'logloss'. Explicitly set eval_metric if you'd like to restore the old behavior.\n"
     ]
    }
   ],
   "source": [
    "kfold = KFold(n_splits=10)\n",
    "model0 = xgb.XGBClassifier(max_depth=6, min_child_weight=1, subsample=0.8879, eta=0.099)\n",
    "results0 = cross_validate(model0, oneHotDf, (user_metadata['K-Means = 4'] == 0).astype(int).values, scoring=scoring, cv=kfold)"
   ]
  },
  {
   "cell_type": "code",
   "execution_count": 35,
   "id": "6d8666d8-00ad-4eda-8409-30883b7c1bcb",
   "metadata": {
    "execution": {
     "iopub.execute_input": "2022-01-25T16:38:48.294687Z",
     "iopub.status.busy": "2022-01-25T16:38:48.294477Z",
     "iopub.status.idle": "2022-01-25T16:38:48.305667Z",
     "shell.execute_reply": "2022-01-25T16:38:48.304833Z",
     "shell.execute_reply.started": "2022-01-25T16:38:48.294659Z"
    },
    "tags": []
   },
   "outputs": [
    {
     "name": "stdout",
     "output_type": "stream",
     "text": [
      "75.26315789473685 10.27327436628586\n"
     ]
    }
   ],
   "source": [
    "print(results0['test_acc'].mean()*100, results0['test_acc'].std()*100) "
   ]
  },
  {
   "cell_type": "code",
   "execution_count": 36,
   "id": "66071a9c-2545-406c-8028-24e8bffea3d3",
   "metadata": {
    "execution": {
     "iopub.execute_input": "2022-01-25T16:38:48.306952Z",
     "iopub.status.busy": "2022-01-25T16:38:48.306693Z",
     "iopub.status.idle": "2022-01-25T16:38:48.319068Z",
     "shell.execute_reply": "2022-01-25T16:38:48.318453Z",
     "shell.execute_reply.started": "2022-01-25T16:38:48.306915Z"
    },
    "tags": []
   },
   "outputs": [
    {
     "name": "stdout",
     "output_type": "stream",
     "text": [
      "43.93439384947924 4.346522875095835\n"
     ]
    }
   ],
   "source": [
    "print(results0['test_f1_macro'].mean()*100, results0['test_f1_macro'].std()*100) "
   ]
  },
  {
   "cell_type": "code",
   "execution_count": 37,
   "id": "ae76e827-cf47-407a-9adc-5a1f57190084",
   "metadata": {
    "execution": {
     "iopub.execute_input": "2022-01-25T16:38:48.320055Z",
     "iopub.status.busy": "2022-01-25T16:38:48.319864Z",
     "iopub.status.idle": "2022-01-25T16:38:48.334664Z",
     "shell.execute_reply": "2022-01-25T16:38:48.324391Z",
     "shell.execute_reply.started": "2022-01-25T16:38:48.320030Z"
    },
    "tags": []
   },
   "outputs": [
    {
     "name": "stdout",
     "output_type": "stream",
     "text": [
      "67.24421539701675 14.028775608029893\n"
     ]
    }
   ],
   "source": [
    "print(results0['test_f1_weight'].mean()*100, results0['test_f1_weight'].std()*100) "
   ]
  },
  {
   "cell_type": "markdown",
   "id": "17652ef0-113d-482c-990a-d600590513d6",
   "metadata": {},
   "source": [
    "#### K-Means 4 -cl.1"
   ]
  },
  {
   "cell_type": "code",
   "execution_count": 38,
   "id": "8953a23a-9755-4314-b314-f284218d0575",
   "metadata": {
    "execution": {
     "iopub.execute_input": "2022-01-25T16:38:48.336005Z",
     "iopub.status.busy": "2022-01-25T16:38:48.335800Z",
     "iopub.status.idle": "2022-01-25T16:38:49.429961Z",
     "shell.execute_reply": "2022-01-25T16:38:49.429402Z",
     "shell.execute_reply.started": "2022-01-25T16:38:48.335979Z"
    },
    "tags": []
   },
   "outputs": [
    {
     "name": "stdout",
     "output_type": "stream",
     "text": [
      "[17:38:48] WARNING: ../src/learner.cc:1115: Starting in XGBoost 1.3.0, the default evaluation metric used with the objective 'binary:logistic' was changed from 'error' to 'logloss'. Explicitly set eval_metric if you'd like to restore the old behavior.\n"
     ]
    },
    {
     "name": "stderr",
     "output_type": "stream",
     "text": [
      "/opt/anaconda3/envs/neuralnets/lib/python3.9/site-packages/sklearn/model_selection/_split.py:293: FutureWarning: Setting a random_state has no effect since shuffle is False. This will raise an error in 0.24. You should leave random_state to its default (None), or set shuffle=True.\n",
      "  warnings.warn(\n"
     ]
    },
    {
     "name": "stdout",
     "output_type": "stream",
     "text": [
      "[17:38:48] WARNING: ../src/learner.cc:1115: Starting in XGBoost 1.3.0, the default evaluation metric used with the objective 'binary:logistic' was changed from 'error' to 'logloss'. Explicitly set eval_metric if you'd like to restore the old behavior.\n",
      "[17:38:48] WARNING: ../src/learner.cc:1115: Starting in XGBoost 1.3.0, the default evaluation metric used with the objective 'binary:logistic' was changed from 'error' to 'logloss'. Explicitly set eval_metric if you'd like to restore the old behavior.\n",
      "[17:38:48] WARNING: ../src/learner.cc:1115: Starting in XGBoost 1.3.0, the default evaluation metric used with the objective 'binary:logistic' was changed from 'error' to 'logloss'. Explicitly set eval_metric if you'd like to restore the old behavior.\n",
      "[17:38:48] WARNING: ../src/learner.cc:1115: Starting in XGBoost 1.3.0, the default evaluation metric used with the objective 'binary:logistic' was changed from 'error' to 'logloss'. Explicitly set eval_metric if you'd like to restore the old behavior.\n",
      "[17:38:48] WARNING: ../src/learner.cc:1115: Starting in XGBoost 1.3.0, the default evaluation metric used with the objective 'binary:logistic' was changed from 'error' to 'logloss'. Explicitly set eval_metric if you'd like to restore the old behavior.\n",
      "[17:38:49] WARNING: ../src/learner.cc:1115: Starting in XGBoost 1.3.0, the default evaluation metric used with the objective 'binary:logistic' was changed from 'error' to 'logloss'. Explicitly set eval_metric if you'd like to restore the old behavior.\n",
      "[17:38:49] WARNING: ../src/learner.cc:1115: Starting in XGBoost 1.3.0, the default evaluation metric used with the objective 'binary:logistic' was changed from 'error' to 'logloss'. Explicitly set eval_metric if you'd like to restore the old behavior.\n",
      "[17:38:49] WARNING: ../src/learner.cc:1115: Starting in XGBoost 1.3.0, the default evaluation metric used with the objective 'binary:logistic' was changed from 'error' to 'logloss'. Explicitly set eval_metric if you'd like to restore the old behavior.\n",
      "[17:38:49] WARNING: ../src/learner.cc:1115: Starting in XGBoost 1.3.0, the default evaluation metric used with the objective 'binary:logistic' was changed from 'error' to 'logloss'. Explicitly set eval_metric if you'd like to restore the old behavior.\n"
     ]
    }
   ],
   "source": [
    "kfold = KFold(n_splits=10, random_state=7)\n",
    "model1 = xgb.XGBClassifier()\n",
    "results1 = cross_validate(model, oneHotDf, (user_metadata['K-Means = 4'] == 1).astype(int).values, scoring=scoring, cv=kfold)"
   ]
  },
  {
   "cell_type": "code",
   "execution_count": 39,
   "id": "1c45d65b-802e-4913-98de-c418424ddbf8",
   "metadata": {
    "execution": {
     "iopub.execute_input": "2022-01-25T16:38:49.430981Z",
     "iopub.status.busy": "2022-01-25T16:38:49.430781Z",
     "iopub.status.idle": "2022-01-25T16:38:49.440864Z",
     "shell.execute_reply": "2022-01-25T16:38:49.440325Z",
     "shell.execute_reply.started": "2022-01-25T16:38:49.430955Z"
    },
    "tags": []
   },
   "outputs": [
    {
     "name": "stdout",
     "output_type": "stream",
     "text": [
      "99.47368421052632 1.5789473684210544\n"
     ]
    }
   ],
   "source": [
    "print(results1['test_acc'].mean()*100, results1['test_acc'].std()*100) "
   ]
  },
  {
   "cell_type": "code",
   "execution_count": 40,
   "id": "84972fdd-a40d-4a58-a8f7-fcd55e641077",
   "metadata": {
    "execution": {
     "iopub.execute_input": "2022-01-25T16:38:49.441745Z",
     "iopub.status.busy": "2022-01-25T16:38:49.441560Z",
     "iopub.status.idle": "2022-01-25T16:38:49.451050Z",
     "shell.execute_reply": "2022-01-25T16:38:49.450536Z",
     "shell.execute_reply.started": "2022-01-25T16:38:49.441720Z"
    },
    "tags": []
   },
   "outputs": [
    {
     "name": "stdout",
     "output_type": "stream",
     "text": [
      "94.86486486486486 15.405405405405403\n"
     ]
    }
   ],
   "source": [
    "print(results1['test_f1_macro'].mean()*100, results1['test_f1_macro'].std()*100) "
   ]
  },
  {
   "cell_type": "code",
   "execution_count": 41,
   "id": "fd4af7c5-b2ab-4d64-b29c-8102cac3580e",
   "metadata": {
    "execution": {
     "iopub.execute_input": "2022-01-25T16:38:49.451903Z",
     "iopub.status.busy": "2022-01-25T16:38:49.451722Z",
     "iopub.status.idle": "2022-01-25T16:38:49.461238Z",
     "shell.execute_reply": "2022-01-25T16:38:49.460733Z",
     "shell.execute_reply.started": "2022-01-25T16:38:49.451880Z"
    },
    "tags": []
   },
   "outputs": [
    {
     "name": "stdout",
     "output_type": "stream",
     "text": [
      "99.21763869132289 2.3470839260312895\n"
     ]
    }
   ],
   "source": [
    "print(results1['test_f1_weight'].mean()*100, results1['test_f1_weight'].std()*100) "
   ]
  },
  {
   "cell_type": "code",
   "execution_count": 42,
   "id": "7f31ae84-a402-4dc7-86ba-081b59ce0768",
   "metadata": {
    "execution": {
     "iopub.execute_input": "2022-01-25T16:38:49.462087Z",
     "iopub.status.busy": "2022-01-25T16:38:49.461899Z",
     "iopub.status.idle": "2022-01-25T16:38:49.568422Z",
     "shell.execute_reply": "2022-01-25T16:38:49.567905Z",
     "shell.execute_reply.started": "2022-01-25T16:38:49.462065Z"
    },
    "tags": []
   },
   "outputs": [
    {
     "name": "stdout",
     "output_type": "stream",
     "text": [
      "[17:38:49] WARNING: ../src/learner.cc:1115: Starting in XGBoost 1.3.0, the default evaluation metric used with the objective 'binary:logistic' was changed from 'error' to 'logloss'. Explicitly set eval_metric if you'd like to restore the old behavior.\n"
     ]
    },
    {
     "data": {
      "text/plain": [
       "XGBClassifier(base_score=0.5, booster='gbtree', colsample_bylevel=1,\n",
       "              colsample_bynode=1, colsample_bytree=1, enable_categorical=False,\n",
       "              gamma=0, gpu_id=-1, importance_type=None,\n",
       "              interaction_constraints='', learning_rate=0.300000012,\n",
       "              max_delta_step=0, max_depth=6, min_child_weight=1, missing=nan,\n",
       "              monotone_constraints='()', n_estimators=100, n_jobs=80,\n",
       "              num_parallel_tree=1, predictor='auto', random_state=0,\n",
       "              reg_alpha=0, reg_lambda=1, scale_pos_weight=1, subsample=1,\n",
       "              tree_method='exact', validate_parameters=1, verbosity=None)"
      ]
     },
     "execution_count": 42,
     "metadata": {},
     "output_type": "execute_result"
    }
   ],
   "source": [
    "model1.fit(oneHotDf, (user_metadata['K-Means = 4'] == 1).astype(int).values)"
   ]
  },
  {
   "cell_type": "code",
   "execution_count": 43,
   "id": "0ef1cf6e-6586-4b7a-91f5-9030f8f93d3c",
   "metadata": {
    "execution": {
     "iopub.execute_input": "2022-01-25T16:38:49.569278Z",
     "iopub.status.busy": "2022-01-25T16:38:49.569100Z",
     "iopub.status.idle": "2022-01-25T16:38:49.630049Z",
     "shell.execute_reply": "2022-01-25T16:38:49.629408Z",
     "shell.execute_reply.started": "2022-01-25T16:38:49.569255Z"
    },
    "tags": []
   },
   "outputs": [
    {
     "data": {
      "image/svg+xml": [
       "<?xml version=\"1.0\" encoding=\"UTF-8\" standalone=\"no\"?>\n",
       "<!DOCTYPE svg PUBLIC \"-//W3C//DTD SVG 1.1//EN\"\n",
       " \"http://www.w3.org/Graphics/SVG/1.1/DTD/svg11.dtd\">\n",
       "<!-- Generated by graphviz version 2.40.1 (20161225.0304)\n",
       " -->\n",
       "<!-- Title: %3 Pages: 1 -->\n",
       "<svg width=\"156pt\" height=\"44pt\"\n",
       " viewBox=\"0.00 0.00 156.19 44.00\" xmlns=\"http://www.w3.org/2000/svg\" xmlns:xlink=\"http://www.w3.org/1999/xlink\">\n",
       "<g id=\"graph0\" class=\"graph\" transform=\"scale(1 1) rotate(0) translate(4 40)\">\n",
       "<title>%3</title>\n",
       "<polygon fill=\"#ffffff\" stroke=\"transparent\" points=\"-4,4 -4,-40 152.1869,-40 152.1869,4 -4,4\"/>\n",
       "<!-- 0 -->\n",
       "<g id=\"node1\" class=\"node\">\n",
       "<title>0</title>\n",
       "<ellipse fill=\"none\" stroke=\"#000000\" cx=\"74.0934\" cy=\"-18\" rx=\"74.187\" ry=\"18\"/>\n",
       "<text text-anchor=\"middle\" x=\"74.0934\" y=\"-14.3\" font-family=\"Times,serif\" font-size=\"14.00\" fill=\"#000000\">leaf=&#45;0.58144331</text>\n",
       "</g>\n",
       "</g>\n",
       "</svg>\n"
      ],
      "text/plain": [
       "<graphviz.sources.Source at 0x7f1a906d9ee0>"
      ]
     },
     "execution_count": 43,
     "metadata": {},
     "output_type": "execute_result"
    }
   ],
   "source": [
    "xgb.to_graphviz(model1)"
   ]
  },
  {
   "cell_type": "markdown",
   "id": "e49f422a-d4e6-446c-acb3-4e6076fd6f2f",
   "metadata": {},
   "source": [
    "#### K-Means 4 - cl.2"
   ]
  },
  {
   "cell_type": "code",
   "execution_count": 44,
   "id": "bf0e5a5b-a83f-418b-a5a4-4cf3c2d5640f",
   "metadata": {
    "execution": {
     "iopub.execute_input": "2022-01-25T16:38:49.631242Z",
     "iopub.status.busy": "2022-01-25T16:38:49.631043Z",
     "iopub.status.idle": "2022-01-25T16:38:50.776353Z",
     "shell.execute_reply": "2022-01-25T16:38:50.775748Z",
     "shell.execute_reply.started": "2022-01-25T16:38:49.631215Z"
    },
    "tags": []
   },
   "outputs": [
    {
     "name": "stdout",
     "output_type": "stream",
     "text": [
      "[17:38:49] WARNING: ../src/learner.cc:1115: Starting in XGBoost 1.3.0, the default evaluation metric used with the objective 'binary:logistic' was changed from 'error' to 'logloss'. Explicitly set eval_metric if you'd like to restore the old behavior.\n"
     ]
    },
    {
     "name": "stderr",
     "output_type": "stream",
     "text": [
      "/opt/anaconda3/envs/neuralnets/lib/python3.9/site-packages/sklearn/model_selection/_split.py:293: FutureWarning: Setting a random_state has no effect since shuffle is False. This will raise an error in 0.24. You should leave random_state to its default (None), or set shuffle=True.\n",
      "  warnings.warn(\n",
      "/opt/anaconda3/envs/neuralnets/lib/python3.9/site-packages/xgboost/sklearn.py:1224: UserWarning: The use of label encoder in XGBClassifier is deprecated and will be removed in a future release. To remove this warning, do the following: 1) Pass option use_label_encoder=False when constructing XGBClassifier object; and 2) Encode your labels (y) as integers starting with 0, i.e. 0, 1, 2, ..., [num_class - 1].\n",
      "  warnings.warn(label_encoder_deprecation_msg, UserWarning)\n"
     ]
    },
    {
     "name": "stdout",
     "output_type": "stream",
     "text": [
      "[17:38:49] WARNING: ../src/learner.cc:1115: Starting in XGBoost 1.3.0, the default evaluation metric used with the objective 'binary:logistic' was changed from 'error' to 'logloss'. Explicitly set eval_metric if you'd like to restore the old behavior.\n",
      "[17:38:49] WARNING: ../src/learner.cc:1115: Starting in XGBoost 1.3.0, the default evaluation metric used with the objective 'binary:logistic' was changed from 'error' to 'logloss'. Explicitly set eval_metric if you'd like to restore the old behavior.\n",
      "[17:38:49] WARNING: ../src/learner.cc:1115: Starting in XGBoost 1.3.0, the default evaluation metric used with the objective 'binary:logistic' was changed from 'error' to 'logloss'. Explicitly set eval_metric if you'd like to restore the old behavior.\n",
      "[17:38:50] WARNING: ../src/learner.cc:1115: Starting in XGBoost 1.3.0, the default evaluation metric used with the objective 'binary:logistic' was changed from 'error' to 'logloss'. Explicitly set eval_metric if you'd like to restore the old behavior.\n",
      "[17:38:50] WARNING: ../src/learner.cc:1115: Starting in XGBoost 1.3.0, the default evaluation metric used with the objective 'binary:logistic' was changed from 'error' to 'logloss'. Explicitly set eval_metric if you'd like to restore the old behavior.\n",
      "[17:38:50] WARNING: ../src/learner.cc:1115: Starting in XGBoost 1.3.0, the default evaluation metric used with the objective 'binary:logistic' was changed from 'error' to 'logloss'. Explicitly set eval_metric if you'd like to restore the old behavior.\n",
      "[17:38:50] WARNING: ../src/learner.cc:1115: Starting in XGBoost 1.3.0, the default evaluation metric used with the objective 'binary:logistic' was changed from 'error' to 'logloss'. Explicitly set eval_metric if you'd like to restore the old behavior.\n",
      "[17:38:50] WARNING: ../src/learner.cc:1115: Starting in XGBoost 1.3.0, the default evaluation metric used with the objective 'binary:logistic' was changed from 'error' to 'logloss'. Explicitly set eval_metric if you'd like to restore the old behavior.\n",
      "[17:38:50] WARNING: ../src/learner.cc:1115: Starting in XGBoost 1.3.0, the default evaluation metric used with the objective 'binary:logistic' was changed from 'error' to 'logloss'. Explicitly set eval_metric if you'd like to restore the old behavior.\n"
     ]
    }
   ],
   "source": [
    "kfold = KFold(n_splits=10, random_state=7)\n",
    "model2 = xgb.XGBClassifier()\n",
    "results2 = cross_validate(model2, oneHotDf, (user_metadata['K-Means = 4'] == 2).astype(int).values, scoring=scoring, cv=kfold)"
   ]
  },
  {
   "cell_type": "code",
   "execution_count": 45,
   "id": "67de606e-7b4a-4439-8c5f-6ceb21b6af6a",
   "metadata": {
    "execution": {
     "iopub.execute_input": "2022-01-25T16:38:50.777497Z",
     "iopub.status.busy": "2022-01-25T16:38:50.777282Z",
     "iopub.status.idle": "2022-01-25T16:38:50.788605Z",
     "shell.execute_reply": "2022-01-25T16:38:50.787966Z",
     "shell.execute_reply.started": "2022-01-25T16:38:50.777469Z"
    },
    "tags": []
   },
   "outputs": [
    {
     "name": "stdout",
     "output_type": "stream",
     "text": [
      "97.89473684210526 3.4911839898477894\n"
     ]
    }
   ],
   "source": [
    "print(results2['test_acc'].mean()*100, results2['test_acc'].std()*100) "
   ]
  },
  {
   "cell_type": "code",
   "execution_count": 46,
   "id": "66e689ad-faad-4e0d-bd8a-4a9d978dc19b",
   "metadata": {
    "execution": {
     "iopub.execute_input": "2022-01-25T16:38:50.789661Z",
     "iopub.status.busy": "2022-01-25T16:38:50.789462Z",
     "iopub.status.idle": "2022-01-25T16:38:50.800365Z",
     "shell.execute_reply": "2022-01-25T16:38:50.799749Z",
     "shell.execute_reply.started": "2022-01-25T16:38:50.789635Z"
    },
    "tags": []
   },
   "outputs": [
    {
     "name": "stdout",
     "output_type": "stream",
     "text": [
      "84.45195195195195 23.752891228935173\n"
     ]
    }
   ],
   "source": [
    "print(results2['test_f1_macro'].mean()*100, results2['test_f1_macro'].std()*100) "
   ]
  },
  {
   "cell_type": "code",
   "execution_count": 47,
   "id": "5100b0bf-c469-48b6-8a24-944eb6e4e457",
   "metadata": {
    "execution": {
     "iopub.execute_input": "2022-01-25T16:38:50.801412Z",
     "iopub.status.busy": "2022-01-25T16:38:50.801215Z",
     "iopub.status.idle": "2022-01-25T16:38:50.812069Z",
     "shell.execute_reply": "2022-01-25T16:38:50.811441Z",
     "shell.execute_reply.started": "2022-01-25T16:38:50.801386Z"
    },
    "tags": []
   },
   "outputs": [
    {
     "name": "stdout",
     "output_type": "stream",
     "text": [
      "96.88556978030662 5.153449842623679\n"
     ]
    }
   ],
   "source": [
    "print(results2['test_f1_weight'].mean()*100, results2['test_f1_weight'].std()*100) "
   ]
  },
  {
   "cell_type": "code",
   "execution_count": 48,
   "id": "6ca748fc-0f2f-4ca3-b1af-f5a2cf293dc1",
   "metadata": {
    "execution": {
     "iopub.execute_input": "2022-01-25T16:38:50.813108Z",
     "iopub.status.busy": "2022-01-25T16:38:50.812910Z",
     "iopub.status.idle": "2022-01-25T16:38:50.965410Z",
     "shell.execute_reply": "2022-01-25T16:38:50.964813Z",
     "shell.execute_reply.started": "2022-01-25T16:38:50.813082Z"
    },
    "tags": []
   },
   "outputs": [
    {
     "name": "stdout",
     "output_type": "stream",
     "text": [
      "[17:38:50] WARNING: ../src/learner.cc:1115: Starting in XGBoost 1.3.0, the default evaluation metric used with the objective 'binary:logistic' was changed from 'error' to 'logloss'. Explicitly set eval_metric if you'd like to restore the old behavior.\n"
     ]
    },
    {
     "data": {
      "text/plain": [
       "XGBClassifier(base_score=0.5, booster='gbtree', colsample_bylevel=1,\n",
       "              colsample_bynode=1, colsample_bytree=1, enable_categorical=False,\n",
       "              gamma=0, gpu_id=-1, importance_type=None,\n",
       "              interaction_constraints='', learning_rate=0.300000012,\n",
       "              max_delta_step=0, max_depth=6, min_child_weight=1, missing=nan,\n",
       "              monotone_constraints='()', n_estimators=100, n_jobs=80,\n",
       "              num_parallel_tree=1, predictor='auto', random_state=0,\n",
       "              reg_alpha=0, reg_lambda=1, scale_pos_weight=1, subsample=1,\n",
       "              tree_method='exact', validate_parameters=1, verbosity=None)"
      ]
     },
     "execution_count": 48,
     "metadata": {},
     "output_type": "execute_result"
    }
   ],
   "source": [
    "model2.fit(oneHotDf, (user_metadata['K-Means = 4'] == 2).astype(int).values)"
   ]
  },
  {
   "cell_type": "code",
   "execution_count": 49,
   "id": "082e95ff-74b0-4815-bbfd-dbb8b927159a",
   "metadata": {
    "execution": {
     "iopub.execute_input": "2022-01-25T16:38:50.966481Z",
     "iopub.status.busy": "2022-01-25T16:38:50.966278Z",
     "iopub.status.idle": "2022-01-25T16:38:51.032470Z",
     "shell.execute_reply": "2022-01-25T16:38:51.031764Z",
     "shell.execute_reply.started": "2022-01-25T16:38:50.966455Z"
    },
    "tags": []
   },
   "outputs": [
    {
     "data": {
      "image/svg+xml": [
       "<?xml version=\"1.0\" encoding=\"UTF-8\" standalone=\"no\"?>\n",
       "<!DOCTYPE svg PUBLIC \"-//W3C//DTD SVG 1.1//EN\"\n",
       " \"http://www.w3.org/Graphics/SVG/1.1/DTD/svg11.dtd\">\n",
       "<!-- Generated by graphviz version 2.40.1 (20161225.0304)\n",
       " -->\n",
       "<!-- Title: %3 Pages: 1 -->\n",
       "<svg width=\"165pt\" height=\"44pt\"\n",
       " viewBox=\"0.00 0.00 165.29 44.00\" xmlns=\"http://www.w3.org/2000/svg\" xmlns:xlink=\"http://www.w3.org/1999/xlink\">\n",
       "<g id=\"graph0\" class=\"graph\" transform=\"scale(1 1) rotate(0) translate(4 40)\">\n",
       "<title>%3</title>\n",
       "<polygon fill=\"#ffffff\" stroke=\"transparent\" points=\"-4,4 -4,-40 161.286,-40 161.286,4 -4,4\"/>\n",
       "<!-- 0 -->\n",
       "<g id=\"node1\" class=\"node\">\n",
       "<title>0</title>\n",
       "<ellipse fill=\"none\" stroke=\"#000000\" cx=\"78.643\" cy=\"-18\" rx=\"78.7863\" ry=\"18\"/>\n",
       "<text text-anchor=\"middle\" x=\"78.643\" y=\"-14.3\" font-family=\"Times,serif\" font-size=\"14.00\" fill=\"#000000\">leaf=&#45;0.562886596</text>\n",
       "</g>\n",
       "</g>\n",
       "</svg>\n"
      ],
      "text/plain": [
       "<graphviz.sources.Source at 0x7f1a906a7cd0>"
      ]
     },
     "execution_count": 49,
     "metadata": {},
     "output_type": "execute_result"
    }
   ],
   "source": [
    "xgb.to_graphviz(model2)"
   ]
  },
  {
   "cell_type": "markdown",
   "id": "c1926fd5-406e-4a6d-b97f-6e5e547ab5ea",
   "metadata": {},
   "source": [
    "Interpretation of the graph: https://stackoverflow.com/questions/40926340/what-does-the-value-of-leaf-in-the-following-xgboost-model-tree-diagram-means"
   ]
  },
  {
   "cell_type": "markdown",
   "id": "bc056c66-dce3-44fd-a19e-20f34cc3ff51",
   "metadata": {},
   "source": [
    "#### K-Means 4 - cl.3"
   ]
  },
  {
   "cell_type": "code",
   "execution_count": 50,
   "id": "40d3320a-d145-4721-8cfb-ff2ff3ae7e12",
   "metadata": {
    "execution": {
     "iopub.execute_input": "2022-01-25T16:38:51.033888Z",
     "iopub.status.busy": "2022-01-25T16:38:51.033647Z",
     "iopub.status.idle": "2022-01-25T16:38:52.973487Z",
     "shell.execute_reply": "2022-01-25T16:38:52.972878Z",
     "shell.execute_reply.started": "2022-01-25T16:38:51.033856Z"
    },
    "tags": []
   },
   "outputs": [
    {
     "name": "stderr",
     "output_type": "stream",
     "text": [
      "/opt/anaconda3/envs/neuralnets/lib/python3.9/site-packages/sklearn/model_selection/_split.py:293: FutureWarning: Setting a random_state has no effect since shuffle is False. This will raise an error in 0.24. You should leave random_state to its default (None), or set shuffle=True.\n",
      "  warnings.warn(\n",
      "/opt/anaconda3/envs/neuralnets/lib/python3.9/site-packages/xgboost/sklearn.py:1224: UserWarning: The use of label encoder in XGBClassifier is deprecated and will be removed in a future release. To remove this warning, do the following: 1) Pass option use_label_encoder=False when constructing XGBClassifier object; and 2) Encode your labels (y) as integers starting with 0, i.e. 0, 1, 2, ..., [num_class - 1].\n",
      "  warnings.warn(label_encoder_deprecation_msg, UserWarning)\n"
     ]
    },
    {
     "name": "stdout",
     "output_type": "stream",
     "text": [
      "[17:38:51] WARNING: ../src/learner.cc:1115: Starting in XGBoost 1.3.0, the default evaluation metric used with the objective 'binary:logistic' was changed from 'error' to 'logloss'. Explicitly set eval_metric if you'd like to restore the old behavior.\n",
      "[17:38:51] WARNING: ../src/learner.cc:1115: Starting in XGBoost 1.3.0, the default evaluation metric used with the objective 'binary:logistic' was changed from 'error' to 'logloss'. Explicitly set eval_metric if you'd like to restore the old behavior.\n",
      "[17:38:51] WARNING: ../src/learner.cc:1115: Starting in XGBoost 1.3.0, the default evaluation metric used with the objective 'binary:logistic' was changed from 'error' to 'logloss'. Explicitly set eval_metric if you'd like to restore the old behavior.\n",
      "[17:38:51] WARNING: ../src/learner.cc:1115: Starting in XGBoost 1.3.0, the default evaluation metric used with the objective 'binary:logistic' was changed from 'error' to 'logloss'. Explicitly set eval_metric if you'd like to restore the old behavior.\n",
      "[17:38:51] WARNING: ../src/learner.cc:1115: Starting in XGBoost 1.3.0, the default evaluation metric used with the objective 'binary:logistic' was changed from 'error' to 'logloss'. Explicitly set eval_metric if you'd like to restore the old behavior.\n",
      "[17:38:52] WARNING: ../src/learner.cc:1115: Starting in XGBoost 1.3.0, the default evaluation metric used with the objective 'binary:logistic' was changed from 'error' to 'logloss'. Explicitly set eval_metric if you'd like to restore the old behavior.\n",
      "[17:38:52] WARNING: ../src/learner.cc:1115: Starting in XGBoost 1.3.0, the default evaluation metric used with the objective 'binary:logistic' was changed from 'error' to 'logloss'. Explicitly set eval_metric if you'd like to restore the old behavior.\n",
      "[17:38:52] WARNING: ../src/learner.cc:1115: Starting in XGBoost 1.3.0, the default evaluation metric used with the objective 'binary:logistic' was changed from 'error' to 'logloss'. Explicitly set eval_metric if you'd like to restore the old behavior.\n",
      "[17:38:52] WARNING: ../src/learner.cc:1115: Starting in XGBoost 1.3.0, the default evaluation metric used with the objective 'binary:logistic' was changed from 'error' to 'logloss'. Explicitly set eval_metric if you'd like to restore the old behavior.\n",
      "[17:38:52] WARNING: ../src/learner.cc:1115: Starting in XGBoost 1.3.0, the default evaluation metric used with the objective 'binary:logistic' was changed from 'error' to 'logloss'. Explicitly set eval_metric if you'd like to restore the old behavior.\n"
     ]
    }
   ],
   "source": [
    "kfold = KFold(n_splits=10, random_state=7)\n",
    "model3 = xgb.XGBClassifier()\n",
    "results3 = cross_validate(model3, oneHotDf, (user_metadata['K-Means = 4'] == 3).astype(int).values, scoring=scoring, cv=kfold)"
   ]
  },
  {
   "cell_type": "code",
   "execution_count": 51,
   "id": "2e6a47e8-f2c4-471d-a6b2-765569046fa2",
   "metadata": {
    "execution": {
     "iopub.execute_input": "2022-01-25T16:38:52.974682Z",
     "iopub.status.busy": "2022-01-25T16:38:52.974451Z",
     "iopub.status.idle": "2022-01-25T16:38:52.986194Z",
     "shell.execute_reply": "2022-01-25T16:38:52.985596Z",
     "shell.execute_reply.started": "2022-01-25T16:38:52.974656Z"
    },
    "tags": []
   },
   "outputs": [
    {
     "name": "stdout",
     "output_type": "stream",
     "text": [
      "77.36842105263158 11.54300642076911\n"
     ]
    }
   ],
   "source": [
    "print(results3['test_acc'].mean()*100, results3['test_acc'].std()*100) "
   ]
  },
  {
   "cell_type": "code",
   "execution_count": 52,
   "id": "03f1e978-3367-4acd-98d0-ee63faa8f621",
   "metadata": {
    "execution": {
     "iopub.execute_input": "2022-01-25T16:38:52.987200Z",
     "iopub.status.busy": "2022-01-25T16:38:52.987008Z",
     "iopub.status.idle": "2022-01-25T16:38:52.997325Z",
     "shell.execute_reply": "2022-01-25T16:38:52.996745Z",
     "shell.execute_reply.started": "2022-01-25T16:38:52.987174Z"
    },
    "tags": []
   },
   "outputs": [
    {
     "name": "stdout",
     "output_type": "stream",
     "text": [
      "49.571518759018765 17.282099099470702\n"
     ]
    }
   ],
   "source": [
    "print(results3['test_f1_macro'].mean()*100, results3['test_f1_macro'].std()*100) "
   ]
  },
  {
   "cell_type": "code",
   "execution_count": 53,
   "id": "5e687300-ea2b-4aa9-92b4-ea091a1b28f7",
   "metadata": {
    "execution": {
     "iopub.execute_input": "2022-01-25T16:38:52.998308Z",
     "iopub.status.busy": "2022-01-25T16:38:52.998116Z",
     "iopub.status.idle": "2022-01-25T16:38:53.008318Z",
     "shell.execute_reply": "2022-01-25T16:38:53.007750Z",
     "shell.execute_reply.started": "2022-01-25T16:38:52.998282Z"
    },
    "tags": []
   },
   "outputs": [
    {
     "name": "stdout",
     "output_type": "stream",
     "text": [
      "71.07261525024683 15.50074233880859\n"
     ]
    }
   ],
   "source": [
    "print(results3['test_f1_weight'].mean()*100, results3['test_f1_weight'].std()*100) "
   ]
  },
  {
   "cell_type": "code",
   "execution_count": 54,
   "id": "28c8a41a-8207-443f-9980-a1784821ea8b",
   "metadata": {
    "execution": {
     "iopub.execute_input": "2022-01-25T16:38:53.009534Z",
     "iopub.status.busy": "2022-01-25T16:38:53.009338Z",
     "iopub.status.idle": "2022-01-25T16:38:53.298638Z",
     "shell.execute_reply": "2022-01-25T16:38:53.298061Z",
     "shell.execute_reply.started": "2022-01-25T16:38:53.009509Z"
    },
    "tags": []
   },
   "outputs": [
    {
     "name": "stdout",
     "output_type": "stream",
     "text": [
      "[17:38:53] WARNING: ../src/learner.cc:1115: Starting in XGBoost 1.3.0, the default evaluation metric used with the objective 'binary:logistic' was changed from 'error' to 'logloss'. Explicitly set eval_metric if you'd like to restore the old behavior.\n"
     ]
    },
    {
     "data": {
      "text/plain": [
       "XGBClassifier(base_score=0.5, booster='gbtree', colsample_bylevel=1,\n",
       "              colsample_bynode=1, colsample_bytree=1, enable_categorical=False,\n",
       "              gamma=0, gpu_id=-1, importance_type=None,\n",
       "              interaction_constraints='', learning_rate=0.300000012,\n",
       "              max_delta_step=0, max_depth=6, min_child_weight=1, missing=nan,\n",
       "              monotone_constraints='()', n_estimators=100, n_jobs=80,\n",
       "              num_parallel_tree=1, predictor='auto', random_state=0,\n",
       "              reg_alpha=0, reg_lambda=1, scale_pos_weight=1, subsample=1,\n",
       "              tree_method='exact', validate_parameters=1, verbosity=None)"
      ]
     },
     "execution_count": 54,
     "metadata": {},
     "output_type": "execute_result"
    }
   ],
   "source": [
    "model3.fit(oneHotDf, (user_metadata['K-Means = 4'] == 3).astype(int).values)"
   ]
  },
  {
   "cell_type": "code",
   "execution_count": 55,
   "id": "9d642dc4-e2d6-4913-947a-05f1d17b10e8",
   "metadata": {
    "execution": {
     "iopub.execute_input": "2022-01-25T16:38:53.299726Z",
     "iopub.status.busy": "2022-01-25T16:38:53.299512Z",
     "iopub.status.idle": "2022-01-25T16:38:53.368634Z",
     "shell.execute_reply": "2022-01-25T16:38:53.367610Z",
     "shell.execute_reply.started": "2022-01-25T16:38:53.299690Z"
    },
    "tags": []
   },
   "outputs": [
    {
     "data": {
      "image/svg+xml": [
       "<?xml version=\"1.0\" encoding=\"UTF-8\" standalone=\"no\"?>\n",
       "<!DOCTYPE svg PUBLIC \"-//W3C//DTD SVG 1.1//EN\"\n",
       " \"http://www.w3.org/Graphics/SVG/1.1/DTD/svg11.dtd\">\n",
       "<!-- Generated by graphviz version 2.40.1 (20161225.0304)\n",
       " -->\n",
       "<!-- Title: %3 Pages: 1 -->\n",
       "<svg width=\"1054pt\" height=\"392pt\"\n",
       " viewBox=\"0.00 0.00 1053.90 392.00\" xmlns=\"http://www.w3.org/2000/svg\" xmlns:xlink=\"http://www.w3.org/1999/xlink\">\n",
       "<g id=\"graph0\" class=\"graph\" transform=\"scale(1 1) rotate(0) translate(4 388)\">\n",
       "<title>%3</title>\n",
       "<polygon fill=\"#ffffff\" stroke=\"transparent\" points=\"-4,4 -4,-388 1049.8979,-388 1049.8979,4 -4,4\"/>\n",
       "<!-- 0 -->\n",
       "<g id=\"node1\" class=\"node\">\n",
       "<title>0</title>\n",
       "<ellipse fill=\"none\" stroke=\"#000000\" cx=\"756.6736\" cy=\"-366\" rx=\"289.4488\" ry=\"18\"/>\n",
       "<text text-anchor=\"middle\" x=\"756.6736\" y=\"-362.3\" font-family=\"Times,serif\" font-size=\"14.00\" fill=\"#000000\">logical_job_name_rsy/Jo2Au/c5VHFUzPaq9rdfLsSIhHjv6RJHJL50FNk=&lt;0.5</text>\n",
       "</g>\n",
       "<!-- 1 -->\n",
       "<g id=\"node2\" class=\"node\">\n",
       "<title>1</title>\n",
       "<ellipse fill=\"none\" stroke=\"#000000\" cx=\"579.6736\" cy=\"-279\" rx=\"300.0469\" ry=\"18\"/>\n",
       "<text text-anchor=\"middle\" x=\"579.6736\" y=\"-275.3\" font-family=\"Times,serif\" font-size=\"14.00\" fill=\"#000000\">logical_job_name_yVIRahrv8Z2KjOxCDQb3Y6flkxNj/h+w2fRbjVEk2BE=&lt;0.5</text>\n",
       "</g>\n",
       "<!-- 0&#45;&gt;1 -->\n",
       "<g id=\"edge1\" class=\"edge\">\n",
       "<title>0&#45;&gt;1</title>\n",
       "<path fill=\"none\" stroke=\"#0000ff\" d=\"M719.9991,-347.9735C692.5881,-334.5003 654.9356,-315.9932 625.5338,-301.5415\"/>\n",
       "<polygon fill=\"#0000ff\" stroke=\"#0000ff\" points=\"626.8196,-298.2735 616.3011,-297.0034 623.7317,-304.5557 626.8196,-298.2735\"/>\n",
       "<text text-anchor=\"middle\" x=\"713.6736\" y=\"-318.8\" font-family=\"Times,serif\" font-size=\"14.00\" fill=\"#000000\">yes, missing</text>\n",
       "</g>\n",
       "<!-- 2 -->\n",
       "<g id=\"node3\" class=\"node\">\n",
       "<title>2</title>\n",
       "<ellipse fill=\"none\" stroke=\"#000000\" cx=\"934.6736\" cy=\"-279\" rx=\"36.2938\" ry=\"18\"/>\n",
       "<text text-anchor=\"middle\" x=\"934.6736\" y=\"-275.3\" font-family=\"Times,serif\" font-size=\"14.00\" fill=\"#000000\">leaf=&#45;0</text>\n",
       "</g>\n",
       "<!-- 0&#45;&gt;2 -->\n",
       "<g id=\"edge2\" class=\"edge\">\n",
       "<title>0&#45;&gt;2</title>\n",
       "<path fill=\"none\" stroke=\"#ff0000\" d=\"M793.5553,-347.9735C824.7473,-332.728 869.1265,-311.0371 899.7497,-296.0696\"/>\n",
       "<polygon fill=\"#ff0000\" stroke=\"#ff0000\" points=\"901.3346,-299.1907 908.7819,-291.6549 898.2607,-292.9017 901.3346,-299.1907\"/>\n",
       "<text text-anchor=\"middle\" x=\"863.6736\" y=\"-318.8\" font-family=\"Times,serif\" font-size=\"14.00\" fill=\"#000000\">no</text>\n",
       "</g>\n",
       "<!-- 3 -->\n",
       "<g id=\"node4\" class=\"node\">\n",
       "<title>3</title>\n",
       "<ellipse fill=\"none\" stroke=\"#000000\" cx=\"494.6736\" cy=\"-192\" rx=\"116.1796\" ry=\"18\"/>\n",
       "<text text-anchor=\"middle\" x=\"494.6736\" y=\"-188.3\" font-family=\"Times,serif\" font-size=\"14.00\" fill=\"#000000\">priority_labels_Free_0_1&lt;0.5</text>\n",
       "</g>\n",
       "<!-- 1&#45;&gt;3 -->\n",
       "<g id=\"edge3\" class=\"edge\">\n",
       "<title>1&#45;&gt;3</title>\n",
       "<path fill=\"none\" stroke=\"#0000ff\" d=\"M562.0615,-260.9735C549.7528,-248.3752 533.1439,-231.3755 519.4951,-217.4055\"/>\n",
       "<polygon fill=\"#0000ff\" stroke=\"#0000ff\" points=\"521.755,-214.7103 512.2631,-210.0034 516.748,-219.6021 521.755,-214.7103\"/>\n",
       "<text text-anchor=\"middle\" x=\"576.6736\" y=\"-231.8\" font-family=\"Times,serif\" font-size=\"14.00\" fill=\"#000000\">yes, missing</text>\n",
       "</g>\n",
       "<!-- 4 -->\n",
       "<g id=\"node5\" class=\"node\">\n",
       "<title>4</title>\n",
       "<ellipse fill=\"none\" stroke=\"#000000\" cx=\"665.6736\" cy=\"-192\" rx=\"36.2938\" ry=\"18\"/>\n",
       "<text text-anchor=\"middle\" x=\"665.6736\" y=\"-188.3\" font-family=\"Times,serif\" font-size=\"14.00\" fill=\"#000000\">leaf=&#45;0</text>\n",
       "</g>\n",
       "<!-- 1&#45;&gt;4 -->\n",
       "<g id=\"edge4\" class=\"edge\">\n",
       "<title>1&#45;&gt;4</title>\n",
       "<path fill=\"none\" stroke=\"#ff0000\" d=\"M597.4928,-260.9735C610.4445,-247.8713 628.102,-230.0085 642.2023,-215.7442\"/>\n",
       "<polygon fill=\"#ff0000\" stroke=\"#ff0000\" points=\"645.0765,-217.8153 649.6174,-208.2429 640.0982,-212.8942 645.0765,-217.8153\"/>\n",
       "<text text-anchor=\"middle\" x=\"635.6736\" y=\"-231.8\" font-family=\"Times,serif\" font-size=\"14.00\" fill=\"#000000\">no</text>\n",
       "</g>\n",
       "<!-- 5 -->\n",
       "<g id=\"node6\" class=\"node\">\n",
       "<title>5</title>\n",
       "<ellipse fill=\"none\" stroke=\"#000000\" cx=\"297.6736\" cy=\"-105\" rx=\"297.8473\" ry=\"18\"/>\n",
       "<text text-anchor=\"middle\" x=\"297.6736\" y=\"-101.3\" font-family=\"Times,serif\" font-size=\"14.00\" fill=\"#000000\">logical_job_name_f7WFf9GHe6IJiWeFjqoqhEKiQ94wHFwI1e05vf2/Rbo=&lt;0.5</text>\n",
       "</g>\n",
       "<!-- 3&#45;&gt;5 -->\n",
       "<g id=\"edge5\" class=\"edge\">\n",
       "<title>3&#45;&gt;5</title>\n",
       "<path fill=\"none\" stroke=\"#0000ff\" d=\"M455.7527,-174.8116C424.6964,-161.0964 380.9829,-141.7914 347.3933,-126.9574\"/>\n",
       "<polygon fill=\"#0000ff\" stroke=\"#0000ff\" points=\"348.7683,-123.7386 338.2067,-122.9004 345.9404,-130.142 348.7683,-123.7386\"/>\n",
       "<text text-anchor=\"middle\" x=\"442.6736\" y=\"-144.8\" font-family=\"Times,serif\" font-size=\"14.00\" fill=\"#000000\">yes, missing</text>\n",
       "</g>\n",
       "<!-- 6 -->\n",
       "<g id=\"node7\" class=\"node\">\n",
       "<title>6</title>\n",
       "<ellipse fill=\"none\" stroke=\"#000000\" cx=\"691.6736\" cy=\"-105\" rx=\"78.7863\" ry=\"18\"/>\n",
       "<text text-anchor=\"middle\" x=\"691.6736\" y=\"-101.3\" font-family=\"Times,serif\" font-size=\"14.00\" fill=\"#000000\">leaf=&#45;0.400000036</text>\n",
       "</g>\n",
       "<!-- 3&#45;&gt;6 -->\n",
       "<g id=\"edge6\" class=\"edge\">\n",
       "<title>3&#45;&gt;6</title>\n",
       "<path fill=\"none\" stroke=\"#ff0000\" d=\"M533.5944,-174.8116C565.8807,-160.5532 611.8466,-140.2535 645.8957,-125.2166\"/>\n",
       "<polygon fill=\"#ff0000\" stroke=\"#ff0000\" points=\"647.4283,-128.366 655.162,-121.1244 644.6004,-121.9626 647.4283,-128.366\"/>\n",
       "<text text-anchor=\"middle\" x=\"612.6736\" y=\"-144.8\" font-family=\"Times,serif\" font-size=\"14.00\" fill=\"#000000\">no</text>\n",
       "</g>\n",
       "<!-- 7 -->\n",
       "<g id=\"node8\" class=\"node\">\n",
       "<title>7</title>\n",
       "<ellipse fill=\"none\" stroke=\"#000000\" cx=\"207.6736\" cy=\"-18\" rx=\"78.7863\" ry=\"18\"/>\n",
       "<text text-anchor=\"middle\" x=\"207.6736\" y=\"-14.3\" font-family=\"Times,serif\" font-size=\"14.00\" fill=\"#000000\">leaf=&#45;0.216000021</text>\n",
       "</g>\n",
       "<!-- 5&#45;&gt;7 -->\n",
       "<g id=\"edge7\" class=\"edge\">\n",
       "<title>5&#45;&gt;7</title>\n",
       "<path fill=\"none\" stroke=\"#0000ff\" d=\"M279.0255,-86.9735C265.7844,-74.1738 247.8434,-56.8308 233.2645,-42.7379\"/>\n",
       "<polygon fill=\"#0000ff\" stroke=\"#0000ff\" points=\"235.6123,-40.1395 225.9898,-35.7057 230.7471,-45.1724 235.6123,-40.1395\"/>\n",
       "<text text-anchor=\"middle\" x=\"292.6736\" y=\"-57.8\" font-family=\"Times,serif\" font-size=\"14.00\" fill=\"#000000\">yes, missing</text>\n",
       "</g>\n",
       "<!-- 8 -->\n",
       "<g id=\"node9\" class=\"node\">\n",
       "<title>8</title>\n",
       "<ellipse fill=\"none\" stroke=\"#000000\" cx=\"387.6736\" cy=\"-18\" rx=\"83.3857\" ry=\"18\"/>\n",
       "<text text-anchor=\"middle\" x=\"387.6736\" y=\"-14.3\" font-family=\"Times,serif\" font-size=\"14.00\" fill=\"#000000\">leaf=&#45;0.0666666701</text>\n",
       "</g>\n",
       "<!-- 5&#45;&gt;8 -->\n",
       "<g id=\"edge8\" class=\"edge\">\n",
       "<title>5&#45;&gt;8</title>\n",
       "<path fill=\"none\" stroke=\"#ff0000\" d=\"M316.3216,-86.9735C329.5628,-74.1738 347.5038,-56.8308 362.0827,-42.7379\"/>\n",
       "<polygon fill=\"#ff0000\" stroke=\"#ff0000\" points=\"364.6,-45.1724 369.3574,-35.7057 359.7349,-40.1395 364.6,-45.1724\"/>\n",
       "<text text-anchor=\"middle\" x=\"355.6736\" y=\"-57.8\" font-family=\"Times,serif\" font-size=\"14.00\" fill=\"#000000\">no</text>\n",
       "</g>\n",
       "</g>\n",
       "</svg>\n"
      ],
      "text/plain": [
       "<graphviz.sources.Source at 0x7f1a9069dbb0>"
      ]
     },
     "execution_count": 55,
     "metadata": {},
     "output_type": "execute_result"
    }
   ],
   "source": [
    "xgb.to_graphviz(model3)"
   ]
  },
  {
   "cell_type": "code",
   "execution_count": null,
   "id": "a6c8e0ac-8050-450a-ae66-6744059655cb",
   "metadata": {
    "tags": []
   },
   "outputs": [],
   "source": []
  }
 ],
 "metadata": {
  "kernelspec": {
   "display_name": "neuralnets_krnl-2.0",
   "language": "python",
   "name": "neuralnets_krnl-2.0"
  },
  "language_info": {
   "codemirror_mode": {
    "name": "ipython",
    "version": 3
   },
   "file_extension": ".py",
   "mimetype": "text/x-python",
   "name": "python",
   "nbconvert_exporter": "python",
   "pygments_lexer": "ipython3",
   "version": "3.9.7"
  }
 },
 "nbformat": 4,
 "nbformat_minor": 5
}
