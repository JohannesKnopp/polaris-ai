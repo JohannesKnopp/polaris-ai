{
 "cells": [
  {
   "cell_type": "code",
   "execution_count": 6,
   "metadata": {
    "collapsed": true
   },
   "outputs": [],
   "source": [
    "import numpy as np\n",
    "import pandas as pd\n",
    "import os\n",
    "from collections import defaultdict\n",
    "import math\n",
    "import json\n",
    "\n",
    "from tfRIM import RIMCell\n",
    "from tensorflow import keras\n",
    "\n",
    "from old_data_manip import load_data\n",
    "from old_data_manip import data_aggregation\n",
    "from old_data_manip import extract_train_test"
   ]
  },
  {
   "cell_type": "code",
   "execution_count": 30,
   "outputs": [],
   "source": [
    "def rmse(yhat, y):\n",
    "    # print(type(yhat), type(y))\n",
    "    return np.sqrt(np.mean((y - yhat)**2))\n",
    "\n",
    "\n",
    "def rmspe(yhat, y):\n",
    "    # EPSILON = 1e-10\n",
    "    # print(((y - yhat) / (y + EPSILON))**2)\n",
    "    return rmse(yhat, y) / np.mean(y)\n",
    "\n",
    "\n",
    "def rmsse(yhat, y):\n",
    "    e_2 = (y - yhat)\n",
    "    m = 1 / (len(y) - 1)\n",
    "    t = np.sum(abs(np.delete((y - np.roll(y, 1)), 0)))\n",
    "    return np.sqrt(np.mean((e_2 / (m * t))**2))"
   ],
   "metadata": {
    "collapsed": false,
    "pycharm": {
     "name": "#%%\n"
    }
   }
  },
  {
   "cell_type": "code",
   "execution_count": 20,
   "outputs": [],
   "source": [
    "with open('columns_selection.json') as f:\n",
    "    columns_selection = json.load(f)\n",
    "\n",
    "job_id = 6318371744\n",
    "\n",
    "columns_to_consider = columns_selection['GWT_efficiency_1']\n",
    "\n",
    "readings_df = load_data(f'../data/task-usage_job-ID-{job_id}_total.csv', columns_to_consider)\n",
    "readings_df = data_aggregation(readings_df, aggr_type='mean')\n",
    "\n",
    "results = defaultdict(list)\n",
    "\n",
    "test_x, test_y, _, _, _ = extract_train_test(readings_df.values)\n",
    "# print(y2)\n",
    "#test_x = np.concatenate(x1, x2)\n",
    "#test_y = np.concatenate(y1, y2)\n",
    "#test_x =\n",
    "test_x = test_x[:32,]\n",
    "test_y = test_y[:32]"
   ],
   "metadata": {
    "collapsed": false,
    "pycharm": {
     "name": "#%%\n"
    }
   }
  },
  {
   "cell_type": "code",
   "execution_count": 21,
   "outputs": [
    {
     "name": "stdout",
     "output_type": "stream",
     "text": [
      "1/1 [==============================] - 1s 649ms/step\n"
     ]
    }
   ],
   "source": [
    "model = keras.models.load_model(\n",
    "    f'../models/rim_model_exp_rim', custom_objects={'RIMCell': RIMCell}\n",
    ")\n",
    "\n",
    "yhat = model.predict(test_x)\n",
    "#print(yhat.shape)"
   ],
   "metadata": {
    "collapsed": false,
    "pycharm": {
     "name": "#%%\n"
    }
   }
  },
  {
   "cell_type": "code",
   "execution_count": 31,
   "outputs": [
    {
     "name": "stdout",
     "output_type": "stream",
     "text": [
      "0.6275418\n",
      "1.3123381\n",
      "4.0115633\n"
     ]
    }
   ],
   "source": [
    "print(rmse(yhat, test_y)) #0.6275418\n",
    "print(rmspe(yhat, test_y)) #1.3123381\n",
    "print(rmsse(yhat, test_y)) #4.0115633\n"
   ],
   "metadata": {
    "collapsed": false,
    "pycharm": {
     "name": "#%%\n"
    }
   }
  }
 ],
 "metadata": {
  "kernelspec": {
   "display_name": "Python 3",
   "language": "python",
   "name": "python3"
  },
  "language_info": {
   "codemirror_mode": {
    "name": "ipython",
    "version": 2
   },
   "file_extension": ".py",
   "mimetype": "text/x-python",
   "name": "python",
   "nbconvert_exporter": "python",
   "pygments_lexer": "ipython2",
   "version": "2.7.6"
  }
 },
 "nbformat": 4,
 "nbformat_minor": 0
}