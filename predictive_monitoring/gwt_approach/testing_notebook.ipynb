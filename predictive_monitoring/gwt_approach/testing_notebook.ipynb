{
 "cells": [
  {
   "cell_type": "code",
   "execution_count": 1,
   "id": "dbe549b6",
   "metadata": {},
   "outputs": [
    {
     "name": "stderr",
     "output_type": "stream",
     "text": [
      "/home/johann/anaconda3/envs/neuralnets/lib/python3.9/site-packages/tqdm/auto.py:22: TqdmWarning: IProgress not found. Please update jupyter and ipywidgets. See https://ipywidgets.readthedocs.io/en/stable/user_install.html\n",
      "  from .autonotebook import tqdm as notebook_tqdm\n"
     ]
    }
   ],
   "source": [
    "import json\n",
    "import os\n",
    "from gcd_data_manipulation import ClusterDataset\n",
    "from torch.utils.data import DataLoader"
   ]
  },
  {
   "cell_type": "code",
   "execution_count": 2,
   "id": "efefada3",
   "metadata": {},
   "outputs": [],
   "source": [
    "input_path = f'../data/task-usage_job-ID-3418339_total.csv'\n",
    "\n",
    "\n",
    "with open('columns_selection.json') as f:\n",
    "    columns_selection = json.load(f)\n",
    "    \n",
    "columns_to_consider = columns_selection['GWT_efficiency_1']"
   ]
  },
  {
   "cell_type": "code",
   "execution_count": 3,
   "id": "4c06685a",
   "metadata": {},
   "outputs": [
    {
     "name": "stdout",
     "output_type": "stream",
     "text": [
      "<class 'numpy.ndarray'> 5846 (8352, 17)\n",
      "<class 'numpy.ndarray'> 99382\n"
     ]
    },
    {
     "data": {
      "text/plain": [
       "5846"
      ]
     },
     "execution_count": 3,
     "metadata": {},
     "output_type": "execute_result"
    }
   ],
   "source": [
    "training = ClusterDataset(input_path, columns_to_consider, aggr_type='mean', training=True, split_percentage=0.7)\n",
    "\n",
    "training.__len__()"
   ]
  },
  {
   "cell_type": "code",
   "execution_count": 4,
   "id": "a325ace4",
   "metadata": {},
   "outputs": [
    {
     "name": "stdout",
     "output_type": "stream",
     "text": [
      "<class 'numpy.ndarray'> 5846 (8352, 17)\n",
      "<class 'numpy.ndarray'> 42602\n"
     ]
    },
    {
     "data": {
      "text/plain": [
       "2506"
      ]
     },
     "execution_count": 4,
     "metadata": {},
     "output_type": "execute_result"
    }
   ],
   "source": [
    "test = ClusterDataset(input_path, columns_to_consider, aggr_type='mean', training=False, split_percentage=0.7)\n",
    "\n",
    "test.__len__()"
   ]
  },
  {
   "cell_type": "code",
   "execution_count": 5,
   "id": "7f7ac89c",
   "metadata": {},
   "outputs": [
    {
     "name": "stdout",
     "output_type": "stream",
     "text": [
      "[tensor([[0.2595, 0.3125, 0.9782, 0.0457, 0.0545, 0.3092, 0.0489, 0.1393, 0.1165,\n",
      "         0.0900, 0.1377, 0.1258, 0.2595, 0.3125, 0.1393, 0.2188],\n",
      "        [0.3089, 0.3451, 0.9752, 0.0987, 0.1128, 0.4418, 0.1510, 0.1115, 0.2302,\n",
      "         0.3042, 0.1806, 0.1567, 0.3089, 0.3451, 0.1115, 0.2586]]), tensor([0.2586, 0.2346])]\n",
      "[tensor([[0.2912, 0.3192, 0.9764, 0.0854, 0.0943, 0.3355, 0.0242, 0.1114, 0.1138,\n",
      "         0.0311, 0.1399, 0.1208, 0.2912, 0.3192, 0.1114, 0.2346],\n",
      "        [0.2887, 0.3160, 0.9787, 0.0794, 0.0882, 0.2968, 0.0198, 0.1114, 0.0953,\n",
      "         0.0261, 0.1359, 0.1175, 0.2887, 0.3160, 0.1114, 0.2313]]), tensor([0.2313, 0.2251])]\n",
      "[tensor([[0.2829, 0.3151, 0.9776, 0.0797, 0.0885, 0.2964, 0.0178, 0.1115, 0.0974,\n",
      "         0.0226, 0.1454, 0.1459, 0.2829, 0.3151, 0.1115, 0.2251],\n",
      "        [0.2897, 0.3370, 0.9740, 0.0895, 0.1027, 0.4026, 0.1859, 0.1124, 0.1781,\n",
      "         0.3363, 0.1579, 0.1612, 0.2897, 0.3370, 0.1124, 0.2372]]), tensor([0.2372, 0.2372])]\n",
      "[tensor([[0.2915, 0.3286, 0.9764, 0.0845, 0.0940, 0.4156, 0.0276, 0.1121, 0.2176,\n",
      "         0.0369, 0.1623, 0.1504, 0.2915, 0.3286, 0.1121, 0.2372],\n",
      "        [0.2982, 0.3160, 0.9776, 0.0737, 0.0825, 0.3155, 0.1173, 0.1110, 0.1359,\n",
      "         0.2878, 0.1888, 0.1594, 0.2982, 0.3160, 0.1110, 0.2411]]), tensor([0.2411, 0.2398])]\n",
      "[tensor([[0.2899, 0.3490, 0.9740, 0.0854, 0.0991, 0.4435, 0.0888, 0.1123, 0.1799,\n",
      "         0.1260, 0.1810, 0.1536, 0.2899, 0.3490, 0.1123, 0.2398],\n",
      "        [0.2916, 0.3165, 0.9787, 0.0713, 0.0798, 0.2972, 0.0236, 0.1115, 0.1069,\n",
      "         0.0302, 0.1451, 0.1184, 0.2916, 0.3165, 0.1115, 0.2346]]), tensor([0.2346, 0.2334])]\n"
     ]
    }
   ],
   "source": [
    "tr = DataLoader(training, batch_size=2)\n",
    "te = DataLoader(test, batch_size=2)\n",
    "\n",
    "i = 5\n",
    "\n",
    "for x in tr:\n",
    "    print(x)\n",
    "    i -= 1\n",
    "    if i == 0:\n",
    "        break"
   ]
  },
  {
   "cell_type": "code",
   "execution_count": 6,
   "id": "a67f4b8f",
   "metadata": {},
   "outputs": [
    {
     "name": "stdout",
     "output_type": "stream",
     "text": [
      "[tensor([[0.2412, 0.3089, 0.9823, 0.0432, 0.0580, 0.2888, 0.0489, 0.1523, 0.1145,\n",
      "         0.0900, 0.1506, 0.1340, 0.2412, 0.3089, 0.1523, 0.2076],\n",
      "        [0.2444, 0.3089, 0.9823, 0.0321, 0.0466, 0.2892, 0.0489, 0.1523, 0.0922,\n",
      "         0.0900, 0.1425, 0.1269, 0.2444, 0.3089, 0.1523, 0.2110]]), tensor([0.2110, 0.2073])]\n",
      "[tensor([[0.2407, 0.3089, 0.9823, 0.0350, 0.0497, 0.2888, 0.0489, 0.1526, 0.1100,\n",
      "         0.0900, 0.1558, 0.1392, 0.2407, 0.3089, 0.1526, 0.2073],\n",
      "        [0.2367, 0.3089, 0.9823, 0.0315, 0.0461, 0.2888, 0.0489, 0.1528, 0.0938,\n",
      "         0.0900, 0.1733, 0.1509, 0.2367, 0.3089, 0.1528, 0.2032]]), tensor([0.2032, 0.1907])]\n",
      "[tensor([[0.2248, 0.3089, 0.9823, 0.0334, 0.0480, 0.2884, 0.0489, 0.1531, 0.1432,\n",
      "         0.0900, 0.1753, 0.1532, 0.2248, 0.3089, 0.1531, 0.1907],\n",
      "        [0.2265, 0.3089, 0.9823, 0.0363, 0.0510, 0.2896, 0.0489, 0.1532, 0.0858,\n",
      "         0.0900, 0.1698, 0.1485, 0.2265, 0.3089, 0.1532, 0.1927]]), tensor([0.1927, 0.1728])]\n",
      "[tensor([[0.2079, 0.3089, 0.9823, 0.0387, 0.0535, 0.2888, 0.0489, 0.1530, 0.0699,\n",
      "         0.0900, 0.1440, 0.1254, 0.2079, 0.3089, 0.1530, 0.1728],\n",
      "        [0.2100, 0.3089, 0.9823, 0.0419, 0.0568, 0.2883, 0.0489, 0.1535, 0.0590,\n",
      "         0.0900, 0.1331, 0.1147, 0.2100, 0.3089, 0.1535, 0.1753]]), tensor([0.1753, 0.1677])]\n",
      "[tensor([[0.2032, 0.3089, 0.9823, 0.0442, 0.0591, 0.2879, 0.0489, 0.1527, 0.0726,\n",
      "         0.0900, 0.1394, 0.1224, 0.2032, 0.3089, 0.1527, 0.1677],\n",
      "        [0.2038, 0.3089, 0.9823, 0.0433, 0.0581, 0.2883, 0.0489, 0.1523, 0.0750,\n",
      "         0.0900, 0.1495, 0.1339, 0.2038, 0.3089, 0.1523, 0.1680]]), tensor([0.1680, 0.1600])]\n"
     ]
    }
   ],
   "source": [
    "i = 5\n",
    "\n",
    "for x in te:\n",
    "    print(x)\n",
    "    i -= 1\n",
    "    if i == 0:\n",
    "        break"
   ]
  }
 ],
 "metadata": {
  "kernelspec": {
   "display_name": "Python 3 (ipykernel)",
   "language": "python",
   "name": "python3"
  },
  "language_info": {
   "codemirror_mode": {
    "name": "ipython",
    "version": 3
   },
   "file_extension": ".py",
   "mimetype": "text/x-python",
   "name": "python",
   "nbconvert_exporter": "python",
   "pygments_lexer": "ipython3",
   "version": "3.9.7"
  }
 },
 "nbformat": 4,
 "nbformat_minor": 5
}
