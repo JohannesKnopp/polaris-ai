{
 "cells": [
  {
   "cell_type": "code",
   "execution_count": 1,
   "id": "93d86b93",
   "metadata": {},
   "outputs": [
    {
     "name": "stderr",
     "output_type": "stream",
     "text": [
      "/home/johann/anaconda3/envs/neuralnets/lib/python3.9/site-packages/tqdm/auto.py:22: TqdmWarning: IProgress not found. Please update jupyter and ipywidgets. See https://ipywidgets.readthedocs.io/en/stable/user_install.html\n",
      "  from .autonotebook import tqdm as notebook_tqdm\n"
     ]
    }
   ],
   "source": [
    "import json\n",
    "import os\n",
    "from gcd_data_manipulation import ClusterDataset\n",
    "from torch.utils.data import DataLoader"
   ]
  },
  {
   "cell_type": "code",
   "execution_count": 2,
   "id": "48fa290f",
   "metadata": {},
   "outputs": [],
   "source": [
    "input_path = f'../data/task-usage_job-ID-3418339_total.csv'\n",
    "\n",
    "\n",
    "with open('columns_selection.json') as f:\n",
    "    columns_selection = json.load(f)\n",
    "    \n",
    "columns_to_consider = columns_selection['GWT_efficiency_1']"
   ]
  },
  {
   "cell_type": "code",
   "execution_count": 3,
   "id": "88382e39",
   "metadata": {},
   "outputs": [
    {
     "data": {
      "text/plain": [
       "5846"
      ]
     },
     "execution_count": 3,
     "metadata": {},
     "output_type": "execute_result"
    }
   ],
   "source": [
    "training = ClusterDataset(input_path, columns_to_consider, aggr_type='mean', training=True, split_percentage=0.7)\n",
    "\n",
    "training.__len__()"
   ]
  },
  {
   "cell_type": "code",
   "execution_count": 4,
   "id": "75a78c1d",
   "metadata": {},
   "outputs": [
    {
     "data": {
      "text/plain": [
       "2506"
      ]
     },
     "execution_count": 4,
     "metadata": {},
     "output_type": "execute_result"
    }
   ],
   "source": [
    "test = ClusterDataset(input_path, columns_to_consider, aggr_type='mean', training=False, split_percentage=0.7)\n",
    "\n",
    "test.__len__()"
   ]
  },
  {
   "cell_type": "code",
   "execution_count": 18,
   "id": "201f8fdd",
   "metadata": {},
   "outputs": [
    {
     "data": {
      "text/plain": [
       "17"
      ]
     },
     "execution_count": 18,
     "metadata": {},
     "output_type": "execute_result"
    }
   ],
   "source": [
    "tr = DataLoader(training, batch_size=64)\n",
    "te = DataLoader(test, batch_size=64)\n",
    "\n",
    "len(columns_to_consider)"
   ]
  },
  {
   "cell_type": "code",
   "execution_count": null,
   "id": "08f6a167",
   "metadata": {},
   "outputs": [],
   "source": []
  }
 ],
 "metadata": {
  "kernelspec": {
   "display_name": "Python 3 (ipykernel)",
   "language": "python",
   "name": "python3"
  },
  "language_info": {
   "codemirror_mode": {
    "name": "ipython",
    "version": 3
   },
   "file_extension": ".py",
   "mimetype": "text/x-python",
   "name": "python",
   "nbconvert_exporter": "python",
   "pygments_lexer": "ipython3",
   "version": "3.9.7"
  }
 },
 "nbformat": 4,
 "nbformat_minor": 5
}
