{
 "cells": [
  {
   "cell_type": "code",
   "execution_count": 6,
   "id": "93d86b93",
   "metadata": {},
   "outputs": [],
   "source": [
    "import json\n",
    "import os\n",
    "from gcd_data_manipulation import ClusterDataset\n",
    "from torch.utils.data import DataLoader\n",
    "\n",
    "\n",
    "from pandas import DataFrame\n",
    "from pandas import concat\n",
    "from pandas import read_csv\n",
    "\n",
    "from sklearn.preprocessing import MinMaxScaler"
   ]
  },
  {
   "cell_type": "code",
   "execution_count": 7,
   "id": "48fa290f",
   "metadata": {},
   "outputs": [],
   "source": [
    "input_path = f'../data/task-usage_job-ID-3418339_total.csv'\n",
    "\n",
    "\n",
    "with open('columns_selection.json') as f:\n",
    "    columns_selection = json.load(f)\n",
    "    \n",
    "columns_to_consider = columns_selection['GWT_efficiency_1']"
   ]
  },
  {
   "cell_type": "code",
   "execution_count": 8,
   "id": "88382e39",
   "metadata": {
    "pycharm": {
     "name": "#%%\n"
    }
   },
   "outputs": [
    {
     "name": "stdout",
     "output_type": "stream",
     "text": [
      "['end time', 'CPU rate', 'canonical memory usage', 'assigned memory usage', 'unmapped page cache', 'total page cache', 'maximum memory usage', 'disk I/O time', 'local disk space usage', 'maximum CPU rate', 'maximum disk IO time', 'cycles per instruction', 'memory accesses per instruction', 'CPU ratio usage', 'memory ratio usage', 'disk ratio usage', 'Efficiency']\n"
     ]
    }
   ],
   "source": [
    "print(columns_to_consider)"
   ]
  },
  {
   "cell_type": "code",
   "execution_count": 9,
   "outputs": [
    {
     "data": {
      "text/plain": "     end time  CPU rate  canonical memory usage  assigned memory usage  \\\n13  900000000   0.03418                 0.08752                0.09839   \n14  900000000   0.03528                 0.08740                0.09900   \n15  900000000   0.03644                 0.08704                0.09912   \n16  900000000   0.03845                 0.08728                0.09912   \n17  900000000   0.03790                 0.08716                0.09912   \n18  900000000   0.03406                 0.08704                0.09912   \n19  900000000   0.03699                 0.08704                0.09912   \n20  900000000   0.03271                 0.08704                0.09912   \n21  900000000   0.03540                 0.08704                0.09900   \n22  900000000   0.03467                 0.08716                0.09912   \n\n    unmapped page cache  total page cache  maximum memory usage  \\\n13             0.001888          0.002773               0.08887   \n14             0.000626          0.001501               0.08862   \n15             0.000799          0.001247               0.08862   \n16             0.000713          0.001493               0.08850   \n17             0.000880          0.001490               0.08838   \n18             0.001905          0.002449               0.08838   \n19             0.000817          0.001331               0.08850   \n20             0.001007          0.001562               0.08838   \n21             0.001642          0.002132               0.08838   \n22             0.002350          0.002960               0.08875   \n\n    disk I/O time  local disk space usage  maximum CPU rate  \\\n13       0.000274                0.000212            0.1030   \n14       0.000224                0.000215            0.1229   \n15       0.000242                0.000352            0.1141   \n16       0.000192                0.000215            0.1082   \n17       0.000077                0.000359            0.1155   \n18       0.000076                0.000349            0.1353   \n19       0.000194                0.000358            0.1348   \n20       0.000100                0.000359            0.1173   \n21       0.000109                0.000216            0.1107   \n22       0.000093                0.000358            0.1248   \n\n    maximum disk IO time  cycles per instruction  \\\n13              0.057860                   1.859   \n14              0.022710                   1.976   \n15              0.030360                   1.947   \n16              0.029720                   1.913   \n17              0.004997                   2.047   \n18              0.014010                   1.820   \n19              0.035400                   1.894   \n20              0.011510                   1.690   \n21              0.011220                   2.029   \n22              0.009567                   1.900   \n\n    memory accesses per instruction  CPU ratio usage  memory ratio usage  \\\n13                         0.003949         0.182293            0.889521   \n14                         0.004837         0.188160            0.888302   \n15                         0.004163         0.194347            0.884643   \n16                         0.004048         0.205067            0.887082   \n17                         0.004314         0.202133            0.885862   \n18                         0.003891         0.181653            0.884643   \n19                         0.003909         0.197280            0.884643   \n20                         0.003473         0.174453            0.884643   \n21                         0.004776         0.188800            0.884643   \n22                         0.004520         0.184907            0.885862   \n\n    disk ratio usage  Efficiency  \n13          0.245820    0.439211  \n14          0.249187    0.441883  \n15          0.408616    0.495868  \n16          0.249187    0.447112  \n17          0.416396    0.501464  \n18          0.405248    0.490515  \n19          0.415235    0.499052  \n20          0.416396    0.491831  \n21          0.250232    0.441225  \n22          0.415235    0.495335  ",
      "text/html": "<div>\n<style scoped>\n    .dataframe tbody tr th:only-of-type {\n        vertical-align: middle;\n    }\n\n    .dataframe tbody tr th {\n        vertical-align: top;\n    }\n\n    .dataframe thead th {\n        text-align: right;\n    }\n</style>\n<table border=\"1\" class=\"dataframe\">\n  <thead>\n    <tr style=\"text-align: right;\">\n      <th></th>\n      <th>end time</th>\n      <th>CPU rate</th>\n      <th>canonical memory usage</th>\n      <th>assigned memory usage</th>\n      <th>unmapped page cache</th>\n      <th>total page cache</th>\n      <th>maximum memory usage</th>\n      <th>disk I/O time</th>\n      <th>local disk space usage</th>\n      <th>maximum CPU rate</th>\n      <th>maximum disk IO time</th>\n      <th>cycles per instruction</th>\n      <th>memory accesses per instruction</th>\n      <th>CPU ratio usage</th>\n      <th>memory ratio usage</th>\n      <th>disk ratio usage</th>\n      <th>Efficiency</th>\n    </tr>\n  </thead>\n  <tbody>\n    <tr>\n      <th>13</th>\n      <td>900000000</td>\n      <td>0.03418</td>\n      <td>0.08752</td>\n      <td>0.09839</td>\n      <td>0.001888</td>\n      <td>0.002773</td>\n      <td>0.08887</td>\n      <td>0.000274</td>\n      <td>0.000212</td>\n      <td>0.1030</td>\n      <td>0.057860</td>\n      <td>1.859</td>\n      <td>0.003949</td>\n      <td>0.182293</td>\n      <td>0.889521</td>\n      <td>0.245820</td>\n      <td>0.439211</td>\n    </tr>\n    <tr>\n      <th>14</th>\n      <td>900000000</td>\n      <td>0.03528</td>\n      <td>0.08740</td>\n      <td>0.09900</td>\n      <td>0.000626</td>\n      <td>0.001501</td>\n      <td>0.08862</td>\n      <td>0.000224</td>\n      <td>0.000215</td>\n      <td>0.1229</td>\n      <td>0.022710</td>\n      <td>1.976</td>\n      <td>0.004837</td>\n      <td>0.188160</td>\n      <td>0.888302</td>\n      <td>0.249187</td>\n      <td>0.441883</td>\n    </tr>\n    <tr>\n      <th>15</th>\n      <td>900000000</td>\n      <td>0.03644</td>\n      <td>0.08704</td>\n      <td>0.09912</td>\n      <td>0.000799</td>\n      <td>0.001247</td>\n      <td>0.08862</td>\n      <td>0.000242</td>\n      <td>0.000352</td>\n      <td>0.1141</td>\n      <td>0.030360</td>\n      <td>1.947</td>\n      <td>0.004163</td>\n      <td>0.194347</td>\n      <td>0.884643</td>\n      <td>0.408616</td>\n      <td>0.495868</td>\n    </tr>\n    <tr>\n      <th>16</th>\n      <td>900000000</td>\n      <td>0.03845</td>\n      <td>0.08728</td>\n      <td>0.09912</td>\n      <td>0.000713</td>\n      <td>0.001493</td>\n      <td>0.08850</td>\n      <td>0.000192</td>\n      <td>0.000215</td>\n      <td>0.1082</td>\n      <td>0.029720</td>\n      <td>1.913</td>\n      <td>0.004048</td>\n      <td>0.205067</td>\n      <td>0.887082</td>\n      <td>0.249187</td>\n      <td>0.447112</td>\n    </tr>\n    <tr>\n      <th>17</th>\n      <td>900000000</td>\n      <td>0.03790</td>\n      <td>0.08716</td>\n      <td>0.09912</td>\n      <td>0.000880</td>\n      <td>0.001490</td>\n      <td>0.08838</td>\n      <td>0.000077</td>\n      <td>0.000359</td>\n      <td>0.1155</td>\n      <td>0.004997</td>\n      <td>2.047</td>\n      <td>0.004314</td>\n      <td>0.202133</td>\n      <td>0.885862</td>\n      <td>0.416396</td>\n      <td>0.501464</td>\n    </tr>\n    <tr>\n      <th>18</th>\n      <td>900000000</td>\n      <td>0.03406</td>\n      <td>0.08704</td>\n      <td>0.09912</td>\n      <td>0.001905</td>\n      <td>0.002449</td>\n      <td>0.08838</td>\n      <td>0.000076</td>\n      <td>0.000349</td>\n      <td>0.1353</td>\n      <td>0.014010</td>\n      <td>1.820</td>\n      <td>0.003891</td>\n      <td>0.181653</td>\n      <td>0.884643</td>\n      <td>0.405248</td>\n      <td>0.490515</td>\n    </tr>\n    <tr>\n      <th>19</th>\n      <td>900000000</td>\n      <td>0.03699</td>\n      <td>0.08704</td>\n      <td>0.09912</td>\n      <td>0.000817</td>\n      <td>0.001331</td>\n      <td>0.08850</td>\n      <td>0.000194</td>\n      <td>0.000358</td>\n      <td>0.1348</td>\n      <td>0.035400</td>\n      <td>1.894</td>\n      <td>0.003909</td>\n      <td>0.197280</td>\n      <td>0.884643</td>\n      <td>0.415235</td>\n      <td>0.499052</td>\n    </tr>\n    <tr>\n      <th>20</th>\n      <td>900000000</td>\n      <td>0.03271</td>\n      <td>0.08704</td>\n      <td>0.09912</td>\n      <td>0.001007</td>\n      <td>0.001562</td>\n      <td>0.08838</td>\n      <td>0.000100</td>\n      <td>0.000359</td>\n      <td>0.1173</td>\n      <td>0.011510</td>\n      <td>1.690</td>\n      <td>0.003473</td>\n      <td>0.174453</td>\n      <td>0.884643</td>\n      <td>0.416396</td>\n      <td>0.491831</td>\n    </tr>\n    <tr>\n      <th>21</th>\n      <td>900000000</td>\n      <td>0.03540</td>\n      <td>0.08704</td>\n      <td>0.09900</td>\n      <td>0.001642</td>\n      <td>0.002132</td>\n      <td>0.08838</td>\n      <td>0.000109</td>\n      <td>0.000216</td>\n      <td>0.1107</td>\n      <td>0.011220</td>\n      <td>2.029</td>\n      <td>0.004776</td>\n      <td>0.188800</td>\n      <td>0.884643</td>\n      <td>0.250232</td>\n      <td>0.441225</td>\n    </tr>\n    <tr>\n      <th>22</th>\n      <td>900000000</td>\n      <td>0.03467</td>\n      <td>0.08716</td>\n      <td>0.09912</td>\n      <td>0.002350</td>\n      <td>0.002960</td>\n      <td>0.08875</td>\n      <td>0.000093</td>\n      <td>0.000358</td>\n      <td>0.1248</td>\n      <td>0.009567</td>\n      <td>1.900</td>\n      <td>0.004520</td>\n      <td>0.184907</td>\n      <td>0.885862</td>\n      <td>0.415235</td>\n      <td>0.495335</td>\n    </tr>\n  </tbody>\n</table>\n</div>"
     },
     "execution_count": 9,
     "metadata": {},
     "output_type": "execute_result"
    }
   ],
   "source": [
    "df = read_csv(input_path, index_col=0)\n",
    "df = df[columns_to_consider]\n",
    "\n",
    "df.head(n=10)"
   ],
   "metadata": {
    "collapsed": false,
    "pycharm": {
     "name": "#%%\n"
    }
   }
  },
  {
   "cell_type": "code",
   "execution_count": 10,
   "outputs": [
    {
     "data": {
      "text/plain": "            CPU rate  canonical memory usage  assigned memory usage  \\\nend time                                                              \n900000000   0.035042                0.087198               0.099019   \n1200000000  0.033072                0.086914               0.099024   \n1500000000  0.032797                0.086879               0.099033   \n1800000000  0.032152                0.086869               0.099028   \n2100000000  0.032904                0.087110               0.099014   \n2400000000  0.033105                0.087017               0.099024   \n2700000000  0.033849                0.086879               0.099028   \n3000000000  0.032934                0.087242               0.099014   \n3300000000  0.033123                0.086884               0.099033   \n3600000000  0.032940                0.086894               0.099024   \n\n            unmapped page cache  total page cache  maximum memory usage  \\\nend time                                                                  \n900000000              0.001545          0.002126              0.088590   \n1200000000             0.001394          0.001920              0.087358   \n1500000000             0.001326          0.001853              0.086909   \n1800000000             0.001329          0.001856              0.086904   \n2100000000             0.001441          0.002013              0.088134   \n2400000000             0.001384          0.001917              0.088286   \n2700000000             0.001261          0.001789              0.087125   \n3000000000             0.001394          0.001973              0.088608   \n3300000000             0.001234          0.001760              0.086914   \n3600000000             0.001288          0.001819              0.087222   \n\n            disk I/O time  local disk space usage  maximum CPU rate  \\\nend time                                                              \n900000000        0.000154                0.000321          0.129656   \n1200000000       0.000031                0.000321          0.095448   \n1500000000       0.000026                0.000321          0.090014   \n1800000000       0.000025                0.000321          0.090620   \n2100000000       0.000188                0.000321          0.114349   \n2400000000       0.000034                0.000321          0.125957   \n2700000000       0.000121                0.000321          0.101937   \n3000000000       0.000093                0.000321          0.114874   \n3300000000       0.000030                0.000321          0.093406   \n3600000000       0.000159                0.000321          0.113916   \n\n            maximum disk IO time  cycles per instruction  \\\nend time                                                   \n900000000               0.022381                1.871583   \n1200000000              0.002980                1.810250   \n1500000000              0.002620                1.804167   \n1800000000              0.002374                1.818542   \n2100000000              0.024656                1.837250   \n2400000000              0.003392                1.843875   \n2700000000              0.021216                1.883875   \n3000000000              0.009718                1.872167   \n3300000000              0.002915                1.817958   \n3600000000              0.029379                1.844583   \n\n            memory accesses per instruction  CPU ratio usage  \\\nend time                                                       \n900000000                          0.004103         0.186891   \n1200000000                         0.003875         0.176382   \n1500000000                         0.003854         0.174918   \n1800000000                         0.004035         0.171479   \n2100000000                         0.004132         0.175490   \n2400000000                         0.004063         0.176561   \n2700000000                         0.004120         0.180527   \n3000000000                         0.004084         0.175646   \n3300000000                         0.003860         0.176655   \n3600000000                         0.004058         0.175682   \n\n            memory ratio usage  disk ratio usage  Efficiency  \nend time                                                      \n900000000             0.886253          0.372791    0.481978  \n1200000000            0.883362          0.372745    0.477496  \n1500000000            0.883004          0.372754    0.476892  \n1800000000            0.882903          0.372801    0.475728  \n2100000000            0.885350          0.373144    0.477995  \n2400000000            0.884411          0.373010    0.477994  \n2700000000            0.883004          0.372610    0.478714  \n3000000000            0.886696          0.373107    0.478483  \n3300000000            0.883057          0.372796    0.477503  \n3600000000            0.883155          0.372982    0.477273  ",
      "text/html": "<div>\n<style scoped>\n    .dataframe tbody tr th:only-of-type {\n        vertical-align: middle;\n    }\n\n    .dataframe tbody tr th {\n        vertical-align: top;\n    }\n\n    .dataframe thead th {\n        text-align: right;\n    }\n</style>\n<table border=\"1\" class=\"dataframe\">\n  <thead>\n    <tr style=\"text-align: right;\">\n      <th></th>\n      <th>CPU rate</th>\n      <th>canonical memory usage</th>\n      <th>assigned memory usage</th>\n      <th>unmapped page cache</th>\n      <th>total page cache</th>\n      <th>maximum memory usage</th>\n      <th>disk I/O time</th>\n      <th>local disk space usage</th>\n      <th>maximum CPU rate</th>\n      <th>maximum disk IO time</th>\n      <th>cycles per instruction</th>\n      <th>memory accesses per instruction</th>\n      <th>CPU ratio usage</th>\n      <th>memory ratio usage</th>\n      <th>disk ratio usage</th>\n      <th>Efficiency</th>\n    </tr>\n    <tr>\n      <th>end time</th>\n      <th></th>\n      <th></th>\n      <th></th>\n      <th></th>\n      <th></th>\n      <th></th>\n      <th></th>\n      <th></th>\n      <th></th>\n      <th></th>\n      <th></th>\n      <th></th>\n      <th></th>\n      <th></th>\n      <th></th>\n      <th></th>\n    </tr>\n  </thead>\n  <tbody>\n    <tr>\n      <th>900000000</th>\n      <td>0.035042</td>\n      <td>0.087198</td>\n      <td>0.099019</td>\n      <td>0.001545</td>\n      <td>0.002126</td>\n      <td>0.088590</td>\n      <td>0.000154</td>\n      <td>0.000321</td>\n      <td>0.129656</td>\n      <td>0.022381</td>\n      <td>1.871583</td>\n      <td>0.004103</td>\n      <td>0.186891</td>\n      <td>0.886253</td>\n      <td>0.372791</td>\n      <td>0.481978</td>\n    </tr>\n    <tr>\n      <th>1200000000</th>\n      <td>0.033072</td>\n      <td>0.086914</td>\n      <td>0.099024</td>\n      <td>0.001394</td>\n      <td>0.001920</td>\n      <td>0.087358</td>\n      <td>0.000031</td>\n      <td>0.000321</td>\n      <td>0.095448</td>\n      <td>0.002980</td>\n      <td>1.810250</td>\n      <td>0.003875</td>\n      <td>0.176382</td>\n      <td>0.883362</td>\n      <td>0.372745</td>\n      <td>0.477496</td>\n    </tr>\n    <tr>\n      <th>1500000000</th>\n      <td>0.032797</td>\n      <td>0.086879</td>\n      <td>0.099033</td>\n      <td>0.001326</td>\n      <td>0.001853</td>\n      <td>0.086909</td>\n      <td>0.000026</td>\n      <td>0.000321</td>\n      <td>0.090014</td>\n      <td>0.002620</td>\n      <td>1.804167</td>\n      <td>0.003854</td>\n      <td>0.174918</td>\n      <td>0.883004</td>\n      <td>0.372754</td>\n      <td>0.476892</td>\n    </tr>\n    <tr>\n      <th>1800000000</th>\n      <td>0.032152</td>\n      <td>0.086869</td>\n      <td>0.099028</td>\n      <td>0.001329</td>\n      <td>0.001856</td>\n      <td>0.086904</td>\n      <td>0.000025</td>\n      <td>0.000321</td>\n      <td>0.090620</td>\n      <td>0.002374</td>\n      <td>1.818542</td>\n      <td>0.004035</td>\n      <td>0.171479</td>\n      <td>0.882903</td>\n      <td>0.372801</td>\n      <td>0.475728</td>\n    </tr>\n    <tr>\n      <th>2100000000</th>\n      <td>0.032904</td>\n      <td>0.087110</td>\n      <td>0.099014</td>\n      <td>0.001441</td>\n      <td>0.002013</td>\n      <td>0.088134</td>\n      <td>0.000188</td>\n      <td>0.000321</td>\n      <td>0.114349</td>\n      <td>0.024656</td>\n      <td>1.837250</td>\n      <td>0.004132</td>\n      <td>0.175490</td>\n      <td>0.885350</td>\n      <td>0.373144</td>\n      <td>0.477995</td>\n    </tr>\n    <tr>\n      <th>2400000000</th>\n      <td>0.033105</td>\n      <td>0.087017</td>\n      <td>0.099024</td>\n      <td>0.001384</td>\n      <td>0.001917</td>\n      <td>0.088286</td>\n      <td>0.000034</td>\n      <td>0.000321</td>\n      <td>0.125957</td>\n      <td>0.003392</td>\n      <td>1.843875</td>\n      <td>0.004063</td>\n      <td>0.176561</td>\n      <td>0.884411</td>\n      <td>0.373010</td>\n      <td>0.477994</td>\n    </tr>\n    <tr>\n      <th>2700000000</th>\n      <td>0.033849</td>\n      <td>0.086879</td>\n      <td>0.099028</td>\n      <td>0.001261</td>\n      <td>0.001789</td>\n      <td>0.087125</td>\n      <td>0.000121</td>\n      <td>0.000321</td>\n      <td>0.101937</td>\n      <td>0.021216</td>\n      <td>1.883875</td>\n      <td>0.004120</td>\n      <td>0.180527</td>\n      <td>0.883004</td>\n      <td>0.372610</td>\n      <td>0.478714</td>\n    </tr>\n    <tr>\n      <th>3000000000</th>\n      <td>0.032934</td>\n      <td>0.087242</td>\n      <td>0.099014</td>\n      <td>0.001394</td>\n      <td>0.001973</td>\n      <td>0.088608</td>\n      <td>0.000093</td>\n      <td>0.000321</td>\n      <td>0.114874</td>\n      <td>0.009718</td>\n      <td>1.872167</td>\n      <td>0.004084</td>\n      <td>0.175646</td>\n      <td>0.886696</td>\n      <td>0.373107</td>\n      <td>0.478483</td>\n    </tr>\n    <tr>\n      <th>3300000000</th>\n      <td>0.033123</td>\n      <td>0.086884</td>\n      <td>0.099033</td>\n      <td>0.001234</td>\n      <td>0.001760</td>\n      <td>0.086914</td>\n      <td>0.000030</td>\n      <td>0.000321</td>\n      <td>0.093406</td>\n      <td>0.002915</td>\n      <td>1.817958</td>\n      <td>0.003860</td>\n      <td>0.176655</td>\n      <td>0.883057</td>\n      <td>0.372796</td>\n      <td>0.477503</td>\n    </tr>\n    <tr>\n      <th>3600000000</th>\n      <td>0.032940</td>\n      <td>0.086894</td>\n      <td>0.099024</td>\n      <td>0.001288</td>\n      <td>0.001819</td>\n      <td>0.087222</td>\n      <td>0.000159</td>\n      <td>0.000321</td>\n      <td>0.113916</td>\n      <td>0.029379</td>\n      <td>1.844583</td>\n      <td>0.004058</td>\n      <td>0.175682</td>\n      <td>0.883155</td>\n      <td>0.372982</td>\n      <td>0.477273</td>\n    </tr>\n  </tbody>\n</table>\n</div>"
     },
     "execution_count": 10,
     "metadata": {},
     "output_type": "execute_result"
    }
   ],
   "source": [
    "df = df.groupby('end time').mean()\n",
    "values = df.astype('float32')\n",
    "values.head(n=10)"
   ],
   "metadata": {
    "collapsed": false,
    "pycharm": {
     "name": "#%%\n"
    }
   }
  },
  {
   "cell_type": "code",
   "execution_count": 11,
   "outputs": [
    {
     "data": {
      "text/plain": "array([[0.3088863 , 0.34507322, 0.9751816 , 0.09868388, 0.11284358,\n        0.44184303, 0.15102541, 0.11149967, 0.23018727, 0.30424133,\n        0.18064666, 0.15671423, 0.3088863 , 0.34507322, 0.11149961,\n        0.25857306],\n       [0.29115832, 0.3191886 , 0.97636986, 0.08539052, 0.09427301,\n        0.33554697, 0.02422158, 0.11137825, 0.11381999, 0.03112756,\n        0.13993764, 0.12078169, 0.29115832, 0.31918764, 0.11137825,\n        0.23456144],\n       [0.2886895 , 0.31598425, 0.9787426 , 0.07944208, 0.08821174,\n        0.29682493, 0.01977844, 0.11140257, 0.09533191, 0.02606792,\n        0.13589978, 0.11752585, 0.2886895 , 0.31598425, 0.11140257,\n        0.23132563],\n       [0.28288814, 0.31507397, 0.9775562 , 0.07966955, 0.08846513,\n        0.29637623, 0.01781333, 0.11152393, 0.09739611, 0.02260417,\n        0.14544106, 0.14594892, 0.28288817, 0.31507397, 0.11152393,\n        0.22508574],\n       [0.28965402, 0.3369913 , 0.9739971 , 0.08951895, 0.10267249,\n        0.40256882, 0.18591617, 0.11242259, 0.17811665, 0.3362599 ,\n        0.15785837, 0.16123047, 0.28965402, 0.33699083, 0.11242259,\n        0.23723245],\n       [0.2914606 , 0.32858133, 0.97636986, 0.08453253, 0.09403224,\n        0.41564846, 0.02764299, 0.11207044, 0.21760473, 0.03692562,\n        0.16225564, 0.1503863 , 0.29146063, 0.32858086, 0.11207038,\n        0.2372272 ],\n       [0.2981509 , 0.31598425, 0.9775562 , 0.07368197, 0.08245974,\n        0.31546116, 0.11734235, 0.11102605, 0.13589221, 0.28783873,\n        0.1888051 , 0.15938589, 0.2981509 , 0.31598425, 0.11102605,\n        0.24108434],\n       [0.28991672, 0.34904194, 0.9739971 , 0.08536725, 0.0990702 ,\n        0.44346476, 0.08875469, 0.11232543, 0.17990056, 0.1259845 ,\n        0.18103385, 0.15364215, 0.28991675, 0.34904146, 0.11232537,\n        0.23984742],\n       [0.29161897, 0.31645775, 0.9787426 , 0.07128642, 0.07980793,\n        0.29723883, 0.02363279, 0.11151183, 0.10687217, 0.03020973,\n        0.14505386, 0.11839232, 0.291619  , 0.31645727, 0.11151177,\n        0.23459578],\n       [0.28997788, 0.3173318 , 0.97636986, 0.07604186, 0.08514182,\n        0.32384777, 0.15649481, 0.11199754, 0.17664436, 0.40274704,\n        0.1627258 , 0.14963141, 0.2899779 , 0.3173313 , 0.11199754,\n        0.23336458]], dtype=float32)"
     },
     "execution_count": 11,
     "metadata": {},
     "output_type": "execute_result"
    }
   ],
   "source": [
    "scaler = MinMaxScaler(feature_range=(0, 1))\n",
    "scaled = scaler.fit_transform(values)\n",
    "\n",
    "scaled[:10]"
   ],
   "metadata": {
    "collapsed": false,
    "pycharm": {
     "name": "#%%\n"
    }
   }
  },
  {
   "cell_type": "code",
   "execution_count": 12,
   "outputs": [],
   "source": [
    "# n_vars = 1 if type(scaled) is list else scaled.shape[0]\n",
    "#\n",
    "# df1 = DataFrame(scaled)\n",
    "#\n",
    "# cols, names = list(), list()\n",
    "#\n",
    "# print(df.shift(1))\n",
    "\n",
    "#for i in range(1, 0, -1):\n",
    " #   cols.append(df.shift(i))\n",
    "def series_to_supervised(data, n_in=1, n_out=1, dropnan=True):\n",
    "    n_vars = 1 if type(data) is list else data.shape[1]\n",
    "    df = DataFrame(data)\n",
    "    cols, names = list(), list()\n",
    "    for i in range(n_in, 0, -1):\n",
    "        cols.append(df.shift(i))\n",
    "        names += [('var%d(t-%d)' % (j + 1, i)) for j in range(n_vars)]\n",
    "    for i in range(0, n_out):\n",
    "        cols.append(df.shift(-i))\n",
    "        if i == 0:\n",
    "            names += [('var%d(t)' % (j + 1)) for j in range(n_vars)]\n",
    "        else:\n",
    "            names += [('var%d(t+%d)' % (j + 1, i)) for j in range(n_vars)]\n",
    "    agg = concat(cols, axis=1)\n",
    "    agg.columns = names\n",
    "    # drop rows with NaN values\n",
    "    agg.fillna(agg.mean(), inplace=True)\n",
    "    if agg.isnull().sum().sum() > 0:\n",
    "        agg.fillna(0., inplace=True)\n",
    "    if dropnan:\n",
    "        agg.dropna(inplace=True, axis='columns')\n",
    "    return agg\n",
    "\n",
    "\n",
    "agg = series_to_supervised(scaled, 12, 1)"
   ],
   "metadata": {
    "collapsed": false,
    "pycharm": {
     "name": "#%%\n"
    }
   }
  },
  {
   "cell_type": "code",
   "execution_count": 13,
   "outputs": [
    {
     "data": {
      "text/plain": "               var1(t-12)  var2(t-12)  var3(t-12)  var4(t-12)  var5(t-12)  \\\nend time                                                                    \n900000000        0.029542    0.086841    0.099031    0.000943    0.001479   \n1200000000       0.029542    0.086841    0.099031    0.000943    0.001479   \n1500000000       0.029542    0.086841    0.099031    0.000943    0.001479   \n1800000000       0.029542    0.086841    0.099031    0.000943    0.001479   \n2100000000       0.029542    0.086841    0.099031    0.000943    0.001479   \n...                   ...         ...         ...         ...         ...   \n2505000000000    0.036580    0.086951    0.099034    0.000850    0.001415   \n2505300000000    0.036514    0.086951    0.099034    0.000877    0.001442   \n2505600000000    0.036406    0.086680    0.099038    0.001019    0.001410   \n2505900000000    0.037586    0.086646    0.099043    0.000943    0.001334   \n2506200000000    0.036434    0.086642    0.099043    0.000899    0.001290   \n\n               var6(t-12)  var7(t-12)  var8(t-12)  var9(t-12)  var10(t-12)  \\\nend time                                                                     \n900000000        0.087053    0.000055    0.000330    0.096222     0.007165   \n1200000000       0.087053    0.000055    0.000330    0.096222     0.007165   \n1500000000       0.087053    0.000055    0.000330    0.096222     0.007165   \n1800000000       0.087053    0.000055    0.000330    0.096222     0.007165   \n2100000000       0.087053    0.000055    0.000330    0.096222     0.007165   \n...                   ...         ...         ...         ...          ...   \n2505000000000    0.086980    0.000055    0.000341    0.101883     0.007165   \n2505300000000    0.087054    0.000055    0.000341    0.092765     0.007165   \n2505600000000    0.086929    0.000055    0.000341    0.098082     0.007165   \n2505900000000    0.086714    0.000055    0.000341    0.102264     0.007165   \n2506200000000    0.086695    0.000055    0.000341    0.099786     0.007165   \n\n               ...  var11(t-1)  var12(t-1)  var13(t-1)  var14(t-1)  \\\nend time       ...                                                   \n900000000      ...    1.806839    0.003907    0.157614    0.882619   \n1200000000     ...    1.871583    0.004103    0.186891    0.886253   \n1500000000     ...    1.810250    0.003875    0.176382    0.883362   \n1800000000     ...    1.804167    0.003854    0.174918    0.883004   \n2100000000     ...    1.818542    0.004035    0.171479    0.882903   \n...            ...         ...         ...         ...         ...   \n2505000000000  ...    1.793333    0.003825    0.203433    0.880642   \n2505300000000  ...    1.795625    0.003827    0.199469    0.880594   \n2505600000000  ...    1.783625    0.003798    0.196757    0.880691   \n2505900000000  ...    1.762833    0.003736    0.187341    0.880594   \n2506200000000  ...    1.760750    0.003773    0.190409    0.880594   \n\n               var15(t-1)  var16(t-1)  var16(t)  var16(t+3)  var16(t+6)  \\\nend time                                                                  \n900000000        0.383410    0.474548  0.481978    0.475728    0.478714   \n1200000000       0.372791    0.481978  0.477496    0.477995    0.478483   \n1500000000       0.372745    0.477496  0.476892    0.477994    0.477503   \n1800000000       0.372754    0.476892  0.475728    0.478714    0.477273   \n2100000000       0.372801    0.475728  0.477995    0.478483    0.481334   \n...                   ...         ...       ...         ...         ...   \n2505000000000    0.395648    0.493241  0.491919    0.488857    0.474547   \n2505300000000    0.395694    0.491919  0.491032    0.490708    0.474547   \n2505600000000    0.395648    0.491032  0.487893    0.474548    0.474547   \n2505900000000    0.395745    0.487893  0.488857    0.474548    0.474547   \n2506200000000    0.395569    0.488857  0.490708    0.474548    0.474547   \n\n               var16(t+12)  \nend time                    \n900000000         0.477721  \n1200000000        0.479382  \n1500000000        0.477883  \n1800000000        0.479542  \n2100000000        0.480739  \n...                    ...  \n2505000000000     0.474544  \n2505300000000     0.474544  \n2505600000000     0.474544  \n2505900000000     0.474544  \n2506200000000     0.474544  \n\n[8352 rows x 196 columns]",
      "text/html": "<div>\n<style scoped>\n    .dataframe tbody tr th:only-of-type {\n        vertical-align: middle;\n    }\n\n    .dataframe tbody tr th {\n        vertical-align: top;\n    }\n\n    .dataframe thead th {\n        text-align: right;\n    }\n</style>\n<table border=\"1\" class=\"dataframe\">\n  <thead>\n    <tr style=\"text-align: right;\">\n      <th></th>\n      <th>var1(t-12)</th>\n      <th>var2(t-12)</th>\n      <th>var3(t-12)</th>\n      <th>var4(t-12)</th>\n      <th>var5(t-12)</th>\n      <th>var6(t-12)</th>\n      <th>var7(t-12)</th>\n      <th>var8(t-12)</th>\n      <th>var9(t-12)</th>\n      <th>var10(t-12)</th>\n      <th>...</th>\n      <th>var11(t-1)</th>\n      <th>var12(t-1)</th>\n      <th>var13(t-1)</th>\n      <th>var14(t-1)</th>\n      <th>var15(t-1)</th>\n      <th>var16(t-1)</th>\n      <th>var16(t)</th>\n      <th>var16(t+3)</th>\n      <th>var16(t+6)</th>\n      <th>var16(t+12)</th>\n    </tr>\n    <tr>\n      <th>end time</th>\n      <th></th>\n      <th></th>\n      <th></th>\n      <th></th>\n      <th></th>\n      <th></th>\n      <th></th>\n      <th></th>\n      <th></th>\n      <th></th>\n      <th></th>\n      <th></th>\n      <th></th>\n      <th></th>\n      <th></th>\n      <th></th>\n      <th></th>\n      <th></th>\n      <th></th>\n      <th></th>\n      <th></th>\n    </tr>\n  </thead>\n  <tbody>\n    <tr>\n      <th>900000000</th>\n      <td>0.029542</td>\n      <td>0.086841</td>\n      <td>0.099031</td>\n      <td>0.000943</td>\n      <td>0.001479</td>\n      <td>0.087053</td>\n      <td>0.000055</td>\n      <td>0.000330</td>\n      <td>0.096222</td>\n      <td>0.007165</td>\n      <td>...</td>\n      <td>1.806839</td>\n      <td>0.003907</td>\n      <td>0.157614</td>\n      <td>0.882619</td>\n      <td>0.383410</td>\n      <td>0.474548</td>\n      <td>0.481978</td>\n      <td>0.475728</td>\n      <td>0.478714</td>\n      <td>0.477721</td>\n    </tr>\n    <tr>\n      <th>1200000000</th>\n      <td>0.029542</td>\n      <td>0.086841</td>\n      <td>0.099031</td>\n      <td>0.000943</td>\n      <td>0.001479</td>\n      <td>0.087053</td>\n      <td>0.000055</td>\n      <td>0.000330</td>\n      <td>0.096222</td>\n      <td>0.007165</td>\n      <td>...</td>\n      <td>1.871583</td>\n      <td>0.004103</td>\n      <td>0.186891</td>\n      <td>0.886253</td>\n      <td>0.372791</td>\n      <td>0.481978</td>\n      <td>0.477496</td>\n      <td>0.477995</td>\n      <td>0.478483</td>\n      <td>0.479382</td>\n    </tr>\n    <tr>\n      <th>1500000000</th>\n      <td>0.029542</td>\n      <td>0.086841</td>\n      <td>0.099031</td>\n      <td>0.000943</td>\n      <td>0.001479</td>\n      <td>0.087053</td>\n      <td>0.000055</td>\n      <td>0.000330</td>\n      <td>0.096222</td>\n      <td>0.007165</td>\n      <td>...</td>\n      <td>1.810250</td>\n      <td>0.003875</td>\n      <td>0.176382</td>\n      <td>0.883362</td>\n      <td>0.372745</td>\n      <td>0.477496</td>\n      <td>0.476892</td>\n      <td>0.477994</td>\n      <td>0.477503</td>\n      <td>0.477883</td>\n    </tr>\n    <tr>\n      <th>1800000000</th>\n      <td>0.029542</td>\n      <td>0.086841</td>\n      <td>0.099031</td>\n      <td>0.000943</td>\n      <td>0.001479</td>\n      <td>0.087053</td>\n      <td>0.000055</td>\n      <td>0.000330</td>\n      <td>0.096222</td>\n      <td>0.007165</td>\n      <td>...</td>\n      <td>1.804167</td>\n      <td>0.003854</td>\n      <td>0.174918</td>\n      <td>0.883004</td>\n      <td>0.372754</td>\n      <td>0.476892</td>\n      <td>0.475728</td>\n      <td>0.478714</td>\n      <td>0.477273</td>\n      <td>0.479542</td>\n    </tr>\n    <tr>\n      <th>2100000000</th>\n      <td>0.029542</td>\n      <td>0.086841</td>\n      <td>0.099031</td>\n      <td>0.000943</td>\n      <td>0.001479</td>\n      <td>0.087053</td>\n      <td>0.000055</td>\n      <td>0.000330</td>\n      <td>0.096222</td>\n      <td>0.007165</td>\n      <td>...</td>\n      <td>1.818542</td>\n      <td>0.004035</td>\n      <td>0.171479</td>\n      <td>0.882903</td>\n      <td>0.372801</td>\n      <td>0.475728</td>\n      <td>0.477995</td>\n      <td>0.478483</td>\n      <td>0.481334</td>\n      <td>0.480739</td>\n    </tr>\n    <tr>\n      <th>...</th>\n      <td>...</td>\n      <td>...</td>\n      <td>...</td>\n      <td>...</td>\n      <td>...</td>\n      <td>...</td>\n      <td>...</td>\n      <td>...</td>\n      <td>...</td>\n      <td>...</td>\n      <td>...</td>\n      <td>...</td>\n      <td>...</td>\n      <td>...</td>\n      <td>...</td>\n      <td>...</td>\n      <td>...</td>\n      <td>...</td>\n      <td>...</td>\n      <td>...</td>\n      <td>...</td>\n    </tr>\n    <tr>\n      <th>2505000000000</th>\n      <td>0.036580</td>\n      <td>0.086951</td>\n      <td>0.099034</td>\n      <td>0.000850</td>\n      <td>0.001415</td>\n      <td>0.086980</td>\n      <td>0.000055</td>\n      <td>0.000341</td>\n      <td>0.101883</td>\n      <td>0.007165</td>\n      <td>...</td>\n      <td>1.793333</td>\n      <td>0.003825</td>\n      <td>0.203433</td>\n      <td>0.880642</td>\n      <td>0.395648</td>\n      <td>0.493241</td>\n      <td>0.491919</td>\n      <td>0.488857</td>\n      <td>0.474547</td>\n      <td>0.474544</td>\n    </tr>\n    <tr>\n      <th>2505300000000</th>\n      <td>0.036514</td>\n      <td>0.086951</td>\n      <td>0.099034</td>\n      <td>0.000877</td>\n      <td>0.001442</td>\n      <td>0.087054</td>\n      <td>0.000055</td>\n      <td>0.000341</td>\n      <td>0.092765</td>\n      <td>0.007165</td>\n      <td>...</td>\n      <td>1.795625</td>\n      <td>0.003827</td>\n      <td>0.199469</td>\n      <td>0.880594</td>\n      <td>0.395694</td>\n      <td>0.491919</td>\n      <td>0.491032</td>\n      <td>0.490708</td>\n      <td>0.474547</td>\n      <td>0.474544</td>\n    </tr>\n    <tr>\n      <th>2505600000000</th>\n      <td>0.036406</td>\n      <td>0.086680</td>\n      <td>0.099038</td>\n      <td>0.001019</td>\n      <td>0.001410</td>\n      <td>0.086929</td>\n      <td>0.000055</td>\n      <td>0.000341</td>\n      <td>0.098082</td>\n      <td>0.007165</td>\n      <td>...</td>\n      <td>1.783625</td>\n      <td>0.003798</td>\n      <td>0.196757</td>\n      <td>0.880691</td>\n      <td>0.395648</td>\n      <td>0.491032</td>\n      <td>0.487893</td>\n      <td>0.474548</td>\n      <td>0.474547</td>\n      <td>0.474544</td>\n    </tr>\n    <tr>\n      <th>2505900000000</th>\n      <td>0.037586</td>\n      <td>0.086646</td>\n      <td>0.099043</td>\n      <td>0.000943</td>\n      <td>0.001334</td>\n      <td>0.086714</td>\n      <td>0.000055</td>\n      <td>0.000341</td>\n      <td>0.102264</td>\n      <td>0.007165</td>\n      <td>...</td>\n      <td>1.762833</td>\n      <td>0.003736</td>\n      <td>0.187341</td>\n      <td>0.880594</td>\n      <td>0.395745</td>\n      <td>0.487893</td>\n      <td>0.488857</td>\n      <td>0.474548</td>\n      <td>0.474547</td>\n      <td>0.474544</td>\n    </tr>\n    <tr>\n      <th>2506200000000</th>\n      <td>0.036434</td>\n      <td>0.086642</td>\n      <td>0.099043</td>\n      <td>0.000899</td>\n      <td>0.001290</td>\n      <td>0.086695</td>\n      <td>0.000055</td>\n      <td>0.000341</td>\n      <td>0.099786</td>\n      <td>0.007165</td>\n      <td>...</td>\n      <td>1.760750</td>\n      <td>0.003773</td>\n      <td>0.190409</td>\n      <td>0.880594</td>\n      <td>0.395569</td>\n      <td>0.488857</td>\n      <td>0.490708</td>\n      <td>0.474548</td>\n      <td>0.474547</td>\n      <td>0.474544</td>\n    </tr>\n  </tbody>\n</table>\n<p>8352 rows × 196 columns</p>\n</div>"
     },
     "execution_count": 13,
     "metadata": {},
     "output_type": "execute_result"
    }
   ],
   "source": [
    "lcomp = [i for i in range(values.shape[1], (2 * values.shape[1]) - 1)]\n",
    "\n",
    "\n",
    "def extract_train_test_custom(values, scaled, scaler, targets, sliding_window=1, dropnan=True):\n",
    "    # n_vars = 1 if type(values) is list else values.shape\n",
    "    df = DataFrame(values)\n",
    "    cols, names = list(), list()\n",
    "    for i in range(sliding_window, 0, -1):\n",
    "        cols.append(df.shift(i))\n",
    "        names += [('var%d(t-%d)' % (j + 1, i)) for j in range(values.shape[1])]\n",
    "    for i in targets:\n",
    "        cols.append(df.shift(-i).iloc[:, -1])\n",
    "        if i == 0:\n",
    "            names += ['var%d(t)' % df.shape[1]]\n",
    "        else:\n",
    "            names += ['var%d(t+%d)' % (df.shape[1], i)]\n",
    "\n",
    "    #print(len(cols), len(names))\n",
    "    #print(cols)\n",
    "    agg = concat(cols, axis=1)\n",
    "    agg.columns = names\n",
    "\n",
    "    agg.fillna(agg.mean(), inplace=True)\n",
    "    if agg.isnull().sum().sum() > 0:\n",
    "        agg.fillna(0., inplace=True)\n",
    "    if dropnan:\n",
    "        agg.dropna(inplace=True, axis='columns')\n",
    "\n",
    "    return agg\n",
    "\n",
    "\n",
    "#d = DataFrame(values)\n",
    "#d\n",
    "\n",
    "extract_train_test_custom(values, scaled, scaler, targets=[0, 3, 6, 12], sliding_window=12)\n",
    "# t_1\n",
    "\n",
    "\n",
    "# refr_df = t_3.drop(t_3.columns[lcomp], axis=1)\n",
    "# refr_df"
   ],
   "metadata": {
    "collapsed": false,
    "pycharm": {
     "name": "#%%\n"
    }
   }
  },
  {
   "cell_type": "code",
   "execution_count": 14,
   "outputs": [
    {
     "data": {
      "text/plain": "               CPU rate  canonical memory usage  assigned memory usage  \\\nend time                                                                 \n900000000      0.035042                0.087198               0.099019   \n1200000000     0.033072                0.086914               0.099024   \n1500000000     0.032797                0.086879               0.099033   \n1800000000     0.032152                0.086869               0.099028   \n2100000000     0.032904                0.087110               0.099014   \n...                 ...                     ...                    ...   \n2505000000000  0.037400                0.086642               0.099038   \n2505300000000  0.036892                0.086651               0.099038   \n2505600000000  0.035126                0.086642               0.099038   \n2505900000000  0.035702                0.086642               0.099038   \n2506200000000  0.036736                0.086642               0.099034   \n\n               unmapped page cache  total page cache  maximum memory usage  \\\nend time                                                                     \n900000000                 0.001545          0.002126              0.088590   \n1200000000                0.001394          0.001920              0.087358   \n1500000000                0.001326          0.001853              0.086909   \n1800000000                0.001329          0.001856              0.086904   \n2100000000                0.001441          0.002013              0.088134   \n...                            ...               ...                   ...   \n2505000000000             0.000760          0.001151              0.086685   \n2505300000000             0.000701          0.001091              0.086690   \n2505600000000             0.000699          0.001089              0.086685   \n2505900000000             0.000727          0.001117              0.086704   \n2506200000000             0.000741          0.001131              0.086690   \n\n               disk I/O time  local disk space usage  maximum CPU rate  \\\nend time                                                                 \n900000000           0.000154                0.000321          0.129656   \n1200000000          0.000031                0.000321          0.095448   \n1500000000          0.000026                0.000321          0.090014   \n1800000000          0.000025                0.000321          0.090620   \n2100000000          0.000188                0.000321          0.114349   \n...                      ...                     ...               ...   \n2505000000000            NaN                0.000341          0.103828   \n2505300000000            NaN                0.000341          0.106115   \n2505600000000            NaN                0.000341          0.096773   \n2505900000000            NaN                0.000341          0.096228   \n2506200000000            NaN                0.000341          0.100022   \n\n               maximum disk IO time  cycles per instruction  \\\nend time                                                      \n900000000                  0.022381                1.871583   \n1200000000                 0.002980                1.810250   \n1500000000                 0.002620                1.804167   \n1800000000                 0.002374                1.818542   \n2100000000                 0.024656                1.837250   \n...                             ...                     ...   \n2505000000000                   NaN                1.795625   \n2505300000000                   NaN                1.783625   \n2505600000000                   NaN                1.762833   \n2505900000000                   NaN                1.760750   \n2506200000000                   NaN                1.753583   \n\n               memory accesses per instruction  CPU ratio usage  \\\nend time                                                          \n900000000                             0.004103         0.186891   \n1200000000                            0.003875         0.176382   \n1500000000                            0.003854         0.174918   \n1800000000                            0.004035         0.171479   \n2100000000                            0.004132         0.175490   \n...                                        ...              ...   \n2505000000000                         0.003827         0.199469   \n2505300000000                         0.003798         0.196757   \n2505600000000                         0.003736         0.187341   \n2505900000000                         0.003773         0.190409   \n2506200000000                         0.003721         0.195927   \n\n               memory ratio usage  disk ratio usage  Efficiency  \nend time                                                         \n900000000                0.886253          0.372791    0.481978  \n1200000000               0.883362          0.372745    0.477496  \n1500000000               0.883004          0.372754    0.476892  \n1800000000               0.882903          0.372801    0.475728  \n2100000000               0.885350          0.373144    0.477995  \n...                           ...               ...         ...  \n2505000000000            0.880594          0.395694    0.491919  \n2505300000000            0.880691          0.395648    0.491032  \n2505600000000            0.880594          0.395745    0.487893  \n2505900000000            0.880594          0.395569    0.488857  \n2506200000000            0.880594          0.395601    0.490708  \n\n[8352 rows x 16 columns]",
      "text/html": "<div>\n<style scoped>\n    .dataframe tbody tr th:only-of-type {\n        vertical-align: middle;\n    }\n\n    .dataframe tbody tr th {\n        vertical-align: top;\n    }\n\n    .dataframe thead th {\n        text-align: right;\n    }\n</style>\n<table border=\"1\" class=\"dataframe\">\n  <thead>\n    <tr style=\"text-align: right;\">\n      <th></th>\n      <th>CPU rate</th>\n      <th>canonical memory usage</th>\n      <th>assigned memory usage</th>\n      <th>unmapped page cache</th>\n      <th>total page cache</th>\n      <th>maximum memory usage</th>\n      <th>disk I/O time</th>\n      <th>local disk space usage</th>\n      <th>maximum CPU rate</th>\n      <th>maximum disk IO time</th>\n      <th>cycles per instruction</th>\n      <th>memory accesses per instruction</th>\n      <th>CPU ratio usage</th>\n      <th>memory ratio usage</th>\n      <th>disk ratio usage</th>\n      <th>Efficiency</th>\n    </tr>\n    <tr>\n      <th>end time</th>\n      <th></th>\n      <th></th>\n      <th></th>\n      <th></th>\n      <th></th>\n      <th></th>\n      <th></th>\n      <th></th>\n      <th></th>\n      <th></th>\n      <th></th>\n      <th></th>\n      <th></th>\n      <th></th>\n      <th></th>\n      <th></th>\n    </tr>\n  </thead>\n  <tbody>\n    <tr>\n      <th>900000000</th>\n      <td>0.035042</td>\n      <td>0.087198</td>\n      <td>0.099019</td>\n      <td>0.001545</td>\n      <td>0.002126</td>\n      <td>0.088590</td>\n      <td>0.000154</td>\n      <td>0.000321</td>\n      <td>0.129656</td>\n      <td>0.022381</td>\n      <td>1.871583</td>\n      <td>0.004103</td>\n      <td>0.186891</td>\n      <td>0.886253</td>\n      <td>0.372791</td>\n      <td>0.481978</td>\n    </tr>\n    <tr>\n      <th>1200000000</th>\n      <td>0.033072</td>\n      <td>0.086914</td>\n      <td>0.099024</td>\n      <td>0.001394</td>\n      <td>0.001920</td>\n      <td>0.087358</td>\n      <td>0.000031</td>\n      <td>0.000321</td>\n      <td>0.095448</td>\n      <td>0.002980</td>\n      <td>1.810250</td>\n      <td>0.003875</td>\n      <td>0.176382</td>\n      <td>0.883362</td>\n      <td>0.372745</td>\n      <td>0.477496</td>\n    </tr>\n    <tr>\n      <th>1500000000</th>\n      <td>0.032797</td>\n      <td>0.086879</td>\n      <td>0.099033</td>\n      <td>0.001326</td>\n      <td>0.001853</td>\n      <td>0.086909</td>\n      <td>0.000026</td>\n      <td>0.000321</td>\n      <td>0.090014</td>\n      <td>0.002620</td>\n      <td>1.804167</td>\n      <td>0.003854</td>\n      <td>0.174918</td>\n      <td>0.883004</td>\n      <td>0.372754</td>\n      <td>0.476892</td>\n    </tr>\n    <tr>\n      <th>1800000000</th>\n      <td>0.032152</td>\n      <td>0.086869</td>\n      <td>0.099028</td>\n      <td>0.001329</td>\n      <td>0.001856</td>\n      <td>0.086904</td>\n      <td>0.000025</td>\n      <td>0.000321</td>\n      <td>0.090620</td>\n      <td>0.002374</td>\n      <td>1.818542</td>\n      <td>0.004035</td>\n      <td>0.171479</td>\n      <td>0.882903</td>\n      <td>0.372801</td>\n      <td>0.475728</td>\n    </tr>\n    <tr>\n      <th>2100000000</th>\n      <td>0.032904</td>\n      <td>0.087110</td>\n      <td>0.099014</td>\n      <td>0.001441</td>\n      <td>0.002013</td>\n      <td>0.088134</td>\n      <td>0.000188</td>\n      <td>0.000321</td>\n      <td>0.114349</td>\n      <td>0.024656</td>\n      <td>1.837250</td>\n      <td>0.004132</td>\n      <td>0.175490</td>\n      <td>0.885350</td>\n      <td>0.373144</td>\n      <td>0.477995</td>\n    </tr>\n    <tr>\n      <th>...</th>\n      <td>...</td>\n      <td>...</td>\n      <td>...</td>\n      <td>...</td>\n      <td>...</td>\n      <td>...</td>\n      <td>...</td>\n      <td>...</td>\n      <td>...</td>\n      <td>...</td>\n      <td>...</td>\n      <td>...</td>\n      <td>...</td>\n      <td>...</td>\n      <td>...</td>\n      <td>...</td>\n    </tr>\n    <tr>\n      <th>2505000000000</th>\n      <td>0.037400</td>\n      <td>0.086642</td>\n      <td>0.099038</td>\n      <td>0.000760</td>\n      <td>0.001151</td>\n      <td>0.086685</td>\n      <td>NaN</td>\n      <td>0.000341</td>\n      <td>0.103828</td>\n      <td>NaN</td>\n      <td>1.795625</td>\n      <td>0.003827</td>\n      <td>0.199469</td>\n      <td>0.880594</td>\n      <td>0.395694</td>\n      <td>0.491919</td>\n    </tr>\n    <tr>\n      <th>2505300000000</th>\n      <td>0.036892</td>\n      <td>0.086651</td>\n      <td>0.099038</td>\n      <td>0.000701</td>\n      <td>0.001091</td>\n      <td>0.086690</td>\n      <td>NaN</td>\n      <td>0.000341</td>\n      <td>0.106115</td>\n      <td>NaN</td>\n      <td>1.783625</td>\n      <td>0.003798</td>\n      <td>0.196757</td>\n      <td>0.880691</td>\n      <td>0.395648</td>\n      <td>0.491032</td>\n    </tr>\n    <tr>\n      <th>2505600000000</th>\n      <td>0.035126</td>\n      <td>0.086642</td>\n      <td>0.099038</td>\n      <td>0.000699</td>\n      <td>0.001089</td>\n      <td>0.086685</td>\n      <td>NaN</td>\n      <td>0.000341</td>\n      <td>0.096773</td>\n      <td>NaN</td>\n      <td>1.762833</td>\n      <td>0.003736</td>\n      <td>0.187341</td>\n      <td>0.880594</td>\n      <td>0.395745</td>\n      <td>0.487893</td>\n    </tr>\n    <tr>\n      <th>2505900000000</th>\n      <td>0.035702</td>\n      <td>0.086642</td>\n      <td>0.099038</td>\n      <td>0.000727</td>\n      <td>0.001117</td>\n      <td>0.086704</td>\n      <td>NaN</td>\n      <td>0.000341</td>\n      <td>0.096228</td>\n      <td>NaN</td>\n      <td>1.760750</td>\n      <td>0.003773</td>\n      <td>0.190409</td>\n      <td>0.880594</td>\n      <td>0.395569</td>\n      <td>0.488857</td>\n    </tr>\n    <tr>\n      <th>2506200000000</th>\n      <td>0.036736</td>\n      <td>0.086642</td>\n      <td>0.099034</td>\n      <td>0.000741</td>\n      <td>0.001131</td>\n      <td>0.086690</td>\n      <td>NaN</td>\n      <td>0.000341</td>\n      <td>0.100022</td>\n      <td>NaN</td>\n      <td>1.753583</td>\n      <td>0.003721</td>\n      <td>0.195927</td>\n      <td>0.880594</td>\n      <td>0.395601</td>\n      <td>0.490708</td>\n    </tr>\n  </tbody>\n</table>\n<p>8352 rows × 16 columns</p>\n</div>"
     },
     "execution_count": 14,
     "metadata": {},
     "output_type": "execute_result"
    }
   ],
   "source": [
    "DataFrame(values)"
   ],
   "metadata": {
    "collapsed": false,
    "pycharm": {
     "name": "#%%\n"
    }
   }
  }
 ],
 "metadata": {
  "kernelspec": {
   "display_name": "Python 3 (ipykernel)",
   "language": "python",
   "name": "python3"
  },
  "language_info": {
   "codemirror_mode": {
    "name": "ipython",
    "version": 3
   },
   "file_extension": ".py",
   "mimetype": "text/x-python",
   "name": "python",
   "nbconvert_exporter": "python",
   "pygments_lexer": "ipython3",
   "version": "3.9.7"
  }
 },
 "nbformat": 4,
 "nbformat_minor": 5
}