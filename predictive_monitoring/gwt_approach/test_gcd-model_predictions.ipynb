{
 "cells": [
  {
   "cell_type": "markdown",
   "id": "1231d456-8d09-4118-8602-2cba7139ecb8",
   "metadata": {},
   "source": [
    "GWT Approach"
   ]
  },
  {
   "cell_type": "code",
   "execution_count": null,
   "id": "a2bdace7-9820-47c7-9591-0f03157f9229",
   "metadata": {},
   "outputs": [],
   "source": [
    "import sys\n",
    "from math import sqrt\n",
    "from matplotli import pyplot"
   ]
  }
 ],
 "metadata": {
  "kernelspec": {
   "display_name": "Python 3 (ipykernel)",
   "language": "python",
   "name": "python3"
  },
  "language_info": {
   "codemirror_mode": {
    "name": "ipython",
    "version": 3
   },
   "file_extension": ".py",
   "mimetype": "text/x-python",
   "name": "python",
   "nbconvert_exporter": "python",
   "pygments_lexer": "ipython3",
   "version": "3.10.0"
  }
 },
 "nbformat": 4,
 "nbformat_minor": 5
}
