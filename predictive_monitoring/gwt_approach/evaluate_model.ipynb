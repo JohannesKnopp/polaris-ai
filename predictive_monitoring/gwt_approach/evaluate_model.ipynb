{
 "cells": [
  {
   "cell_type": "code",
   "execution_count": 13,
   "metadata": {
    "collapsed": true
   },
   "outputs": [],
   "source": [
    "import os\n",
    "\n",
    "import torch\n",
    "import json\n",
    "import torch.nn as nn\n",
    "from torch.utils.data import DataLoader\n",
    "from collections import defaultdict\n",
    "from matplotlib import pyplot\n",
    "import numpy as np\n",
    "import pandas as pd\n",
    "\n",
    "from gcd_data_manipulation import ClusterDataset\n",
    "from gcd_data_manipulation import prepare_data\n",
    "from shared_workspace_module import SharedWorkspaceModule"
   ]
  },
  {
   "cell_type": "code",
   "execution_count": 77,
   "outputs": [],
   "source": [
    "job_id = 6318371744\n",
    "device = 'cuda' if torch.cuda.is_available() else 'cpu'\n",
    "\n",
    "def rmse(yhat, y):\n",
    "    print(type(yhat), type(y))\n",
    "    return np.sqrt(np.mean((y - yhat)**2))\n",
    "\n",
    "\n",
    "def rmspe(yhat, y):\n",
    "    # EPSILON = 1e-10\n",
    "    # print(((y - yhat) / (y + EPSILON))**2)\n",
    "    return rmse(yhat, y) / np.mean(y)\n",
    "\n",
    "def rmsse_2(yhat, y):\n",
    "    e = y - yhat\n",
    "    m = 1 / (len(y) - 1)\n",
    "    t = np.sum(abs(np.delete((y - np.roll(y, 1)), 0)))\n",
    "\n",
    "    print((m * t)**2)\n",
    "\n",
    "    # return np.sqrt((e / (m * t))**2)\n",
    "    return np.sqrt(np.mean((e / (m * t))**2))\n",
    "\n",
    "def lag_rmse(y):\n",
    "    yhat = np.delete(np.roll(y, 1), 0)\n",
    "    y = np.delete(y, 0)\n",
    "    # print(y)\n",
    "    # print(yhat)\n",
    "    return rmse(yhat, y)\n",
    "\n",
    "def rmsse(yhat, y):\n",
    "    e_2 = (y - yhat)**2\n",
    "    m = 1 / (len(y) - 1)\n",
    "    t = np.sum(abs(np.delete((y - np.roll(y, 1)), 0)))\n",
    "    return np.sqrt(np.mean(e_2 / (m * t)))\n"
   ],
   "metadata": {
    "collapsed": false,
    "pycharm": {
     "name": "#%%\n"
    }
   }
  },
  {
   "cell_type": "code",
   "execution_count": 16,
   "outputs": [],
   "source": [
    "def test_model(exp):\n",
    "    #print(os.getcwd())\n",
    "    #pass\n",
    "    checkpoint = torch.load(f'../models/gwt_models/gwt_model_{exp}.pth')\n",
    "\n",
    "    args = checkpoint['model_args']\n",
    "    print(f'last epoch: {checkpoint[\"epoch\"]}')\n",
    "    print(f'last loss: {checkpoint[\"loss\"]}')\n",
    "\n",
    "    with open('columns_selection.json') as f:\n",
    "        columns_selection = json.load(f)\n",
    "\n",
    "    columns_to_consider = columns_selection[args.columns_to_consider]\n",
    "    num_targets = len(args.prediction_targets)\n",
    "\n",
    "    preprocessed_data = prepare_data(f'../data/task-usage_job-ID-{job_id}_total.csv', columns_to_consider, targets=args.prediction_targets, sliding_window=args.sliding_window, aggr_type='mean')\n",
    "\n",
    "    test_data = ClusterDataset(preprocessed_data, num_targets=num_targets, training=True, split_percentage=1)\n",
    "    test_data.values.to(device)\n",
    "\n",
    "    model = SharedWorkspaceModule(\n",
    "        h_dim=args.h_dim,\n",
    "        ffn_dim=args.ffn_dim,\n",
    "        num_layers=args.num_layers,\n",
    "        num_heads=args.num_heads,\n",
    "        dropout=args.dropout,\n",
    "        shared_memory_attention=args.shared_memory_attention,\n",
    "        share_vanilla_parameters=args.share_vanilla_parameters,\n",
    "        use_topk=args.use_topk,\n",
    "        topk=args.topk,\n",
    "        mem_slots=args.mem_slots,\n",
    "        num_targets=num_targets\n",
    "    ).cuda()\n",
    "\n",
    "    model.load_state_dict(checkpoint['state_dict'])\n",
    "\n",
    "    model.eval()\n",
    "\n",
    "    test_loader = DataLoader(test_data, batch_size=args.batch_size)\n",
    "    criterion = nn.L1Loss(reduction='sum').cuda()\n",
    "    result = defaultdict(list)\n",
    "\n",
    "    with torch.no_grad():\n",
    "        for batch_idx, (inputs, targets) in enumerate(test_loader):\n",
    "            if num_targets == 1:\n",
    "                targets = targets.reshape((targets.shape[0], 1))\n",
    "\n",
    "            inputs, targets = inputs.to(device), targets.to(device)\n",
    "            outputs = model(inputs)\n",
    "            loss = criterion(outputs, targets)\n",
    "\n",
    "            test_loss = loss.item() / targets.shape[0]\n",
    "\n",
    "            result['loss'].append(test_loss)\n",
    "\n",
    "            for pred in outputs:\n",
    "                result['predicted_value'].append(pred.to('cpu').numpy())\n",
    "\n",
    "            for act in targets:\n",
    "                result['actual_value'].append(act.to('cpu').numpy())\n",
    "\n",
    "    return result"
   ],
   "metadata": {
    "collapsed": false,
    "pycharm": {
     "name": "#%%\n"
    }
   }
  },
  {
   "cell_type": "code",
   "execution_count": 78,
   "outputs": [],
   "source": [
    "def eval_result(result):\n",
    "    print(f'Loss: {result[\"loss\"]}')\n",
    "    # print(type(result[\"predicted_value\"]), np.array(result[\"predicted_value\"]))\n",
    "    #print(f'RMSE: {rmse(np.array(result[\"predicted_value\"]), np.array(result[\"actual_value\"]))}')\n",
    "    #print(f'RMSPE: {rmspe(np.array(result[\"predicted_value\"]), np.array(result[\"actual_value\"]))}')\n",
    "    # print(np.array(result[\"actual_value\"]))\n",
    "    #print(f'RMSSE: {rmsse(np.array(result[\"predicted_value\"]), np.array(result[\"actual_value\"]))}')\n",
    "    print(f'RMSSE 2: {rmsse_2(np.array(result[\"predicted_value\"]), np.array(result[\"actual_value\"]))}')\n",
    "    print(f'LAG: {lag_rmse(np.array(result[\"actual_value\"]))}')\n",
    "\n",
    "\n",
    "\n"
   ],
   "metadata": {
    "collapsed": false,
    "pycharm": {
     "name": "#%%\n"
    }
   }
  },
  {
   "cell_type": "code",
   "execution_count": 80,
   "outputs": [
    {
     "name": "stdout",
     "output_type": "stream",
     "text": [
      "last epoch: 100\n",
      "last loss: 0.027329015947962478\n",
      "transformer embed_dim 64\n",
      "functional? False\n",
      "total heads 2\n",
      "head dim 32\n",
      "use topk?True\n",
      "topk:4\n",
      "MEM SLOTS:6\n",
      "Null attention:False\n",
      "USING SHARED MEMORY ATTENTION +++++++++\n",
      "Using gate style unit\n",
      "query:4160\n",
      "key:4160\n",
      "value:4160\n",
      "attention_mlp:4160\n",
      "layernorm1:128\n",
      "layernorm2:128\n",
      "input_projector:4160\n",
      "input projector:64\n",
      "input_gate_projector:27584\n",
      "memory_gate_projector:49920\n",
      "relational volatie!!!\n",
      "Loss: [0.14742141857481839]\n",
      "0.01091309796404014\n",
      "RMSSE 2: 2.682858467102051\n",
      "<class 'numpy.ndarray'> <class 'numpy.ndarray'>\n",
      "LAG: 0.23879042267799377\n"
     ]
    },
    {
     "name": "stderr",
     "output_type": "stream",
     "text": [
      "d:\\uni\\bachelorarbeit\\repo\\polaris-ai\\venv\\lib\\site-packages\\torch\\nn\\functional.py:1944: UserWarning: nn.functional.sigmoid is deprecated. Use torch.sigmoid instead.\n",
      "  warnings.warn(\"nn.functional.sigmoid is deprecated. Use torch.sigmoid instead.\")\n"
     ]
    }
   ],
   "source": [
    "res = test_model('ray_tune_result')\n",
    "eval_result(res)"
   ],
   "metadata": {
    "collapsed": false,
    "pycharm": {
     "name": "#%%\n"
    }
   }
  },
  {
   "cell_type": "markdown",
   "source": [
    "# tr_sw_baseline model:\n",
    "RMSE: 0.293494313955307\n",
    "RMSPE: 0.9888595342636108\n",
    "RMSSE: 0.9080561399459839\n",
    "\n",
    "# ray_results\n",
    "RMSE: 0.2802668809890747\n",
    "RMSPE: 0.9442927837371826\n",
    "RMSSE: 2.682858467102051\n",
    "\n",
    "# tr_sw_t0_lb24\n",
    "RMSE: 0.4566091001033783\n",
    "RMSPE: 1.5384360551834106\n",
    "RMSSE: 1.4127246141433716\n"
   ],
   "metadata": {
    "collapsed": false,
    "pycharm": {
     "name": "#%% md\n"
    }
   }
  }
 ],
 "metadata": {
  "kernelspec": {
   "display_name": "Python 3",
   "language": "python",
   "name": "python3"
  },
  "language_info": {
   "codemirror_mode": {
    "name": "ipython",
    "version": 2
   },
   "file_extension": ".py",
   "mimetype": "text/x-python",
   "name": "python",
   "nbconvert_exporter": "python",
   "pygments_lexer": "ipython2",
   "version": "2.7.6"
  }
 },
 "nbformat": 4,
 "nbformat_minor": 0
}